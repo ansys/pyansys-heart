{
 "cells": [
  {
   "cell_type": "markdown",
   "metadata": {},
   "source": [
    "## Generate a new model:\n",
    "\n",
    "New Model = Average Model + PCA Deformation\n"
   ]
  },
  {
   "cell_type": "code",
   "execution_count": 3,
   "metadata": {},
   "outputs": [],
   "source": [
    "# path_to_your_vtk_file = r'D:\\xuhu\\humanshape\\PCA_model_registration\\meanShape.mat'\n",
    "path_to_your_vtk_file = r'D:\\xuhu\\humanshape\\PCA_model_registration\\input\\Torso.mat'\n",
    "path_to_evectors = r'D:\\xuhu\\humanshape\\PCA_model_registration\\input\\evectors.mat'\n",
    "path_to_evalues = r'D:\\xuhu\\humanshape\\PCA_model_registration\\input\\evalues.mat'\n",
    "path_to_save = r'D:\\xuhu\\humanshape\\PCA_model_registration\\deformed_shape.vtk'"
   ]
  },
  {
   "cell_type": "code",
   "execution_count": 2,
   "metadata": {},
   "outputs": [
    {
     "ename": "FileNotFoundError",
     "evalue": "[Errno 2] No such file or directory: 'D:\\\\xuhu\\\\humanshape\\\\PCA_model_registration\\\\Torso.mat'",
     "output_type": "error",
     "traceback": [
      "\u001b[1;31m---------------------------------------------------------------------------\u001b[0m",
      "\u001b[1;31mFileNotFoundError\u001b[0m                         Traceback (most recent call last)",
      "File \u001b[1;32mc:\\ProgramData\\miniforge3\\envs\\env39\\lib\\site-packages\\scipy\\io\\matlab\\_mio.py:39\u001b[0m, in \u001b[0;36m_open_file\u001b[1;34m(file_like, appendmat, mode)\u001b[0m\n\u001b[0;32m     38\u001b[0m \u001b[39mtry\u001b[39;00m:\n\u001b[1;32m---> 39\u001b[0m     \u001b[39mreturn\u001b[39;00m \u001b[39mopen\u001b[39;49m(file_like, mode), \u001b[39mTrue\u001b[39;00m\n\u001b[0;32m     40\u001b[0m \u001b[39mexcept\u001b[39;00m \u001b[39mOSError\u001b[39;00m \u001b[39mas\u001b[39;00m e:\n\u001b[0;32m     41\u001b[0m     \u001b[39m# Probably \"not found\"\u001b[39;00m\n",
      "\u001b[1;31mFileNotFoundError\u001b[0m: [Errno 2] No such file or directory: 'D:\\\\xuhu\\\\humanshape\\\\PCA_model_registration\\\\Torso.mat'",
      "\nDuring handling of the above exception, another exception occurred:\n",
      "\u001b[1;31mFileNotFoundError\u001b[0m                         Traceback (most recent call last)",
      "Cell \u001b[1;32mIn[2], line 5\u001b[0m\n\u001b[0;32m      2\u001b[0m \u001b[39mimport\u001b[39;00m \u001b[39mvtk\u001b[39;00m\n\u001b[0;32m      3\u001b[0m \u001b[39mimport\u001b[39;00m \u001b[39mnumpy\u001b[39;00m \u001b[39mas\u001b[39;00m \u001b[39mnp\u001b[39;00m\n\u001b[1;32m----> 5\u001b[0m mean_model \u001b[39m=\u001b[39m loadmat(path_to_your_vtk_file)[\u001b[39m'\u001b[39m\u001b[39mpoints\u001b[39m\u001b[39m'\u001b[39m]\n\u001b[0;32m      6\u001b[0m eigenvalues \u001b[39m=\u001b[39m loadmat(path_to_evalues)[\u001b[39m'\u001b[39m\u001b[39mevalues\u001b[39m\u001b[39m'\u001b[39m]\n\u001b[0;32m      7\u001b[0m eigenvectors \u001b[39m=\u001b[39m loadmat(path_to_evectors)[\u001b[39m'\u001b[39m\u001b[39mevectors\u001b[39m\u001b[39m'\u001b[39m]\n",
      "File \u001b[1;32mc:\\ProgramData\\miniforge3\\envs\\env39\\lib\\site-packages\\scipy\\io\\matlab\\_mio.py:225\u001b[0m, in \u001b[0;36mloadmat\u001b[1;34m(file_name, mdict, appendmat, **kwargs)\u001b[0m\n\u001b[0;32m     88\u001b[0m \u001b[39m\u001b[39m\u001b[39m\"\"\"\u001b[39;00m\n\u001b[0;32m     89\u001b[0m \u001b[39mLoad MATLAB file.\u001b[39;00m\n\u001b[0;32m     90\u001b[0m \n\u001b[1;32m   (...)\u001b[0m\n\u001b[0;32m    222\u001b[0m \u001b[39m    3.14159265+3.14159265j])\u001b[39;00m\n\u001b[0;32m    223\u001b[0m \u001b[39m\"\"\"\u001b[39;00m\n\u001b[0;32m    224\u001b[0m variable_names \u001b[39m=\u001b[39m kwargs\u001b[39m.\u001b[39mpop(\u001b[39m'\u001b[39m\u001b[39mvariable_names\u001b[39m\u001b[39m'\u001b[39m, \u001b[39mNone\u001b[39;00m)\n\u001b[1;32m--> 225\u001b[0m \u001b[39mwith\u001b[39;00m _open_file_context(file_name, appendmat) \u001b[39mas\u001b[39;00m f:\n\u001b[0;32m    226\u001b[0m     MR, _ \u001b[39m=\u001b[39m mat_reader_factory(f, \u001b[39m*\u001b[39m\u001b[39m*\u001b[39mkwargs)\n\u001b[0;32m    227\u001b[0m     matfile_dict \u001b[39m=\u001b[39m MR\u001b[39m.\u001b[39mget_variables(variable_names)\n",
      "File \u001b[1;32mc:\\ProgramData\\miniforge3\\envs\\env39\\lib\\contextlib.py:119\u001b[0m, in \u001b[0;36m_GeneratorContextManager.__enter__\u001b[1;34m(self)\u001b[0m\n\u001b[0;32m    117\u001b[0m \u001b[39mdel\u001b[39;00m \u001b[39mself\u001b[39m\u001b[39m.\u001b[39margs, \u001b[39mself\u001b[39m\u001b[39m.\u001b[39mkwds, \u001b[39mself\u001b[39m\u001b[39m.\u001b[39mfunc\n\u001b[0;32m    118\u001b[0m \u001b[39mtry\u001b[39;00m:\n\u001b[1;32m--> 119\u001b[0m     \u001b[39mreturn\u001b[39;00m \u001b[39mnext\u001b[39;49m(\u001b[39mself\u001b[39;49m\u001b[39m.\u001b[39;49mgen)\n\u001b[0;32m    120\u001b[0m \u001b[39mexcept\u001b[39;00m \u001b[39mStopIteration\u001b[39;00m:\n\u001b[0;32m    121\u001b[0m     \u001b[39mraise\u001b[39;00m \u001b[39mRuntimeError\u001b[39;00m(\u001b[39m\"\u001b[39m\u001b[39mgenerator didn\u001b[39m\u001b[39m'\u001b[39m\u001b[39mt yield\u001b[39m\u001b[39m\"\u001b[39m) \u001b[39mfrom\u001b[39;00m \u001b[39mNone\u001b[39;00m\n",
      "File \u001b[1;32mc:\\ProgramData\\miniforge3\\envs\\env39\\lib\\site-packages\\scipy\\io\\matlab\\_mio.py:17\u001b[0m, in \u001b[0;36m_open_file_context\u001b[1;34m(file_like, appendmat, mode)\u001b[0m\n\u001b[0;32m     15\u001b[0m \u001b[39m@contextmanager\u001b[39m\n\u001b[0;32m     16\u001b[0m \u001b[39mdef\u001b[39;00m \u001b[39m_open_file_context\u001b[39m(file_like, appendmat, mode\u001b[39m=\u001b[39m\u001b[39m'\u001b[39m\u001b[39mrb\u001b[39m\u001b[39m'\u001b[39m):\n\u001b[1;32m---> 17\u001b[0m     f, opened \u001b[39m=\u001b[39m _open_file(file_like, appendmat, mode)\n\u001b[0;32m     18\u001b[0m     \u001b[39mtry\u001b[39;00m:\n\u001b[0;32m     19\u001b[0m         \u001b[39myield\u001b[39;00m f\n",
      "File \u001b[1;32mc:\\ProgramData\\miniforge3\\envs\\env39\\lib\\site-packages\\scipy\\io\\matlab\\_mio.py:45\u001b[0m, in \u001b[0;36m_open_file\u001b[1;34m(file_like, appendmat, mode)\u001b[0m\n\u001b[0;32m     43\u001b[0m     \u001b[39mif\u001b[39;00m appendmat \u001b[39mand\u001b[39;00m \u001b[39mnot\u001b[39;00m file_like\u001b[39m.\u001b[39mendswith(\u001b[39m'\u001b[39m\u001b[39m.mat\u001b[39m\u001b[39m'\u001b[39m):\n\u001b[0;32m     44\u001b[0m         file_like \u001b[39m+\u001b[39m\u001b[39m=\u001b[39m \u001b[39m'\u001b[39m\u001b[39m.mat\u001b[39m\u001b[39m'\u001b[39m\n\u001b[1;32m---> 45\u001b[0m     \u001b[39mreturn\u001b[39;00m \u001b[39mopen\u001b[39;49m(file_like, mode), \u001b[39mTrue\u001b[39;00m\n\u001b[0;32m     46\u001b[0m \u001b[39melse\u001b[39;00m:\n\u001b[0;32m     47\u001b[0m     \u001b[39mraise\u001b[39;00m \u001b[39mOSError\u001b[39;00m(\n\u001b[0;32m     48\u001b[0m         \u001b[39m'\u001b[39m\u001b[39mReader needs file name or open file-like object\u001b[39m\u001b[39m'\u001b[39m\n\u001b[0;32m     49\u001b[0m     ) \u001b[39mfrom\u001b[39;00m \u001b[39me\u001b[39;00m\n",
      "\u001b[1;31mFileNotFoundError\u001b[0m: [Errno 2] No such file or directory: 'D:\\\\xuhu\\\\humanshape\\\\PCA_model_registration\\\\Torso.mat'"
     ]
    }
   ],
   "source": [
    "from scipy.io import loadmat\n",
    "import vtk\n",
    "import numpy as np\n",
    "\n",
    "mean_model = loadmat(path_to_your_vtk_file)['points']\n",
    "eigenvalues = loadmat(path_to_evalues)['evalues']\n",
    "eigenvectors = loadmat(path_to_evectors)['evectors']"
   ]
  },
  {
   "cell_type": "code",
   "execution_count": 39,
   "metadata": {},
   "outputs": [
    {
     "data": {
      "text/plain": [
       "array([[5.43754074e+06, 1.00031000e+06, 4.48907981e+05, ...,\n",
       "        2.65312337e-09, 2.62735867e-09, 2.59993900e-09]])"
      ]
     },
     "execution_count": 39,
     "metadata": {},
     "output_type": "execute_result"
    }
   ],
   "source": [
    "eigenvalues"
   ]
  },
  {
   "cell_type": "code",
   "execution_count": 40,
   "metadata": {},
   "outputs": [
    {
     "data": {
      "text/plain": [
       "array([[ 1.31938530e-04,  2.96730228e-04, -1.38431238e-04, ...,\n",
       "        -2.27895969e-02, -2.27708416e-02, -2.27210143e-02],\n",
       "       [-1.81285317e-03, -8.21731769e-04, -1.18085621e-03, ...,\n",
       "         7.63409105e-05, -4.10634969e-04, -7.68812898e-04],\n",
       "       [ 5.19278246e-04,  5.67761807e-04, -1.01598407e-04, ...,\n",
       "         1.18393168e-03,  1.30928598e-03,  1.21962497e-03],\n",
       "       ...,\n",
       "       [-3.38031762e-03, -6.34102146e-03, -3.42942589e-03, ...,\n",
       "         3.63151471e-02,  8.17666310e-03,  2.18881249e-02],\n",
       "       [-1.03249411e-03,  1.38433965e-03, -1.85990160e-04, ...,\n",
       "        -8.40456437e-03,  6.50573838e-04, -2.40663076e-02],\n",
       "       [ 2.43384447e-03,  6.16046841e-04, -5.85437023e-03, ...,\n",
       "        -2.00187129e-02, -1.11868525e-02, -1.17637010e-02]])"
      ]
     },
     "execution_count": 40,
     "metadata": {},
     "output_type": "execute_result"
    }
   ],
   "source": [
    "eigenvectors"
   ]
  },
  {
   "cell_type": "code",
   "execution_count": 29,
   "metadata": {},
   "outputs": [],
   "source": [
    "import vtk\n",
    "\n",
    "def save_points_to_vtk(points, filename):\n",
    "    num_points = points.shape[0]\n",
    "\n",
    "    vtk_points = vtk.vtkPoints()\n",
    "    for i in range(num_points):\n",
    "        vtk_points.InsertPoint(i, points[i, 0], points[i, 1], points[i, 2])\n",
    "\n",
    "    vertices = vtk.vtkCellArray()\n",
    "    for i in range(num_points):\n",
    "        vertices.InsertNextCell(1)\n",
    "        vertices.InsertCellPoint(i)\n",
    "\n",
    "    polydata = vtk.vtkPolyData()\n",
    "    polydata.SetPoints(vtk_points)\n",
    "    polydata.SetVerts(vertices)\n",
    "\n",
    "    writer = vtk.vtkPolyDataWriter()\n",
    "    writer.SetFileName(filename)\n",
    "    writer.SetInputData(polydata)\n",
    "    writer.Write()"
   ]
  },
  {
   "cell_type": "code",
   "execution_count": 30,
   "metadata": {},
   "outputs": [],
   "source": [
    "test_mean_model = np.array(mean_model)"
   ]
  },
  {
   "cell_type": "code",
   "execution_count": 35,
   "metadata": {},
   "outputs": [
    {
     "data": {
      "text/plain": [
       "(4296,)"
      ]
     },
     "execution_count": 35,
     "metadata": {},
     "output_type": "execute_result"
    }
   ],
   "source": [
    "test_mean_model2 = np.ndarray.tolist(test_mean_model[:,0])\n",
    "test_mean_model2.extend(np.ndarray.tolist(test_mean_model[:,1]))\n",
    "test_mean_model2.extend(np.ndarray.tolist(test_mean_model[:,2]))\n",
    "test_mean_model2 = np.array(test_mean_model2)\n",
    "test_mean_model2.shape\n"
   ]
  },
  {
   "cell_type": "code",
   "execution_count": 33,
   "metadata": {},
   "outputs": [
    {
     "data": {
      "text/plain": [
       "(4300,)"
      ]
     },
     "execution_count": 33,
     "metadata": {},
     "output_type": "execute_result"
    }
   ],
   "source": [
    "coef = np.zeros(eigenvalues[0].shape)\n",
    "mode_id = 1\n",
    "sigma=0.001\n",
    "coef[mode_id-1] = eigenvalues[0][mode_id-1]*3*sigma\n",
    "# coef[mode_id-1] = -eigenvalues[0][mode_id-1]*3*sigma\n",
    "coef"
   ]
  },
  {
   "cell_type": "code",
   "execution_count": 26,
   "metadata": {},
   "outputs": [],
   "source": [
    "e_evectors = np.dot(np.diag(coef),eigenvectors)"
   ]
  },
  {
   "cell_type": "code",
   "execution_count": 28,
   "metadata": {},
   "outputs": [
    {
     "ename": "ValueError",
     "evalue": "operands could not be broadcast together with shapes (4296,) (19347,) ",
     "output_type": "error",
     "traceback": [
      "\u001b[1;31m---------------------------------------------------------------------------\u001b[0m",
      "\u001b[1;31mValueError\u001b[0m                                Traceback (most recent call last)",
      "Cell \u001b[1;32mIn[28], line 1\u001b[0m\n\u001b[1;32m----> 1\u001b[0m deformed_model \u001b[39m=\u001b[39m np\u001b[39m.\u001b[39;49mtranspose(test_mean_model2) \u001b[39m+\u001b[39;49m np\u001b[39m.\u001b[39;49msum(e_evectors, axis\u001b[39m=\u001b[39;49m\u001b[39m0\u001b[39;49m)\n\u001b[0;32m      2\u001b[0m deformed_model\u001b[39m.\u001b[39mshape\n",
      "\u001b[1;31mValueError\u001b[0m: operands could not be broadcast together with shapes (4296,) (19347,) "
     ]
    }
   ],
   "source": [
    "deformed_model = np.transpose(test_mean_model2) + np.sum(e_evectors, axis=0)\n",
    "deformed_model.shape"
   ]
  },
  {
   "cell_type": "code",
   "execution_count": null,
   "metadata": {},
   "outputs": [
    {
     "name": "stdout",
     "output_type": "stream",
     "text": [
      "19347\n"
     ]
    }
   ],
   "source": [
    "# deformed_model = deformed_model.reshape((-1,3))\n",
    "print(deformed_model.size)\n",
    "deformed_x = deformed_model[0:int(deformed_model.size/3)-1]\n",
    "deformed_y = deformed_model[int(deformed_model.size/3): int(2*deformed_model.size/3)-1]\n",
    "deformed_z = deformed_model[int(2*deformed_model.size/3):-1]\n",
    "deformed_model = np.transpose([deformed_x, deformed_y, deformed_z])\n"
   ]
  },
  {
   "cell_type": "code",
   "execution_count": 36,
   "metadata": {},
   "outputs": [],
   "source": [
    "save_points_to_vtk(mean_model, f\"D:\\\\xuhu\\\\humanshape\\\\PCA_model_registration\\\\Torso.vtk\")\n"
   ]
  },
  {
   "cell_type": "code",
   "execution_count": 25,
   "metadata": {},
   "outputs": [
    {
     "name": "stdout",
     "output_type": "stream",
     "text": [
      "pca_deformation\n",
      " [[ 1.31938530e-05  2.96730228e-05 -1.38431238e-05 ... -2.27895969e-03\n",
      "  -2.27708416e-03 -2.27210143e-03]]\n",
      "pca_deformation_xyz\n",
      " [[ 1.31938530e-05  2.96730228e-05 -1.38431238e-05]\n",
      " [ 7.49833546e-06  3.08650241e-05  1.42035271e-05]\n",
      " [ 3.64705978e-05  5.77066314e-06  6.65897991e-06]\n",
      " ...\n",
      " [-2.24718556e-03 -2.22904634e-03 -2.24094571e-03]\n",
      " [-2.25372111e-03 -2.27735618e-03 -2.28184079e-03]\n",
      " [-2.27895969e-03 -2.27708416e-03 -2.27210143e-03]]\n",
      "new_model\n",
      " [[-1.32606615e-03  9.05487297e+01  7.99717986e+02]\n",
      " [-2.13873609e-01  7.99444405e+01  8.08583813e+02]\n",
      " [ 4.47730793e-01  9.94668801e+01  7.94246381e+02]\n",
      " ...\n",
      " [ 1.63802888e+02  2.36978659e+01  4.74013627e+01]\n",
      " [ 1.59368831e+02  4.62183629e+01  4.26744387e+01]\n",
      " [ 1.72350609e+02  7.94972618e+01  4.25418361e+01]]\n"
     ]
    }
   ],
   "source": [
    "import numpy as np\n",
    "\n",
    "def pca_deformation(mean_model, eigenvectors, coefficients, num_components):\n",
    "    # Select eigenvectors and coefficients\n",
    "\n",
    "    mean_model = mean_model.reshape((3*mean_model.shape[0],1))\n",
    "    selected_eigenvectors = eigenvectors[:num_components]\n",
    "    selected_coefficients = coefficients[:num_components]\n",
    "\n",
    "    e_evectors = np.dot(np.diag(eigenvalues[0]),eigenvectors)\n",
    "    deformed_model = mean_model + np.dot(e_evectors, mean_model)\n",
    "    deformed_model.reshape((-1, 3))\n",
    "    # # Calculate the PCA deformation\n",
    "    # pca_deformation_xyz = np.zeros(mean_model.shape)\n",
    "    # pca_deformation = np.zeros((1, 19347))\n",
    "    # for i in range(num_components):\n",
    "    #     pca_deformation = selected_coefficients[i] * selected_eigenvectors[i]\n",
    "    \n",
    "    # Reshape the PCA deformation\n",
    "    pca_deformation_xyz = pca_deformation.reshape((-1, 3))\n",
    "\n",
    "    print('pca_deformation\\n', pca_deformation)\n",
    "    print('pca_deformation_xyz\\n', pca_deformation_xyz)\n",
    "\n",
    "    # Generate the new model\n",
    "    new_model = mean_model + pca_deformation_xyz\n",
    "    print('new_model\\n', new_model)\n",
    "\n",
    "    return new_model\n",
    "\n",
    "\n",
    "# Apply PCA deformation and get the new model\n",
    "new_model = pca_deformation(mean_model, eigenvectors, coefficients, num_components=3)\n"
   ]
  }
 ],
 "metadata": {
  "kernelspec": {
   "display_name": "env38",
   "language": "python",
   "name": "python3"
  },
  "language_info": {
   "codemirror_mode": {
    "name": "ipython",
    "version": 3
   },
   "file_extension": ".py",
   "mimetype": "text/x-python",
   "name": "python",
   "nbconvert_exporter": "python",
   "pygments_lexer": "ipython3",
   "version": "3.9.18"
  },
  "orig_nbformat": 4
 },
 "nbformat": 4,
 "nbformat_minor": 2
}
