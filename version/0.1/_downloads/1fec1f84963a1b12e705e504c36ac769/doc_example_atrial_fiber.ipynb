{
  "cells": [
    {
      "cell_type": "markdown",
      "metadata": {},
      "source": [
        "\n# Atrial fiber\nThis examples shows how to generate fibers with Laplace-Dirichlet-Rule-Based-Method\n"
      ]
    },
    {
      "cell_type": "markdown",
      "metadata": {},
      "source": [
        "## Perform the required imports\nImport the required modules and set relevant paths, including that of the working\ndirectory, model, and ls-dyna executable (uses DEV-104373-g6d20c20aee).\n\n"
      ]
    },
    {
      "cell_type": "code",
      "execution_count": null,
      "metadata": {
        "collapsed": false
      },
      "outputs": [],
      "source": [
        "import os\nfrom pathlib import Path\n\nimport ansys.heart.preprocessor.models as models\nfrom ansys.heart.simulator.simulator import BaseSimulator, DynaSettings\nimport numpy as np\nimport pyvista as pv\n\n# set working directory and path to model.\nworkdir = Path(\n    Path(__file__).resolve().parents[2], \"downloads\", \"Strocchi2020\", \"01\", \"FourChamber\"\n)\n\npath_to_model = os.path.join(workdir, \"heart_model.pickle\")\n\nif not os.path.isfile(path_to_model):\n    raise FileExistsError(f\"{path_to_model} not found\")\n\n# specify LS-DYNA path\nlsdyna_path = r\"ls-dyna_smp\"\n\nif not os.path.isfile(lsdyna_path):\n    raise FileExistsError(f\"{lsdyna_path} not found.\")\n\n# load heart model.\nmodel: models.FourChamber = models.HeartModel.load_model(path_to_model)\n\n# set base working directory\nmodel.info.workdir = str(workdir)"
      ]
    },
    {
      "cell_type": "markdown",
      "metadata": {},
      "source": [
        "## Instantiate the simulator object\ninstantiate simulator. Change options where necessary.\n\n"
      ]
    },
    {
      "cell_type": "code",
      "execution_count": null,
      "metadata": {
        "collapsed": false
      },
      "outputs": [],
      "source": [
        "# instantaiate dyna settings of choice\ndyna_settings = DynaSettings(\n    lsdyna_path=lsdyna_path,\n    dynatype=\"smp\",\n    num_cpus=1,\n)\n\nsimulator = BaseSimulator(\n    model=model,\n    dyna_settings=dyna_settings,\n    simulation_directory=os.path.join(workdir, \"simulation\"),\n)\n\n# remove fiber/sheet information if already exists\nmodel.mesh.cell_data[\"fiber\"] = np.zeros((model.mesh.n_cells, 3))\nmodel.mesh.cell_data[\"sheet\"] = np.zeros((model.mesh.n_cells, 3))"
      ]
    },
    {
      "cell_type": "markdown",
      "metadata": {},
      "source": [
        "## Compute atrial fibers\n\n"
      ]
    },
    {
      "cell_type": "code",
      "execution_count": null,
      "metadata": {
        "collapsed": false
      },
      "outputs": [],
      "source": [
        "# Compute left atrium fiber\nla = simulator.compute_left_atrial_fiber()\n\n# Appendage apex point should be manually given to compute right atrium fiber\nappendage_apex = [-50, 106, 425]\nra = simulator.compute_right_atrial_fiber(appendage_apex)"
      ]
    },
    {
      "cell_type": "markdown",
      "metadata": {},
      "source": [
        "## Plot bundle selection results\n\n"
      ]
    },
    {
      "cell_type": "code",
      "execution_count": null,
      "metadata": {
        "collapsed": false
      },
      "outputs": [],
      "source": [
        "la.set_active_scalars(\"bundle\")\nla.plot()"
      ]
    },
    {
      "cell_type": "markdown",
      "metadata": {},
      "source": [
        "<img src=\"file://_static/images/la_bundle.png\" width=\"400pt\" align=\"center\">\n\n"
      ]
    },
    {
      "cell_type": "code",
      "execution_count": null,
      "metadata": {
        "collapsed": false
      },
      "outputs": [],
      "source": [
        "ra.set_active_scalars(\"bundle\")\nra.plot()"
      ]
    },
    {
      "cell_type": "markdown",
      "metadata": {},
      "source": [
        "<img src=\"file://_static/images/ra_bundle.png\" width=\"400pt\" align=\"center\">\n\n"
      ]
    },
    {
      "cell_type": "markdown",
      "metadata": {},
      "source": [
        "## Plot fibers\n\n"
      ]
    },
    {
      "cell_type": "code",
      "execution_count": null,
      "metadata": {
        "collapsed": false
      },
      "outputs": [],
      "source": [
        "plotter = pv.Plotter()\nmesh = la.ctp()\nstreamlines = mesh.streamlines(vectors=\"e_l\", source_radius=50, n_points=50000)\ntubes = streamlines.tube()\nplotter.add_mesh(mesh, opacity=0.5, color=\"white\")\nplotter.add_mesh(tubes, color=\"red\")\nplotter.show()"
      ]
    },
    {
      "cell_type": "markdown",
      "metadata": {},
      "source": [
        "<img src=\"file://_static/images/la_fiber.png\" width=\"400pt\" align=\"center\">\n\n"
      ]
    },
    {
      "cell_type": "code",
      "execution_count": null,
      "metadata": {
        "collapsed": false
      },
      "outputs": [],
      "source": [
        "plotter = pv.Plotter()\nmesh = ra.ctp()\nstreamlines = mesh.streamlines(vectors=\"e_l\", source_radius=50, n_points=50000)\ntubes = streamlines.tube()\nplotter.add_mesh(mesh, opacity=0.5, color=\"white\")\nplotter.add_mesh(tubes, color=\"red\")\nplotter.show()"
      ]
    },
    {
      "cell_type": "markdown",
      "metadata": {},
      "source": [
        "<img src=\"file://_static/images/ra_fiber.png\" width=\"400pt\" align=\"center\">\n\n"
      ]
    },
    {
      "cell_type": "code",
      "execution_count": null,
      "metadata": {
        "collapsed": false
      },
      "outputs": [],
      "source": [
        "# Atrial fibers are automatically assigned to heart model after computation.\n\nplotter = pv.Plotter()\nmesh = model.mesh.ctp()\nstreamlines = mesh.streamlines(vectors=\"fiber\", source_radius=100, n_points=50000)\ntubes = streamlines.tube()\nplotter.add_mesh(mesh, opacity=0.5, color=\"white\")\nplotter.add_mesh(tubes, color=\"red\")\nplotter.show()"
      ]
    },
    {
      "cell_type": "markdown",
      "metadata": {},
      "source": [
        "<img src=\"file://_static/images/atrial_fiber_assign.png\" width=\"400pt\" align=\"center\">\n\n"
      ]
    }
  ],
  "metadata": {
    "kernelspec": {
      "display_name": "Python 3",
      "language": "python",
      "name": "python3"
    },
    "language_info": {
      "codemirror_mode": {
        "name": "ipython",
        "version": 3
      },
      "file_extension": ".py",
      "mimetype": "text/x-python",
      "name": "python",
      "nbconvert_exporter": "python",
      "pygments_lexer": "ipython3",
      "version": "3.10.13"
    }
  },
  "nbformat": 4,
  "nbformat_minor": 0
}