{
  "cells": [
    {
      "cell_type": "markdown",
      "metadata": {},
      "source": [
        "\n# Postprocess a Reaction-Eikonal model.\nThis example shows how to postprocess a full heart reaction eikonal model.\n"
      ]
    },
    {
      "cell_type": "markdown",
      "metadata": {},
      "source": [
        "<div class=\"alert alert-danger\"><h4>Warning</h4><p>When using a standalone version of the DPF Server, you must accept the [license terms](https://dpf.docs.pyansys.com/version/stable/getting_started/licensing.html). To\n   accept these terms, you can set this environment variable:\n\n```python\nimport os\nos.environ[\"ANSYS_DPF_ACCEPT_LA\"] = \"Y\"</p></div>\n```\n"
      ]
    },
    {
      "cell_type": "markdown",
      "metadata": {},
      "source": [
        "## Perform the required imports\nImport the required modules and set relevant paths.\n\n"
      ]
    },
    {
      "cell_type": "code",
      "execution_count": null,
      "metadata": {
        "collapsed": false
      },
      "outputs": [],
      "source": [
        "from pathlib import Path\n\nfrom ansys.health.heart.post.dpf_utils import EPpostprocessor"
      ]
    },
    {
      "cell_type": "markdown",
      "metadata": {},
      "source": [
        "## Create a postprocessor object\n\n"
      ]
    },
    {
      "cell_type": "markdown",
      "metadata": {},
      "source": [
        "<div class=\"alert alert-info\"><h4>Note</h4><p>This example assumes that you have you ran a full heart electrophysiology simulation\n   and that the d3plot files are located in ``data_path``.</p></div>\n\n"
      ]
    },
    {
      "cell_type": "code",
      "execution_count": null,
      "metadata": {
        "collapsed": false
      },
      "outputs": [],
      "source": [
        "# Import the required modules and set relevant paths.\nworkdir = Path.home() / \"pyansys-heart\" / \"downloads\" / \"Rodero2021\" / \"01\" / \"FullHeart\"\n\n# Specify the path to the d3plot that contains the simulation results.\ndata_path = workdir / \"simulation-EP\" / \"main-ep-ReactionEikonal\" / \"d3plot\"\n\n# Check if the file exists.\nif not data_path.is_file():\n    raise FileNotFoundError(f\"File not found: {data_path}\")\n\n# Initialize the postprocessor.\npost = EPpostprocessor(data_path)"
      ]
    },
    {
      "cell_type": "markdown",
      "metadata": {},
      "source": [
        "## Call methods to retrieve activation time\n\n"
      ]
    },
    {
      "cell_type": "code",
      "execution_count": null,
      "metadata": {
        "collapsed": false
      },
      "outputs": [],
      "source": [
        "# Get activation time of the full field at the last time step.\nactivation_times = post.get_activation_times()\nprint(activation_times.data)\n\nactivation_times.plot(show_edges=False, show_scalar_bar=True)"
      ]
    },
    {
      "cell_type": "markdown",
      "metadata": {},
      "source": [
        "## Create a clip view.\n\n"
      ]
    },
    {
      "cell_type": "code",
      "execution_count": null,
      "metadata": {
        "collapsed": false
      },
      "outputs": [],
      "source": [
        "# Create a clip view of the activation time using ``pyvista``.\nimport pyvista as pv\n\n# Retrieve the unstructured grid.\ngrid: pv.UnstructuredGrid = post.reader.model.metadata.meshed_region.grid\ngrid.point_data[\"activation_time\"] = activation_times.data\ngrid.set_active_scalars(\"activation_time\")\n\n# Clip the model and plot.\ngrid.clip(\n    normal=[0.7785200198880087, -0.027403237199259987, 0.6270212446357586],\n    origin=[88.24004990770091, 54.41149629465821, 49.1801566480857],\n).plot(show_scalar_bar=True)"
      ]
    }
  ],
  "metadata": {
    "kernelspec": {
      "display_name": "Python 3",
      "language": "python",
      "name": "python3"
    },
    "language_info": {
      "codemirror_mode": {
        "name": "ipython",
        "version": 3
      },
      "file_extension": ".py",
      "mimetype": "text/x-python",
      "name": "python",
      "nbconvert_exporter": "python",
      "pygments_lexer": "ipython3",
      "version": "3.11.9"
    }
  },
  "nbformat": 4,
  "nbformat_minor": 0
}