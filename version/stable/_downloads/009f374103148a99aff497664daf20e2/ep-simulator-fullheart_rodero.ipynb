{
  "cells": [
    {
      "cell_type": "markdown",
      "metadata": {},
      "source": [
        "\n# Run a full-heart electrophysiology simulation\nThis example shows how to consume a full-heart model and set it up for the\nmain electrophysiology simulation. It loads a pre-computed heart model\nand computes the fiber orientation, Purkinje network, and conduction system. It\nthen simulates the electrophysiology.\n"
      ]
    },
    {
      "cell_type": "markdown",
      "metadata": {},
      "source": [
        "<div class=\"alert alert-danger\"><h4>Warning</h4><p>When using a standalone version of the DPF Server, you must accept the [license terms](https://dpf.docs.pyansys.com/version/stable/getting_started/licensing.html). To\n   accept these terms, you can set this environment variable:\n\n```python\nimport os\nos.environ[\"ANSYS_DPF_ACCEPT_LA\"] = \"Y\"</p></div>\n```\n"
      ]
    },
    {
      "cell_type": "markdown",
      "metadata": {},
      "source": [
        "## Perform the required imports\nImport the required modules and set relevant paths, including that of the working\ndirectory, heart model, and LS-DYNA executable file.\n\n"
      ]
    },
    {
      "cell_type": "code",
      "execution_count": null,
      "metadata": {
        "collapsed": false
      },
      "outputs": [],
      "source": [
        "import os\nfrom pathlib import Path\n\nfrom ansys.health.heart.examples import get_preprocessed_fullheart\nimport ansys.health.heart.models as models\nfrom ansys.health.heart.simulator import DynaSettings, EPSimulator\n\n# Set the working directory and path to the model. This example assumes that there is a\n\nworkdir = Path.home() / \"pyansys-heart\" / \"downloads\" / \"Rodero2021\" / \"01\" / \"FullHeart\"\npath_to_model, path_to_partinfo, _ = get_preprocessed_fullheart(resolution=\"2.0mm\")"
      ]
    },
    {
      "cell_type": "markdown",
      "metadata": {},
      "source": [
        "## Load the full-heart model\nLoad the full-heart model.\n\n"
      ]
    },
    {
      "cell_type": "code",
      "execution_count": null,
      "metadata": {
        "collapsed": false
      },
      "outputs": [],
      "source": [
        "model: models.FullHeart = models.FullHeart(working_directory=workdir)\nmodel.load_model_from_mesh(path_to_model, path_to_partinfo)\n\n# Save the model.\nmodel.mesh.save(os.path.join(model.workdir, \"simulation_model.vtu\"))"
      ]
    },
    {
      "cell_type": "markdown",
      "metadata": {},
      "source": [
        "## Instantiate the simulator\nInstantiate the simulator and define settings.\n\n"
      ]
    },
    {
      "cell_type": "code",
      "execution_count": null,
      "metadata": {
        "collapsed": false
      },
      "outputs": [],
      "source": [
        "# Specify the LS-DYNA path. (The last tested working version is ``intelmpi-linux-DEV-106117``.)\nlsdyna_path = r\"ls-dyna_msmpi.exe\"\n\n# Instantiate DYNA settings.\ndyna_settings = DynaSettings(\n    lsdyna_path=lsdyna_path, dynatype=\"intelmpi\", num_cpus=4, platform=\"wsl\"\n)\n\n# Instantiate the simulator, modifying options as necessary.\nsimulator = EPSimulator(\n    model=model,\n    dyna_settings=dyna_settings,\n    simulation_directory=os.path.join(workdir, \"simulation-EP\"),\n)"
      ]
    },
    {
      "cell_type": "markdown",
      "metadata": {},
      "source": [
        "## Load simulation settings\nLoad the default settings.\n\n"
      ]
    },
    {
      "cell_type": "code",
      "execution_count": null,
      "metadata": {
        "collapsed": false
      },
      "outputs": [],
      "source": [
        "simulator.settings.load_defaults()"
      ]
    },
    {
      "cell_type": "markdown",
      "metadata": {},
      "source": [
        "## Compute fiber orientation\nCompute fiber orientation and plot the fibers on the entire model.\n\n"
      ]
    },
    {
      "cell_type": "code",
      "execution_count": null,
      "metadata": {
        "collapsed": false
      },
      "outputs": [],
      "source": [
        "# Compute ventricular fibers.\nsimulator.compute_fibers(method=\"D-RBM\")\n\n# Compute atrial fibers.\nsimulator.model.right_atrium.active = True\nsimulator.model.left_atrium.active = True\nsimulator.model.right_atrium.fiber = True\nsimulator.model.left_atrium.fiber = True\nsimulator.compute_left_atrial_fiber()\nsimulator.compute_right_atrial_fiber(appendage=[39, 29, 98])\nsimulator.model.plot_fibers(n_seed_points=1000)"
      ]
    },
    {
      "cell_type": "markdown",
      "metadata": {},
      "source": [
        "## Compute the conduction system\nCompute the conduction system and Purkinje network, and then visualize the results.\nThe action potential propagates faster through this system compared to the rest of the model.\n\n"
      ]
    },
    {
      "cell_type": "code",
      "execution_count": null,
      "metadata": {
        "collapsed": false
      },
      "outputs": [],
      "source": [
        "simulator.compute_purkinje()\n\n# By calling this method, stimulation is at the atrioventricular node.\n# If you do not call this method, the two apex regions of the ventricles are stimulated.\nsimulator.compute_conduction_system()\n\nsimulator.model.plot_purkinje()"
      ]
    },
    {
      "cell_type": "markdown",
      "metadata": {},
      "source": [
        "## Start the main simulation\nStart the main electrophysiology simulation. This uses the previously computed fiber orientation\nand Purkinje network to set up and run the LS-DYNA model.\n\n"
      ]
    },
    {
      "cell_type": "code",
      "execution_count": null,
      "metadata": {
        "collapsed": false
      },
      "outputs": [],
      "source": [
        "# Compute the Eikonal solution. This only computes the activation time.\nsimulator.settings.electrophysiology.analysis.solvertype = \"ReactionEikonal\"\nsimulator.simulate(folder_name=\"main-ep-ReactionEikonal\")"
      ]
    }
  ],
  "metadata": {
    "kernelspec": {
      "display_name": "Python 3",
      "language": "python",
      "name": "python3"
    },
    "language_info": {
      "codemirror_mode": {
        "name": "ipython",
        "version": 3
      },
      "file_extension": ".py",
      "mimetype": "text/x-python",
      "name": "python",
      "nbconvert_exporter": "python",
      "pygments_lexer": "ipython3",
      "version": "3.11.9"
    }
  },
  "nbformat": 4,
  "nbformat_minor": 0
}