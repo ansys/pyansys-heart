{
  "cells": [
    {
      "cell_type": "markdown",
      "metadata": {},
      "source": [
        "\n# Run a full-heart EP mechanics simulation\nThis example shows how to consume a full-heart model and\nset it up for a coupled electromechanical simulation.\n"
      ]
    },
    {
      "cell_type": "markdown",
      "metadata": {},
      "source": [
        "<div class=\"alert alert-danger\"><h4>Warning</h4><p>When using a standalone version of the DPF Server, you must accept the [license terms](https://dpf.docs.pyansys.com/version/stable/getting_started/licensing.html). To\n   accept these terms, you can set this environment variable:\n\n```python\nimport os\nos.environ[\"ANSYS_DPF_ACCEPT_LA\"] = \"Y\"</p></div>\n```\n"
      ]
    },
    {
      "cell_type": "markdown",
      "metadata": {},
      "source": [
        "## Perform the required imports\nImport the required modules.\n\n"
      ]
    },
    {
      "cell_type": "code",
      "execution_count": null,
      "metadata": {
        "collapsed": false
      },
      "outputs": [],
      "source": [
        "import os\nfrom pathlib import Path\n\nfrom pint import Quantity\n\nfrom ansys.health.heart.examples import get_preprocessed_fullheart\nimport ansys.health.heart.models as models\nfrom ansys.health.heart.settings.material.ep_material import EPMaterial\nfrom ansys.health.heart.settings.material.material import ISO, Mat295\nfrom ansys.health.heart.simulator import DynaSettings, EPMechanicsSimulator"
      ]
    },
    {
      "cell_type": "markdown",
      "metadata": {},
      "source": [
        "## Set the required paths\nSet the working directory and path to the model.\n\n"
      ]
    },
    {
      "cell_type": "code",
      "execution_count": null,
      "metadata": {
        "collapsed": false
      },
      "outputs": [],
      "source": [
        "# Get the path to a preprocessed full-heart model.\npath_to_model, path_to_partinfo, _ = get_preprocessed_fullheart(resolution=\"2.0mm\")\n\n# Set the working directory.\nworkdir = Path.home() / \"pyansys-heart\" / \"downloads\" / \"Rodero2021\" / \"01\" / \"FullHeart\""
      ]
    },
    {
      "cell_type": "markdown",
      "metadata": {},
      "source": [
        "## Load the full-heart model\n\n"
      ]
    },
    {
      "cell_type": "code",
      "execution_count": null,
      "metadata": {
        "collapsed": false
      },
      "outputs": [],
      "source": [
        "# Load the full-heart model.\nmodel: models.FullHeart = models.FullHeart(working_directory=workdir)\nmodel.load_model_from_mesh(path_to_model, path_to_partinfo)"
      ]
    },
    {
      "cell_type": "markdown",
      "metadata": {},
      "source": [
        "## Instantiate the simulator\n\n"
      ]
    },
    {
      "cell_type": "code",
      "execution_count": null,
      "metadata": {
        "collapsed": false
      },
      "outputs": [],
      "source": [
        "# Create and instantiate a DYNA settings object. Modify where necessary.\nlsdyna_path = r\"your_dyna_exe\"\ndyna_settings = DynaSettings(\n    lsdyna_path=lsdyna_path, dynatype=\"intelmpi\", platform=\"wsl\", num_cpus=4\n)\n\n# Instantiate the simulator.\nsimulator = EPMechanicsSimulator(\n    model=model,\n    dyna_settings=dyna_settings,\n    simulation_directory=os.path.join(workdir, \"ep-mechanics\"),\n)\n\n# Load default simulation settings.\nsimulator.settings.load_defaults()"
      ]
    },
    {
      "cell_type": "markdown",
      "metadata": {},
      "source": [
        "## Compute the fiber orientation\n\n"
      ]
    },
    {
      "cell_type": "code",
      "execution_count": null,
      "metadata": {
        "collapsed": false
      },
      "outputs": [],
      "source": [
        "# Compute fiber orientation in the ventricles and atria.\nsimulator.compute_fibers()\nsimulator.compute_left_atrial_fiber()\nsimulator.compute_right_atrial_fiber(appendage=[39, 29, 98])\n\n# Switch the atria to active.\nsimulator.model.left_atrium.fiber = True\nsimulator.model.left_atrium.active = True\n\nsimulator.model.right_atrium.fiber = True\nsimulator.model.right_atrium.active = True"
      ]
    },
    {
      "cell_type": "markdown",
      "metadata": {},
      "source": [
        "## Set up the simulation for the mechanical simulations\n\n"
      ]
    },
    {
      "cell_type": "code",
      "execution_count": null,
      "metadata": {
        "collapsed": false
      },
      "outputs": [],
      "source": [
        "# Extract elements around atrial caps and assign as a passive material.\nring = simulator.model.create_atrial_stiff_ring(radius=5)\n\n# Assign a material that is stiffer than the surrounding material.\nstiff_iso = Mat295(rho=0.001, iso=ISO(itype=-1, beta=2, kappa=10, mu1=0.1, alpha1=2))\nring.meca_material = stiff_iso\n\n# Assign the default EP material\nring.ep_material = EPMaterial.Active()\n\n# plot the mesh\nsimulator.model.plot_mesh()\n\n# Compute UHCs (Universal Heart Coordinates).\nsimulator.compute_uhc()\n\n# Extract elements close to the valves and assign these a passive material.\nsimulator.model.create_stiff_ventricle_base(stiff_material=stiff_iso)\n\n# Compute the stress-free configuration.\nsimulator.compute_stress_free_configuration(overwrite=True)"
      ]
    },
    {
      "cell_type": "markdown",
      "metadata": {},
      "source": [
        "<div class=\"alert alert-info\"><h4>Note</h4><p>Computing the stress-free configuration is required since the geometry is imaged\n   at end-of-diastole. The ``compute_stress_free_configuration()`` method runs a\n   sequence of static simulations to estimate the stress-free state of the model and\n   the initial stresses present. This step is computationally expensive and can take\n   relatively long. You can consider reusing earlier runs by setting the ``overwrite``\n   flag to ``False``. This reuses the results of the previous run.</p></div>\n\n"
      ]
    },
    {
      "cell_type": "markdown",
      "metadata": {},
      "source": [
        "## Compute a conduction system\n\n"
      ]
    },
    {
      "cell_type": "code",
      "execution_count": null,
      "metadata": {
        "collapsed": false
      },
      "outputs": [],
      "source": [
        "# Compute the conduction system.\nsimulator.compute_purkinje()\n\n# Use landmarks to compute the rest of the conduction system.\nsimulator.compute_conduction_system()\n\n# Plot the computed conduction system.\nsimulator.model.plot_purkinje()"
      ]
    },
    {
      "cell_type": "markdown",
      "metadata": {},
      "source": [
        "## Start the main simulation\nSet the simulation end time and frequency of output files.\n\n"
      ]
    },
    {
      "cell_type": "code",
      "execution_count": null,
      "metadata": {
        "collapsed": false
      },
      "outputs": [],
      "source": [
        "simulator.settings.mechanics.analysis.end_time = Quantity(800, \"ms\")\nsimulator.settings.mechanics.analysis.dt_d3plot = Quantity(10, \"ms\")\n\n# Save the model to a file.\nsimulator.model.save_model(os.path.join(workdir, \"heart_fib_beam.vtu\"))"
      ]
    },
    {
      "cell_type": "markdown",
      "metadata": {},
      "source": [
        "<div class=\"alert alert-info\"><h4>Note</h4><p>A constant pressure is prescribed to the atria.\n   No circulation system is coupled with the atria.</p></div>\n\n"
      ]
    },
    {
      "cell_type": "code",
      "execution_count": null,
      "metadata": {
        "collapsed": false
      },
      "outputs": [],
      "source": [
        "# Use the ReactionEikonal solver for the electrophysiology simulation.\nsimulator.settings.electrophysiology.analysis.solvertype = \"ReactionEikonal\"\n\n# Start main simulation. The ``auto_post`` option is set to ``False`` to avoid\n# automatic postprocessing.\nsimulator.simulate(auto_post=False)"
      ]
    },
    {
      "cell_type": "markdown",
      "metadata": {},
      "source": [
        "<div class=\"alert alert-info\"><h4>Note</h4><p>The ``ReactionEikonal`` solver is suitable for coarse meshes and is\n   included here for demonstration purposes. However, it currently supports\n   only a single cardiac cycle. To simulate multiple cardiac cycles, use the\n   ``Monodomain`` solver, which requires a fine mesh and small time step size.</p></div>\n\n"
      ]
    },
    {
      "cell_type": "markdown",
      "metadata": {},
      "source": [
        "## Visualize and animate results LS-PrePost\n\n"
      ]
    },
    {
      "cell_type": "markdown",
      "metadata": {},
      "source": [
        ".. only:: html\n\n    .. video:: ../../_static/images/rodero_epmechanics_fullheart.mp4\n      :width: 600\n      :loop:\n      :class: center\n\n"
      ]
    }
  ],
  "metadata": {
    "kernelspec": {
      "display_name": "Python 3",
      "language": "python",
      "name": "python3"
    },
    "language_info": {
      "codemirror_mode": {
        "name": "ipython",
        "version": 3
      },
      "file_extension": ".py",
      "mimetype": "text/x-python",
      "name": "python",
      "nbconvert_exporter": "python",
      "pygments_lexer": "ipython3",
      "version": "3.11.9"
    }
  },
  "nbformat": 4,
  "nbformat_minor": 0
}