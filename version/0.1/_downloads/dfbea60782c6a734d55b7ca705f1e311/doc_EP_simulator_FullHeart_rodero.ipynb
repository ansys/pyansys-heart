{
  "cells": [
    {
      "cell_type": "markdown",
      "metadata": {},
      "source": [
        "\n# Full-heart EP-simulator example\nThis example shows you how to consume a full-heart model and\nset it up for the main electropysiology simulation. This examples demonstrates how\nyou can load a pre-computed heart model, compute the fiber direction, compute the\npurkinje network and conduction system and finally simulate the electrophysiology.\n"
      ]
    },
    {
      "cell_type": "markdown",
      "metadata": {},
      "source": [
        "# Example setup\nbefore computing the fiber orientation, purkinje network we need to load\nthe required modules, load a heart model and set up the simulator.\n\n## Perform the required imports\nImport the required modules and set relevant paths, including that of the working\ndirectory, model, and ls-dyna executable.\n\n"
      ]
    },
    {
      "cell_type": "code",
      "execution_count": null,
      "metadata": {
        "collapsed": false
      },
      "outputs": [],
      "source": [
        "import os\nfrom pathlib import Path\n\nfrom ansys.heart.preprocessor.mesh.objects import Point\nimport ansys.heart.preprocessor.models as models\nfrom ansys.heart.simulator.simulator import DynaSettings, EPSimulator\n\n# set working directory and path to model.\nworkdir = Path(Path(__file__).resolve().parents[2], \"downloads\", \"Cristobal2021\", \"01\", \"FullHeart\")\n\npath_to_model = os.path.join(workdir, \"heart_model.pickle\")\n\nif not os.path.isfile(path_to_model):\n    raise FileExistsError(f\"{path_to_model} not found\")\n\n# load four chamber heart model.\nmodel: models.FullHeart = models.HeartModel.load_model(path_to_model)\n\n# save model.\nmodel.mesh.save(os.path.join(model.info.workdir, \"simulation_model.vtu\"))\n\n# set base working directory\nmodel.info.workdir = str(workdir)"
      ]
    },
    {
      "cell_type": "markdown",
      "metadata": {},
      "source": [
        "## Instantiate the simulator object\ninstantiate the simulator and settings appropriately.\n\n"
      ]
    },
    {
      "cell_type": "code",
      "execution_count": null,
      "metadata": {
        "collapsed": false
      },
      "outputs": [],
      "source": [
        "# instantaiate dyna settings of choice\nlsdyna_path = r\"mppdyna_d_sse2_linux86_64_intelmmpi_105630\"\ndyna_settings = DynaSettings(\n    lsdyna_path=lsdyna_path,\n    dynatype=\"intelmpi\",\n    num_cpus=4,\n)\n\n# instantiate simulator. Change options where necessary.\nsimulator = EPSimulator(\n    model=model,\n    dyna_settings=dyna_settings,\n    simulation_directory=os.path.join(workdir, \"simulation-EP\"),\n)"
      ]
    },
    {
      "cell_type": "markdown",
      "metadata": {},
      "source": [
        "## Load simulation settings\nHere we load the default settings.\n\n"
      ]
    },
    {
      "cell_type": "code",
      "execution_count": null,
      "metadata": {
        "collapsed": false
      },
      "outputs": [],
      "source": [
        "# Define electrode positions and add them to model\nelectrodes = [\n    Point(name=\"V1\", xyz=[76.53798632905277, 167.67667039945263, 384.3139099410445]),\n    Point(name=\"V2\", xyz=[64.97540262482013, 134.94983038904573, 330.4783062379255]),\n    Point(name=\"V3\", xyz=[81.20629301587647, 107.06245851801455, 320.58645260857344]),\n    Point(name=\"V4\", xyz=[85.04956217691463, 59.54502732121309, 299.2838953724169]),\n    Point(name=\"V5\", xyz=[42.31377680589025, 27.997010728192166, 275.7620409440143]),\n    Point(name=\"V6\", xyz=[-10.105919604515957, -7.176987485426985, 270.46379012676135]),\n    Point(name=\"RA\", xyz=[-29.55095501940962, 317.12543912177983, 468.91891094294414]),\n    Point(name=\"LA\", xyz=[-100.27895839242505, 135.64520460914244, 222.56688206809142]),\n    Point(name=\"RL\", xyz=[203.38825799615842, 56.19020893502452, 538.5052677637375]),\n    Point(name=\"LL\", xyz=[157.56391664248335, -81.66615972595032, 354.17867264210076]),\n]\nmodel.electrodes = electrodes\n\nsimulator.settings.load_defaults()"
      ]
    },
    {
      "cell_type": "markdown",
      "metadata": {},
      "source": [
        "## Compute the fiber orientation\nCompute fiber orientation and plot the computed fibers on the entire model.\n\n"
      ]
    },
    {
      "cell_type": "markdown",
      "metadata": {},
      "source": [
        "<div class=\"alert alert-danger\"><h4>Warning</h4><p>Atrial fiber orientation is approximated by apex-base direction in this model</p></div>\n\n"
      ]
    },
    {
      "cell_type": "code",
      "execution_count": null,
      "metadata": {
        "collapsed": false
      },
      "outputs": [],
      "source": [
        "simulator.compute_fibers()\nsimulator.model.plot_fibers(n_seed_points=2000)"
      ]
    },
    {
      "cell_type": "markdown",
      "metadata": {},
      "source": [
        "<img src=\"file://_static/images/fibers.png\" width=\"400pt\" align=\"center\">\n\n"
      ]
    },
    {
      "cell_type": "markdown",
      "metadata": {},
      "source": [
        "## Compute conduction system\nCompute conduction system and purkinje network and visualize.\nThe action potential will propagate faster through this system\ncompared to the rest of the model.\n\n"
      ]
    },
    {
      "cell_type": "code",
      "execution_count": null,
      "metadata": {
        "collapsed": false
      },
      "outputs": [],
      "source": [
        "simulator.compute_purkinje()\n\n# by calling this method, stimulation will be at the atrioventricular node\n# if you skip it, the two apex regions of the ventricles will be stimulated\nsimulator.compute_conduction_system()\n\nsimulator.model.plot_purkinje()"
      ]
    },
    {
      "cell_type": "markdown",
      "metadata": {},
      "source": [
        "<img src=\"file://_static/images/purkinje.png\" width=\"400pt\" align=\"center\">\n\n"
      ]
    },
    {
      "cell_type": "markdown",
      "metadata": {},
      "source": [
        "## Start main simulation\nStart the main EP simulation. This uses the previously computed fiber orientation\nand purkinje network to set up and run the LS-DYNA model.\n\n"
      ]
    },
    {
      "cell_type": "code",
      "execution_count": null,
      "metadata": {
        "collapsed": false
      },
      "outputs": [],
      "source": [
        "simulator.simulate()"
      ]
    }
  ],
  "metadata": {
    "kernelspec": {
      "display_name": "Python 3",
      "language": "python",
      "name": "python3"
    },
    "language_info": {
      "codemirror_mode": {
        "name": "ipython",
        "version": 3
      },
      "file_extension": ".py",
      "mimetype": "text/x-python",
      "name": "python",
      "nbconvert_exporter": "python",
      "pygments_lexer": "ipython3",
      "version": "3.10.13"
    }
  },
  "nbformat": 4,
  "nbformat_minor": 0
}