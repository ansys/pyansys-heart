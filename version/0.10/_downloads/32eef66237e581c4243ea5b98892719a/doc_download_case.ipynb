{
  "cells": [
    {
      "cell_type": "markdown",
      "metadata": {},
      "source": [
        "\n# Download a PyAnsys - Heart compatible case from Zenodo.\nThis example shows you how to download a Strocchi 2020 or Rodero 2021 case from the Zenodo\ndatabase.\n"
      ]
    },
    {
      "cell_type": "code",
      "execution_count": null,
      "metadata": {
        "collapsed": false
      },
      "outputs": [],
      "source": [
        "# Perform the required imports\n# ~~~~~~~~~~~~~~~~~~~~~~~~~~~~\n# Import the required modules and set relevant paths, including that of the working\n# directory and generated model.\n\nimport glob\n\nfrom ansys.heart.core.helpers.downloader import download_case_from_zenodo, unpack_case\n\n# Download the tar file of Rodero2021 from the Zenodo database.\ntar_file = download_case_from_zenodo(\"Rodero2021\", 1, \"downloads\")\n# Unpack the tar file\nunpack_case(tar_file)\n\n# list all files\nglob.glob(\"downloads\" + \"/**/*.*\", recursive=True)"
      ]
    },
    {
      "cell_type": "markdown",
      "metadata": {},
      "source": [
        "<div class=\"alert alert-info\"><h4>Note</h4><p>You can also manually download the .case or .vtk files from the Strocchi2020\n   and Rodero2021 databases first. See:\n\n   - https://zenodo.org/records/3890034\n   - https://zenodo.org/records/4590294\n\n   Alternatively you can make use of the download\n   module instead. See the example below.</p></div>\n\n"
      ]
    }
  ],
  "metadata": {
    "kernelspec": {
      "display_name": "Python 3",
      "language": "python",
      "name": "python3"
    },
    "language_info": {
      "codemirror_mode": {
        "name": "ipython",
        "version": 3
      },
      "file_extension": ".py",
      "mimetype": "text/x-python",
      "name": "python",
      "nbconvert_exporter": "python",
      "pygments_lexer": "ipython3",
      "version": "3.11.11"
    }
  },
  "nbformat": 4,
  "nbformat_minor": 0
}