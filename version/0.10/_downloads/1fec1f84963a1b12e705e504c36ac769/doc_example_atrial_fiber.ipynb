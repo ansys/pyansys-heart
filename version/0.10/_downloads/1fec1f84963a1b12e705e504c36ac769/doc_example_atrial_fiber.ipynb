{
  "cells": [
    {
      "cell_type": "markdown",
      "metadata": {},
      "source": [
        "\n# Atrial fiber\nThis examples shows how to generate fibers with Laplace-Dirichlet-Rule-Based-Method\n"
      ]
    },
    {
      "cell_type": "markdown",
      "metadata": {},
      "source": [
        "## Perform the required imports\nImport the required modules and set relevant paths, including that of the working\ndirectory, model, and ls-dyna executable (uses DEV-104373-g6d20c20aee).\n\n"
      ]
    },
    {
      "cell_type": "code",
      "execution_count": null,
      "metadata": {
        "collapsed": false
      },
      "outputs": [],
      "source": [
        "import os\n\nimport numpy as np\nimport pyvista as pv\n\nimport ansys.heart.core.models as models\nfrom ansys.heart.simulator.simulator import BaseSimulator, DynaSettings\n\n# specify the path to the working directory and heart model\nworkdir = os.path.abspath(os.path.join(\"downloads\", \"Strocchi2020\", \"01\", \"FourChamber\"))\n\n\npath_to_model = os.path.join(workdir, \"heart_model.vtu\")\n\n# specify LS-DYNA path\nlsdyna_path = r\"ls-dyna_smp\"\n\n# load heart model.\nmodel: models.FourChamber = models.FourChamber(working_directory=workdir)\nmodel.load_model_from_mesh(path_to_model, path_to_model.replace(\".vtu\", \".partinfo.json\"))"
      ]
    },
    {
      "cell_type": "markdown",
      "metadata": {},
      "source": [
        "## Instantiate the simulator object\ninstantiate simulator. Change options where necessary.\n\n"
      ]
    },
    {
      "cell_type": "markdown",
      "metadata": {},
      "source": [
        "<div class=\"alert alert-info\"><h4>Note</h4><p>The DynaSettings object supports several LS-DYNA versions and platforms.\n   Including: \"smp\", \"intempi\", \"msmpi\", \"windows\", \"linux\", or \"wsl\" Choose\n   the one that is appropriate for you.</p></div>\n\n"
      ]
    },
    {
      "cell_type": "code",
      "execution_count": null,
      "metadata": {
        "collapsed": false
      },
      "outputs": [],
      "source": [
        "# instantiate LS-DYNA settings of choice\ndyna_settings = DynaSettings(\n    lsdyna_path=lsdyna_path, dynatype=\"intelmpi\", num_cpus=4, platform=\"windows\"\n)\n\n\nsimulator = BaseSimulator(\n    model=model,\n    dyna_settings=dyna_settings,\n    simulation_directory=os.path.join(workdir, \"simulation\"),\n)\n\nsimulator.settings.load_defaults()\n\n# remove fiber/sheet information if already exists\nmodel.mesh.cell_data[\"fiber\"] = np.zeros((model.mesh.n_cells, 3))\nmodel.mesh.cell_data[\"sheet\"] = np.zeros((model.mesh.n_cells, 3))"
      ]
    },
    {
      "cell_type": "markdown",
      "metadata": {},
      "source": [
        "## Compute atrial fibers\n\n"
      ]
    },
    {
      "cell_type": "code",
      "execution_count": null,
      "metadata": {
        "collapsed": false
      },
      "outputs": [],
      "source": [
        "# Compute left atrium fiber\nla = simulator.compute_left_atrial_fiber()\n\n# Appendage apex point should be manually given to compute right atrium fiber\nappendage_apex = [-33, 82, 417]\nra = simulator.compute_right_atrial_fiber(appendage_apex)"
      ]
    },
    {
      "cell_type": "markdown",
      "metadata": {},
      "source": [
        "<div class=\"alert alert-info\"><h4>Note</h4><p>You may need to define an appropriate point for the right atrial appendage\n   the list defines the x, y, and z coordinates close to the appendage.</p></div>\n\n"
      ]
    },
    {
      "cell_type": "markdown",
      "metadata": {},
      "source": [
        "## Plot bundle selection results\n\n"
      ]
    },
    {
      "cell_type": "code",
      "execution_count": null,
      "metadata": {
        "collapsed": false
      },
      "outputs": [],
      "source": [
        "la.set_active_scalars(\"bundle\")\nla.plot()"
      ]
    },
    {
      "cell_type": "markdown",
      "metadata": {},
      "source": [
        "<img src=\"file://_static/images/la_bundle.png\" width=\"400pt\" align=\"center\">\n\n"
      ]
    },
    {
      "cell_type": "code",
      "execution_count": null,
      "metadata": {
        "collapsed": false
      },
      "outputs": [],
      "source": [
        "ra.set_active_scalars(\"bundle\")\nra.plot()"
      ]
    },
    {
      "cell_type": "markdown",
      "metadata": {},
      "source": [
        "<img src=\"file://_static/images/ra_bundle.png\" width=\"400pt\" align=\"center\">\n\n"
      ]
    },
    {
      "cell_type": "markdown",
      "metadata": {},
      "source": [
        "## Plot fibers\n\n"
      ]
    },
    {
      "cell_type": "code",
      "execution_count": null,
      "metadata": {
        "collapsed": false
      },
      "outputs": [],
      "source": [
        "plotter = pv.Plotter()\nmesh = la.ctp()\nstreamlines = mesh.streamlines(vectors=\"e_l\", source_radius=50, n_points=50000)\ntubes = streamlines.tube()\nplotter.add_mesh(mesh, opacity=0.5, color=\"white\")\nplotter.add_mesh(tubes, color=\"red\")\nplotter.show()"
      ]
    },
    {
      "cell_type": "markdown",
      "metadata": {},
      "source": [
        "<img src=\"file://_static/images/la_fiber.png\" width=\"400pt\" align=\"center\">\n\n"
      ]
    },
    {
      "cell_type": "code",
      "execution_count": null,
      "metadata": {
        "collapsed": false
      },
      "outputs": [],
      "source": [
        "plotter = pv.Plotter()\nmesh = ra.ctp()\nstreamlines = mesh.streamlines(vectors=\"e_l\", source_radius=50, n_points=50000)\ntubes = streamlines.tube()\nplotter.add_mesh(mesh, opacity=0.5, color=\"white\")\nplotter.add_mesh(tubes, color=\"red\")\nplotter.show()"
      ]
    },
    {
      "cell_type": "markdown",
      "metadata": {},
      "source": [
        "<img src=\"file://_static/images/ra_fiber.png\" width=\"400pt\" align=\"center\">\n\n"
      ]
    },
    {
      "cell_type": "code",
      "execution_count": null,
      "metadata": {
        "collapsed": false
      },
      "outputs": [],
      "source": [
        "# Atrial fibers are automatically assigned to heart model after computation.\n\nplotter = pv.Plotter()\nmesh = model.mesh.ctp()\nstreamlines = mesh.streamlines(vectors=\"fiber\", source_radius=100, n_points=50000)\ntubes = streamlines.tube()\nplotter.add_mesh(mesh, opacity=0.5, color=\"white\")\nplotter.add_mesh(tubes, color=\"red\")\nplotter.show()"
      ]
    },
    {
      "cell_type": "markdown",
      "metadata": {},
      "source": [
        "<img src=\"file://_static/images/atrial_fiber_assign.png\" width=\"400pt\" align=\"center\">\n\n"
      ]
    }
  ],
  "metadata": {
    "kernelspec": {
      "display_name": "Python 3",
      "language": "python",
      "name": "python3"
    },
    "language_info": {
      "codemirror_mode": {
        "name": "ipython",
        "version": 3
      },
      "file_extension": ".py",
      "mimetype": "text/x-python",
      "name": "python",
      "nbconvert_exporter": "python",
      "pygments_lexer": "ipython3",
      "version": "3.11.11"
    }
  },
  "nbformat": 4,
  "nbformat_minor": 0
}