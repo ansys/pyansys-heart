{
  "cells": [
    {
      "cell_type": "markdown",
      "metadata": {},
      "source": [
        "\n# Create a full heart model\nThis example shows you how to process a case from Rodero et al (2021) into\na simulation-ready heart model.\n"
      ]
    },
    {
      "cell_type": "markdown",
      "metadata": {},
      "source": [
        "# Example setup\nPerform the required imports\n~~~~~~~~~~~~~~~~~~~~~~~~~~~~\nImport the required modules and set relevant paths, including that of the working\ndirectory and generated model\n\n"
      ]
    },
    {
      "cell_type": "code",
      "execution_count": null,
      "metadata": {
        "collapsed": false
      },
      "outputs": [],
      "source": [
        "import json\nimport os\nfrom pathlib import Path\n\nimport ansys.heart.core.models as models\nfrom ansys.heart.core.pre.database_utils import get_compatible_input\n\n# Use Fluent 24.1 for meshing.\nimport ansys.heart.core.pre.mesher as mesher\nfrom ansys.heart.core.utils.download import download_case_from_zenodo, unpack_case\n\nmesher._fluent_version = \"24.1\"\n\n# specify a download directory.\ndownload_folder = Path.home() / \"pyansys-heart\" / \"downloads\"\n\n# download a compatible case from the Zenodo database.\ntar_file = download_case_from_zenodo(\"Rodero2021\", 1, download_folder, overwrite=False)\n# unpack the case to get the unput .case/.vtk file.\ncase_file = unpack_case(tar_file)\n\n# specify working directory. Here we use the directory of the case file.\nworkdir = os.path.join(os.path.dirname(case_file), \"FullHeart\")\n\nif not os.path.isdir(workdir):\n    os.makedirs(workdir)\n\n# specify paths to the model, input, and part definitions.\npath_to_model = os.path.join(workdir, \"heart_model.vtu\")\npath_to_input = os.path.join(workdir, \"input_model.vtp\")\npath_to_part_definitions = os.path.join(workdir, \"part_definitions.json\")"
      ]
    },
    {
      "cell_type": "markdown",
      "metadata": {},
      "source": [
        "<div class=\"alert alert-info\"><h4>Note</h4><p>You may need to (manually) download the .case or .vtk files from the Strocchi2020\n   and Rodero2021 databases first. See:\n\n   - https://zenodo.org/records/3890034\n   - https://zenodo.org/records/4590294\n\n   Alternatively you can make use of the download\n   module instead. See the download example.</p></div>\n\n"
      ]
    },
    {
      "cell_type": "markdown",
      "metadata": {},
      "source": [
        "## Convert the .vtk file into compatible input format\n\n"
      ]
    },
    {
      "cell_type": "code",
      "execution_count": null,
      "metadata": {
        "collapsed": false
      },
      "outputs": [],
      "source": [
        "input_geom, part_definitions = get_compatible_input(\n    case_file, model_type=\"FullHeart\", database=\"Rodero2021\"\n)\n\n# Note that the input model and part definitions can be used for later use.\n# save input geometry and part definitions:\ninput_geom.save(path_to_input)\nwith open(path_to_part_definitions, \"w\") as f:\n    json.dump(part_definitions, f, indent=True)"
      ]
    },
    {
      "cell_type": "markdown",
      "metadata": {},
      "source": [
        "## Create a heart model\ninitialize a full heart model\n\n"
      ]
    },
    {
      "cell_type": "code",
      "execution_count": null,
      "metadata": {
        "collapsed": false
      },
      "outputs": [],
      "source": [
        "model = models.FullHeart(working_directory=workdir)\n\n# load input model generated in an earlier step.\nmodel.load_input(input_geom, part_definitions, \"surface-id\")\n\n# mesh the volume of all structural parts.\nmodel.mesh_volume(use_wrapper=True, global_mesh_size=1.5)\n\n# update the model and extract the required (anatomical) features\nmodel._update_parts()\n\n# Optionally save the simulation mesh as a vtk object for \"offline\" inspection\nmodel.mesh.save(os.path.join(model.workdir, \"simulation-mesh.vtu\"))\nmodel.save_model(os.path.join(model.workdir, \"heart_model.vtu\"))\n\n# print some info about the processed model.\nprint(model)\n\n# print part names\nprint(model.part_names)"
      ]
    },
    {
      "cell_type": "markdown",
      "metadata": {},
      "source": [
        "## Visualize results\nYou can visualize and inspect the components of the model by accessing\nvarious properties/attributes and invoke methods.\n\n"
      ]
    },
    {
      "cell_type": "code",
      "execution_count": null,
      "metadata": {
        "collapsed": false
      },
      "outputs": [],
      "source": [
        "print(f\"Volume of LV cavity: {model.left_ventricle.cavity.volume} mm^3\")\nprint(f\"Volume of LV cavity: {model.left_atrium.cavity.volume} mm^3\")\n\n# plot the remeshed model\nmodel.plot_mesh(show_edges=False)"
      ]
    },
    {
      "cell_type": "markdown",
      "metadata": {},
      "source": [
        "<img src=\"file://_static/images/full_heart_mesh.png\" width=\"400pt\" align=\"center\">\n\n"
      ]
    },
    {
      "cell_type": "code",
      "execution_count": null,
      "metadata": {
        "collapsed": false
      },
      "outputs": [],
      "source": [
        "# plot the endocardial surface of the left ventricle.\nmodel.left_ventricle.endocardium.plot(show_edges=True, color=\"r\")"
      ]
    },
    {
      "cell_type": "markdown",
      "metadata": {},
      "source": [
        "<img src=\"file://_static/images/full_heart_lv_endocardium.png\" width=\"400pt\" align=\"center\">\n\n"
      ]
    },
    {
      "cell_type": "code",
      "execution_count": null,
      "metadata": {
        "collapsed": false
      },
      "outputs": [],
      "source": [
        "# loop over all cavities and plot these in a single window with pyvista.\nimport pyvista as pv\n\ncavities = pv.PolyData()\nfor c in model.cavities:\n    cavities += c.surface\ncavities.plot(show_edges=True)"
      ]
    },
    {
      "cell_type": "markdown",
      "metadata": {},
      "source": [
        "<img src=\"file://_static/images/full_heart_cavities.png\" width=\"400pt\" align=\"center\">\n\n"
      ]
    }
  ],
  "metadata": {
    "kernelspec": {
      "display_name": "Python 3",
      "language": "python",
      "name": "python3"
    },
    "language_info": {
      "codemirror_mode": {
        "name": "ipython",
        "version": 3
      },
      "file_extension": ".py",
      "mimetype": "text/x-python",
      "name": "python",
      "nbconvert_exporter": "python",
      "pygments_lexer": "ipython3",
      "version": "3.11.9"
    }
  },
  "nbformat": 4,
  "nbformat_minor": 0
}