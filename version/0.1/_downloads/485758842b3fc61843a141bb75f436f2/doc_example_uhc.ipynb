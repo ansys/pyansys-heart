{
  "cells": [
    {
      "cell_type": "markdown",
      "metadata": {},
      "source": [
        "\n# UHC example\nThis example shows how to compute universal heart coordinate for ventricles.\n"
      ]
    },
    {
      "cell_type": "markdown",
      "metadata": {},
      "source": [
        "## Perform the required imports\nImport the required modules and set relevant paths, including that of the working\ndirectory, model, and ls-dyna executable (uses DEV-104373-g6d20c20aee).\n\n"
      ]
    },
    {
      "cell_type": "code",
      "execution_count": null,
      "metadata": {
        "collapsed": false
      },
      "outputs": [],
      "source": [
        "import copy\nimport os\nfrom pathlib import Path\n\nimport ansys.heart.preprocessor.models as models\nfrom ansys.heart.simulator.simulator import BaseSimulator, DynaSettings\nimport pyvista as pv\n\n# set working directory and path to model.\nworkdir = Path(\n    Path(__file__).resolve().parents[2], \"downloads\", \"Strocchi2020\", \"01\", \"FourChamber\"\n)\n\npath_to_model = os.path.join(workdir, \"heart_model.pickle\")\n\nif not os.path.isfile(path_to_model):\n    raise FileExistsError(f\"{path_to_model} not found\")\n\n# specify LS-DYNA path\nlsdyna_path = r\"ls-dyna_smp\"\n\nif not os.path.isfile(lsdyna_path):\n    raise FileExistsError(f\"{lsdyna_path} not found.\")\n\n# load heart model.\nmodel: models.FourChamber = models.HeartModel.load_model(path_to_model)\n\n# set base working directory\nmodel.info.workdir = str(workdir)"
      ]
    },
    {
      "cell_type": "markdown",
      "metadata": {},
      "source": [
        "## Instantiate the simulator object\ninstantiate simulator. Change options where necessary.\n\n"
      ]
    },
    {
      "cell_type": "code",
      "execution_count": null,
      "metadata": {
        "collapsed": false
      },
      "outputs": [],
      "source": [
        "# instantaiate dyna settings of choice\ndyna_settings = DynaSettings(\n    lsdyna_path=lsdyna_path,\n    dynatype=\"smp\",\n    num_cpus=1,\n)\n\nsimulator = BaseSimulator(\n    model=model,\n    dyna_settings=dyna_settings,\n    simulation_directory=os.path.join(workdir, \"simulation\"),\n)"
      ]
    },
    {
      "cell_type": "markdown",
      "metadata": {},
      "source": [
        "## Compute UHC\nCompute UHC using Laplace Dirichlet method.\n\n"
      ]
    },
    {
      "cell_type": "code",
      "execution_count": null,
      "metadata": {
        "collapsed": false
      },
      "outputs": [],
      "source": [
        "simulator.compute_uhc()"
      ]
    },
    {
      "cell_type": "markdown",
      "metadata": {},
      "source": [
        "<div class=\"alert alert-info\"><h4>Note</h4><p>There are several definitions for UHC (see https://github.com/KIT-IBT/Cobiveco).\n   Here, a simple approach is taken and the\n   Dirichlet conditions are shown below. At rotational direction, the start (pi), end (-pi)\n   and middle (0) points are defined from four-cavity long axis cut view.</p></div>\n\n"
      ]
    },
    {
      "cell_type": "markdown",
      "metadata": {},
      "source": [
        "<img src=\"file://_static/images/uvc_bc.png\" width=\"600pt\" align=\"center\">\n\n"
      ]
    },
    {
      "cell_type": "markdown",
      "metadata": {},
      "source": [
        "## Visualization of UVCs\n\n"
      ]
    },
    {
      "cell_type": "code",
      "execution_count": null,
      "metadata": {
        "collapsed": false
      },
      "outputs": [],
      "source": [
        "data_ventricles = pv.read(os.path.join(workdir, \"simulation\", \"uvc\", \"uvc.vtk\"))\n\nplotter = pv.Plotter(shape=(1, 3))\n\nplotter.subplot(0, 0)\nplotter.add_mesh(data_ventricles, scalars=\"apico-basal\")\n\nplotter.subplot(0, 1)\nplotter.add_mesh(copy.copy(data_ventricles), scalars=\"transmural\")\n\nplotter.subplot(0, 2)\nplotter.add_mesh(copy.copy(data_ventricles), scalars=\"rotational\")\nplotter.show()"
      ]
    },
    {
      "cell_type": "markdown",
      "metadata": {},
      "source": [
        "<img src=\"file://_static/images/uvc_result.png\" width=\"600pt\" align=\"center\">\n\n"
      ]
    },
    {
      "cell_type": "markdown",
      "metadata": {},
      "source": [
        "## Assign data to full model\n\n"
      ]
    },
    {
      "cell_type": "code",
      "execution_count": null,
      "metadata": {
        "collapsed": false
      },
      "outputs": [],
      "source": [
        "# UVC is assigned back to full model automatically\n# Atrial points are with NaN\nmodel.mesh.set_active_scalars(\"apico-basal\")\nmodel.mesh.plot()"
      ]
    },
    {
      "cell_type": "markdown",
      "metadata": {},
      "source": [
        "<img src=\"file://_static/images/uvc_assign.png\" width=\"600pt\" align=\"center\">\n\n"
      ]
    }
  ],
  "metadata": {
    "kernelspec": {
      "display_name": "Python 3",
      "language": "python",
      "name": "python3"
    },
    "language_info": {
      "codemirror_mode": {
        "name": "ipython",
        "version": 3
      },
      "file_extension": ".py",
      "mimetype": "text/x-python",
      "name": "python",
      "nbconvert_exporter": "python",
      "pygments_lexer": "ipython3",
      "version": "3.10.13"
    }
  },
  "nbformat": 4,
  "nbformat_minor": 0
}