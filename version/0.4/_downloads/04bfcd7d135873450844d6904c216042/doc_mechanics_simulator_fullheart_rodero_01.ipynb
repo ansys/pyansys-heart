{
  "cells": [
    {
      "cell_type": "markdown",
      "metadata": {},
      "source": [
        "\n# Full-heart mechanics\nThis example shows you how to consume a preprocessed full heart model and\nset it up for the main mechanical simulation. This examples demonstrates how\nyou can load a pre-computed heart model, compute the fiber direction, compute the\nstress free configuration, and finally simulate the mechanical model.\n"
      ]
    },
    {
      "cell_type": "markdown",
      "metadata": {},
      "source": [
        "# Example setup\nbefore computing the fiber orientation, and stress free configuration we\nneed to load the required modules, load a heart model and configure the\nmechanical simulator.\n\n## Perform the required imports\nImport the required modules and set relevant paths, including that of the working\ndirectory, model, and ls-dyna executable.\n\n"
      ]
    },
    {
      "cell_type": "code",
      "execution_count": null,
      "metadata": {
        "collapsed": false
      },
      "outputs": [],
      "source": [
        "import os\n\nimport ansys.heart.preprocessor.models as models\nfrom ansys.heart.simulator.simulator import DynaSettings, MechanicsSimulator\n\n# accept dpf license aggrement\n# https://dpf.docs.pyansys.com/version/stable/getting_started/licensing.html#ref-licensing\nos.environ[\"ANSYS_DPF_ACCEPT_LA\"] = \"Y\"\n\n# set working directory and path to model.\nworkdir = os.path.join(\"pyansys-heart\", \"downloads\", \"Rodero2021\", \"01\", \"FullHeart\")\n\n\npath_to_model = os.path.join(workdir, \"heart_model.vtu\")\n\n# load four chamber heart model.\nmodel: models.FullHeart = models.FullHeart(models.ModelInfo(work_directory=workdir))\nmodel.load_model_from_mesh(path_to_model, path_to_model.replace(\".vtu\", \".partinfo.json\"))\nmodel._extract_apex()\nmodel.compute_left_ventricle_anatomy_axis()\nmodel.compute_left_ventricle_aha17()\n\n# set base working directory\nmodel.info.workdir = str(workdir)"
      ]
    },
    {
      "cell_type": "markdown",
      "metadata": {},
      "source": [
        "## Instantiate the simulator object\ninstantiate your DynaSettings and Simulator objects.\nChange options where necessary. Note that you may need to configure your environment\nvariables if you choose to use a `mpi` version of LS-DYNA.\n\n"
      ]
    },
    {
      "cell_type": "code",
      "execution_count": null,
      "metadata": {
        "collapsed": false
      },
      "outputs": [],
      "source": [
        "# instantiate dyna settings object\nlsdyna_path = \"lsdyna_intelmpi\"\n# instantiate dyna settings object\ndyna_settings = DynaSettings(\n    lsdyna_path=lsdyna_path,\n    dynatype=\"intelmpi\",\n    num_cpus=8,\n)\n\n\n# instantiate simulator object\nsimulator = MechanicsSimulator(\n    model=model,\n    dyna_settings=dyna_settings,\n    simulation_directory=os.path.join(workdir, \"simulation-mechanics\"),\n)"
      ]
    },
    {
      "cell_type": "markdown",
      "metadata": {},
      "source": [
        "## Load simulation settings\nHere we load the default settings.\n\n"
      ]
    },
    {
      "cell_type": "code",
      "execution_count": null,
      "metadata": {
        "collapsed": false
      },
      "outputs": [],
      "source": [
        "simulator.settings.load_defaults()"
      ]
    },
    {
      "cell_type": "markdown",
      "metadata": {},
      "source": [
        "## Compute the fiber orientation\nCompute fiber orientation and plot the computed fibers on the entire model.\n\n"
      ]
    },
    {
      "cell_type": "code",
      "execution_count": null,
      "metadata": {
        "collapsed": false
      },
      "outputs": [],
      "source": [
        "simulator.compute_fibers()\n\n# # Plot the resulting fiber orientation\nsimulator.model.plot_fibers(n_seed_points=2000)"
      ]
    },
    {
      "cell_type": "markdown",
      "metadata": {},
      "source": [
        "<img src=\"file://_static/images/full_heart_rodero_01_fibers.png\" width=\"400pt\" align=\"center\">\n\n"
      ]
    },
    {
      "cell_type": "markdown",
      "metadata": {},
      "source": [
        "## Compute the stress free configuration\nCompute the stress free configuration. That is, when imaged under diastole\nwe need to approximate the initial stress at `t=0`. The stress free configuration\nis computed through Rausch' method.\n\n"
      ]
    },
    {
      "cell_type": "code",
      "execution_count": null,
      "metadata": {
        "collapsed": false
      },
      "outputs": [],
      "source": [
        "simulator.compute_stress_free_configuration()"
      ]
    },
    {
      "cell_type": "markdown",
      "metadata": {},
      "source": [
        "## Start main simulation\nStart the main mechanical simulation. This uses the previously computed fiber orientation\nand stress free configuration and runs the final LS-DYNA heart model.\n\n"
      ]
    },
    {
      "cell_type": "code",
      "execution_count": null,
      "metadata": {
        "collapsed": false
      },
      "outputs": [],
      "source": [
        "simulator.simulate()"
      ]
    }
  ],
  "metadata": {
    "kernelspec": {
      "display_name": "Python 3",
      "language": "python",
      "name": "python3"
    },
    "language_info": {
      "codemirror_mode": {
        "name": "ipython",
        "version": 3
      },
      "file_extension": ".py",
      "mimetype": "text/x-python",
      "name": "python",
      "nbconvert_exporter": "python",
      "pygments_lexer": "ipython3",
      "version": "3.10.14"
    }
  },
  "nbformat": 4,
  "nbformat_minor": 0
}