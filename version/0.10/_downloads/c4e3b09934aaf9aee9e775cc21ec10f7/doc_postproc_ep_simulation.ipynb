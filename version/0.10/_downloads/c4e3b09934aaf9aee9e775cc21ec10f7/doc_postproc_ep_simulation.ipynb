{
  "cells": [
    {
      "cell_type": "markdown",
      "metadata": {},
      "source": [
        "\n# Post process EP simulation\nThis example shows you how to post process an EP simulation.\n"
      ]
    },
    {
      "cell_type": "markdown",
      "metadata": {},
      "source": [
        "## Perform the required imports\nImport the required modules\n\n"
      ]
    },
    {
      "cell_type": "code",
      "execution_count": null,
      "metadata": {
        "collapsed": false
      },
      "outputs": [],
      "source": [
        "import os\nimport pathlib\n\nfrom ansys.heart.postprocessor.ep_postprocessor import EPpostprocessor\n\n# set ep results folder\nep_folder = os.path.join(\n    pathlib.Path(__file__).absolute().parents[2],\n    \"downloads\\\\Strocchi2020\\\\01\\FourChamber\\\\simulation-EP\\\\main-ep\\\\d3plot\",\n)"
      ]
    },
    {
      "cell_type": "markdown",
      "metadata": {},
      "source": [
        "## Instantiate the Postprocessor\ninstantiate Postprocessor\n\n"
      ]
    },
    {
      "cell_type": "code",
      "execution_count": null,
      "metadata": {
        "collapsed": false
      },
      "outputs": [],
      "source": [
        "postproc = EPpostprocessor(results_path=ep_folder)"
      ]
    },
    {
      "cell_type": "markdown",
      "metadata": {},
      "source": [
        "## 12-LEAD ECGs\nPlot 12-Lead ECGs\n\n"
      ]
    },
    {
      "cell_type": "code",
      "execution_count": null,
      "metadata": {
        "collapsed": false
      },
      "outputs": [],
      "source": [
        "ECGs, times = postproc.read_ECGs(\n    os.path.join(\n        pathlib.Path(__file__).absolute().parents[2],\n        \"downloads\\\\Strocchi2020\\\\01\\FourChamber\\\\simulation-EP\\\\main-ep\\\\em_EKG_001.dat\",\n    )\n)\n\n\nECGs12 = postproc.compute_12_lead_ECGs(ECGs=ECGs, times=times, plot=True)"
      ]
    },
    {
      "cell_type": "markdown",
      "metadata": {},
      "source": [
        "<img src=\"file://_static/images/ep_post_12LeadECGs.png\" width=\"300pt\" align=\"center\">\n\n"
      ]
    },
    {
      "cell_type": "markdown",
      "metadata": {},
      "source": [
        "## Activation times\nGet activation times and plot the field\n\n"
      ]
    },
    {
      "cell_type": "code",
      "execution_count": null,
      "metadata": {
        "collapsed": false
      },
      "outputs": [],
      "source": [
        "activation_time_field = postproc.get_activation_times()\nactivation_time_field.plot(show_edges=False)"
      ]
    },
    {
      "cell_type": "markdown",
      "metadata": {},
      "source": [
        "<img src=\"file://_static/images/ep_post_activationtime.png\" width=\"300pt\" align=\"center\">\n\n"
      ]
    },
    {
      "cell_type": "code",
      "execution_count": null,
      "metadata": {
        "collapsed": false
      },
      "outputs": [],
      "source": [
        "# Compute total activation time\nactivation_time_data = activation_time_field.data_as_list\ntotal_acctivation_time = max(activation_time_data) - min(activation_time_data)\nprint(\"Total activation time: \" + str(total_acctivation_time) + \" ms\")"
      ]
    },
    {
      "cell_type": "markdown",
      "metadata": {},
      "source": [
        "## Transmembrane potentials\nGet transmembrane potentials on list of nodes and plot\n\n"
      ]
    },
    {
      "cell_type": "code",
      "execution_count": null,
      "metadata": {
        "collapsed": false
      },
      "outputs": [],
      "source": [
        "vm, times = postproc.get_transmembrane_potential(node_id=[0, 1, 100], plot=True)"
      ]
    },
    {
      "cell_type": "markdown",
      "metadata": {},
      "source": [
        "<img src=\"file://_static/images/ep_tm.png\" width=\"300pt\" align=\"center\">\n\n"
      ]
    },
    {
      "cell_type": "code",
      "execution_count": null,
      "metadata": {
        "collapsed": false
      },
      "outputs": [],
      "source": [
        "# Animate and export in vtk format\npostproc.export_transmembrane_to_vtk()\npostproc.animate_transmembrane()"
      ]
    }
  ],
  "metadata": {
    "kernelspec": {
      "display_name": "Python 3",
      "language": "python",
      "name": "python3"
    },
    "language_info": {
      "codemirror_mode": {
        "name": "ipython",
        "version": 3
      },
      "file_extension": ".py",
      "mimetype": "text/x-python",
      "name": "python",
      "nbconvert_exporter": "python",
      "pygments_lexer": "ipython3",
      "version": "3.11.11"
    }
  },
  "nbformat": 4,
  "nbformat_minor": 0
}