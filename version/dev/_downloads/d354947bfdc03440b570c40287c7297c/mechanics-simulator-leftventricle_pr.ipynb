{
  "cells": [
    {
      "cell_type": "markdown",
      "metadata": {},
      "source": [
        "\n# Run a left ventricle mechanical simulation\nThis example shows you how to perform the following actions:\n\n- Generate a left-ventricle model from a labeled surface.\n- Set up the model for mechanical simulation:\n\n  - Generate fibers.\n  - Assign material.\n  - Tune boundary conditions.\n  - Compute stress-free configuration.\n  - Run the simulation for one heartbeat.\n\n- Postprocess the results:\n\n  - Plot the stress-free configuration versus the end-diastole configuration.\n  - Plot the Klotz curve.\n  - Animate the simulation results.\n  - Plot the PV loop.\n"
      ]
    },
    {
      "cell_type": "markdown",
      "metadata": {},
      "source": [
        "<div class=\"alert alert-danger\"><h4>Warning</h4><p>When using a standalone version of the DPF Server, you must accept the [license terms](https://dpf.docs.pyansys.com/version/stable/getting_started/licensing.html). To\n   accept these terms, you can set this environment variable:\n\n```python\nimport os\nos.environ[\"ANSYS_DPF_ACCEPT_LA\"] = \"Y\"</p></div>\n```\n"
      ]
    },
    {
      "cell_type": "markdown",
      "metadata": {},
      "source": [
        "## Perform the required imports\nImport the required modules and set relevant paths, including that of the working\ndirectory, heart model, and LS-DYNA executable file.\n\n"
      ]
    },
    {
      "cell_type": "code",
      "execution_count": null,
      "metadata": {
        "collapsed": false
      },
      "outputs": [],
      "source": [
        "import copy\nimport glob\nimport json\nimport os\nfrom pathlib import Path\nimport time\n\nimport matplotlib.pyplot as plt\nfrom pint import Quantity\nimport pyvista as pv\n\nfrom ansys.health.heart.examples import get_input_leftventricle\nimport ansys.health.heart.models as models\nfrom ansys.health.heart.post.auto_process import zerop_post\nfrom ansys.health.heart.post.dpf_utils import ICVoutReader\nfrom ansys.health.heart.settings.material.material import ACTIVE, ANISO, ISO, Mat295\nfrom ansys.health.heart.simulator import DynaSettings, MechanicsSimulator"
      ]
    },
    {
      "cell_type": "markdown",
      "metadata": {},
      "source": [
        "## Get the model input surface and part definitions\n\n"
      ]
    },
    {
      "cell_type": "code",
      "execution_count": null,
      "metadata": {
        "collapsed": false
      },
      "outputs": [],
      "source": [
        "path_to_surface, path_to_part_definitions = get_input_leftventricle()\n\n# Plot the input surface.\nsurface = pv.read(path_to_surface)\nsurface.plot()\n\n# Load and print the parts defined in the JSON file.\nwith open(path_to_part_definitions, \"r\") as f:\n    part_definitions = json.load(f)\n\n# Print the part definitions using indentation for better readability.\nprint(json.dumps(part_definitions, indent=4))"
      ]
    },
    {
      "cell_type": "markdown",
      "metadata": {},
      "source": [
        "## Load the input surface and mesh the model.\nSet the working directory.\n\n"
      ]
    },
    {
      "cell_type": "code",
      "execution_count": null,
      "metadata": {
        "collapsed": false
      },
      "outputs": [],
      "source": [
        "workdir = (\n    Path.home() / \"pyansys-heart\" / \"downloads\" / \"Rodero2021\" / \"01\" / \"LeftVentricle-simulation\"\n)\n\n# Initialize a left ventricle model.\nmodel: models.LeftVentricle = models.LeftVentricle(working_directory=workdir)\n\n# Load the input surface.\nmodel.load_input(surface, part_definitions, scalar=\"surface-id\")\n\n# Mesh the volume.\nmodel.mesh_volume(use_wrapper=True, global_mesh_size=4.0, _global_wrap_size=4.0)\n\n# Update the model.\nmodel.update()\n\n# Plot the mesh.\nmodel.plot_mesh()"
      ]
    },
    {
      "cell_type": "markdown",
      "metadata": {},
      "source": [
        "<div class=\"alert alert-info\"><h4>Note</h4><p>This mesh is very coarse for and for demonstration purposes. In practice, the mesh size should\n   be smaller.</p></div>\n\n"
      ]
    },
    {
      "cell_type": "markdown",
      "metadata": {},
      "source": [
        "## Instantiate the simulator\nInstantiate the simulator and define settings.\n\n"
      ]
    },
    {
      "cell_type": "code",
      "execution_count": null,
      "metadata": {
        "collapsed": false
      },
      "outputs": [],
      "source": [
        "# Specify the LS-DYNA path.\nlsdyna_path = r\"ls-dyna_mpp\"\n\n# Instantiate LS-DYNA settings.\ndyna_settings = DynaSettings(\n    lsdyna_path=lsdyna_path, dynatype=\"intelmpi\", num_cpus=2, platform=\"windows\"\n)\n\n# Instantiate the simulator, modifying options as necessary.\nsimulator = MechanicsSimulator(\n    model=model,\n    dyna_settings=dyna_settings,\n    simulation_directory=os.path.join(workdir, \"simulation-mechanics\"),\n)"
      ]
    },
    {
      "cell_type": "markdown",
      "metadata": {},
      "source": [
        "## Load simulation settings\nLoad the default settings.\n\n"
      ]
    },
    {
      "cell_type": "code",
      "execution_count": null,
      "metadata": {
        "collapsed": false
      },
      "outputs": [],
      "source": [
        "simulator.settings.load_defaults()"
      ]
    },
    {
      "cell_type": "markdown",
      "metadata": {},
      "source": [
        "## Compute fiber orientation\nCompute fiber orientation and plot the fibers.\n\n"
      ]
    },
    {
      "cell_type": "code",
      "execution_count": null,
      "metadata": {
        "collapsed": false
      },
      "outputs": [],
      "source": [
        "simulator.compute_fibers(method=\"D-RBM\")\n\n# Plot the fiber orientation by streamlines.\nsimulator.model.plot_fibers(n_seed_points=2000)"
      ]
    },
    {
      "cell_type": "markdown",
      "metadata": {},
      "source": [
        "## Assign a material to the left ventricle.\n\n"
      ]
    },
    {
      "cell_type": "code",
      "execution_count": null,
      "metadata": {
        "collapsed": false
      },
      "outputs": [],
      "source": [
        "# Define a material for the myocardium.\nmyocardium = Mat295(\n    rho=0.001,\n    iso=ISO(itype=-3, beta=2, kappa=1.0, k1=0.20e-3, k2=6.55),\n    aniso=ANISO(\n        atype=-1,\n        fibers=[ANISO.HGOFiber(k1=0.00305, k2=29.05), ANISO.HGOFiber(k1=1.25e-3, k2=36.65)],\n        k1fs=0.15e-3,\n        k2fs=6.28,\n    ),\n    active=ACTIVE(),  # This uses the default active model\n)\n\n# Assign the material to the left ventricle.\nsimulator.model.left_ventricle.meca_material = myocardium"
      ]
    },
    {
      "cell_type": "markdown",
      "metadata": {},
      "source": [
        "## Compute the stress-free configuration\n\n"
      ]
    },
    {
      "cell_type": "code",
      "execution_count": null,
      "metadata": {
        "collapsed": false
      },
      "outputs": [],
      "source": [
        "# Compute the stress-free configuration and estimate initial stress.\nsimulator.compute_stress_free_configuration()\n\n# Plot stress-free geometry.\nreport, stress_free_coord, guess_ed_coord = zerop_post(\n    os.path.join(workdir, \"simulation-mechanics\", \"zeropressure\"), model\n)\nzerop = copy.deepcopy(model.mesh)\n\n# Update the points of the mesh with the stress-free coordinates.\nzerop.points = stress_free_coord\n\n# Plot the original and stress-free meshes.\nplotter = pv.Plotter()\nplotter.add_mesh(zerop, color=\"red\", opacity=0.3, label=\"stress-free shape\")\nplotter.add_mesh(simulator.model.mesh, color=\"grey\", opacity=0.2, label=\"end-of-diastole\")\nplotter.add_legend()\nplotter.show()\n\n# Print the stress free report in readable format.\nprint(json.dumps(report, indent=4))"
      ]
    },
    {
      "cell_type": "markdown",
      "metadata": {},
      "source": [
        "<div class=\"alert alert-info\"><h4>Note</h4><p>The input geometry is assumed to be at the end-of-diastole with a\n   ventricular pressure of 15 mmHg. You can modify this pressure in the settings.</p></div>\n\n"
      ]
    },
    {
      "cell_type": "markdown",
      "metadata": {},
      "source": [
        "## Run the main simulation\n\n"
      ]
    },
    {
      "cell_type": "code",
      "execution_count": null,
      "metadata": {
        "collapsed": false
      },
      "outputs": [],
      "source": [
        "# Tune the boundary conditions at the valve regions: in this model there are\n# springs in radial and normal direction of the valve region which constrain the model.\nsimulator.settings.mechanics.boundary_conditions.valve[\"stiffness\"] = Quantity(0.02, \"MPa/mm\")\n\n# Start the mechanical simulation.\nsimulator.simulate()"
      ]
    },
    {
      "cell_type": "markdown",
      "metadata": {},
      "source": [
        "<div class=\"alert alert-info\"><h4>Note</h4><p>By default, the simulation is coupled to an open-loop circulation model with\n   a constant preload and a Windkessel-type afterload. Moreover, the simulation\n   is set to run for a single heartbeat.</p></div>\n\n"
      ]
    },
    {
      "cell_type": "markdown",
      "metadata": {},
      "source": [
        "## Postprocessing\n\n"
      ]
    },
    {
      "cell_type": "code",
      "execution_count": null,
      "metadata": {
        "collapsed": false
      },
      "outputs": [],
      "source": [
        "# Plot pressure-volume loop\n# ~~~~~~~~~~~~~~~~~~~~~~~~~\n\n# Read the LS-DYNA binout file that contains cavity volumes and pressure.\nicvout = ICVoutReader(os.path.join(workdir, \"simulation-mechanics\", \"main-mechanics\", \"binout0000\"))\npressure = icvout.get_pressure(1)\nvolume = icvout.get_volume(1)\n\n# Convert to mL and mmHg and plot the pressure and volume curves.\nplt.plot(volume / 1000, pressure * 7500, label=\"Left ventricle\")\nplt.xlabel(\"Volume (mL)\")\nplt.ylabel(\"Pressure (mmHg)\")\nplt.title(\"Pressure-volume loop\")\nplt.show()\n\n# Plot the displacement field\n# ~~~~~~~~~~~~~~~~~~~~~~~~~~~\nmesh_folder = os.path.join(workdir, \"simulation-mechanics\", \"main-mechanics\", \"post\", \"vtks\")\nmesh_files = sorted(glob.glob(f\"{mesh_folder}/*.vtu\"))\nmesh_list = []\nfor mesh_file in mesh_files:\n    mesh = pv.read(mesh_file)\n    mesh.set_active_vectors(\"displacement\")\n    mesh_list.append(mesh)\n\n# Create a PyVista plotter\nplotter = pv.Plotter()\n\nif mesh_files:\n    actor = plotter.add_mesh(mesh_list[0])\n\nplotter.show(interactive_update=True)\n\n\n# Animate the meshes over time\n# ~~~~~~~~~~~~~~~~~~~~~~~~~~~~\n# Use a function for animation.\ndef animate():\n    for m in mesh_list:\n        plotter.clear()\n        plotter.add_mesh(m, show_edges=True, opacity=0.5, scalars=None)\n        plotter.update()\n        plotter.render()\n        time.sleep(0.1)  # Control animation speed\n\n\n# Animate the model.\nanimate()"
      ]
    }
  ],
  "metadata": {
    "kernelspec": {
      "display_name": "Python 3",
      "language": "python",
      "name": "python3"
    },
    "language_info": {
      "codemirror_mode": {
        "name": "ipython",
        "version": 3
      },
      "file_extension": ".py",
      "mimetype": "text/x-python",
      "name": "python",
      "nbconvert_exporter": "python",
      "pygments_lexer": "ipython3",
      "version": "3.11.9"
    }
  },
  "nbformat": 4,
  "nbformat_minor": 0
}