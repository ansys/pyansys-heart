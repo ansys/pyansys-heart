{
  "cells": [
    {
      "cell_type": "markdown",
      "metadata": {},
      "source": [
        "\n# UHC example\nThis example shows how to compute universal heart coordinates (UHC) for\nthe ventricles.\n"
      ]
    },
    {
      "cell_type": "markdown",
      "metadata": {},
      "source": [
        "## Perform the required imports\nImport the required modules and set relevant paths, including that of the working\ndirectory, model, and ls-dyna executable (uses DEV-104373-g6d20c20aee).\n\n"
      ]
    },
    {
      "cell_type": "code",
      "execution_count": null,
      "metadata": {
        "collapsed": false
      },
      "outputs": [],
      "source": [
        "import copy\nimport os\n\nimport pyvista as pv\n\nimport ansys.heart.core.models as models\nfrom ansys.heart.simulator.simulator import BaseSimulator, DynaSettings\n\n# specify the path to the working directory and heart model\nworkdir = os.path.abspath(os.path.join(\"downloads\", \"Strocchi2020\", \"01\", \"FourChamber\"))\n\n\npath_to_model = os.path.join(workdir, \"heart_model.vtu\")\n\n# specify LS-DYNA path\nlsdyna_path = r\"ls-dyna_smp\"\n\n# load heart model.\nmodel: models.FourChamber = models.FourChamber(working_directory=workdir)\nmodel.load_model_from_mesh(path_to_model, path_to_model.replace(\".vtu\", \".partinfo.json\"))"
      ]
    },
    {
      "cell_type": "markdown",
      "metadata": {},
      "source": [
        "## Instantiate the simulator object\ninstantiate simulator. Change options where necessary.\n\n"
      ]
    },
    {
      "cell_type": "code",
      "execution_count": null,
      "metadata": {
        "collapsed": false
      },
      "outputs": [],
      "source": [
        "# instantiate dyna settings of choice\ndyna_settings = DynaSettings(\n    lsdyna_path=lsdyna_path,\n    dynatype=\"intelmpi\",\n    num_cpus=1,\n)\n\n\nsimulator = BaseSimulator(\n    model=model,\n    dyna_settings=dyna_settings,\n    simulation_directory=os.path.join(workdir, \"simulation\"),\n)"
      ]
    },
    {
      "cell_type": "markdown",
      "metadata": {},
      "source": [
        "## Compute UHC\nCompute UHC using Laplace Dirichlet method.\n\n"
      ]
    },
    {
      "cell_type": "code",
      "execution_count": null,
      "metadata": {
        "collapsed": false
      },
      "outputs": [],
      "source": [
        "simulator.compute_uhc()"
      ]
    },
    {
      "cell_type": "markdown",
      "metadata": {},
      "source": [
        "<div class=\"alert alert-info\"><h4>Note</h4><p>There are several definitions for UHC (see https://github.com/KIT-IBT/Cobiveco).\n   Here, a simple approach is taken and the\n   Dirichlet conditions are shown below. At rotational direction, the start (pi), end (-pi)\n   and middle (0) points are defined from four-cavity long axis cut view.</p></div>\n\n"
      ]
    },
    {
      "cell_type": "markdown",
      "metadata": {},
      "source": [
        "<img src=\"file://_static/images/uvc_bc.png\" width=\"600pt\" align=\"center\">\n\n"
      ]
    },
    {
      "cell_type": "markdown",
      "metadata": {},
      "source": [
        "## Visualization of UVCs\nUVC is assigned back to the full model automatically\nAtrial points are padded with NaN's\n\n"
      ]
    },
    {
      "cell_type": "code",
      "execution_count": null,
      "metadata": {
        "collapsed": false
      },
      "outputs": [],
      "source": [
        "plotter = pv.Plotter(shape=(1, 3))\n\nplotter.subplot(0, 0)\nplotter.add_mesh(simulator.model.mesh, scalars=\"apico-basal\")\n\nplotter.subplot(0, 1)\nplotter.add_mesh(copy.copy(simulator.model.mesh), scalars=\"transmural\")\n\nplotter.subplot(0, 2)\nplotter.add_mesh(copy.copy(simulator.model.mesh), scalars=\"rotational\")\nplotter.show()"
      ]
    },
    {
      "cell_type": "markdown",
      "metadata": {},
      "source": [
        "<img src=\"file://_static/images/uvc_result.png\" width=\"600pt\" align=\"center\">\n\n"
      ]
    }
  ],
  "metadata": {
    "kernelspec": {
      "display_name": "Python 3",
      "language": "python",
      "name": "python3"
    },
    "language_info": {
      "codemirror_mode": {
        "name": "ipython",
        "version": 3
      },
      "file_extension": ".py",
      "mimetype": "text/x-python",
      "name": "python",
      "nbconvert_exporter": "python",
      "pygments_lexer": "ipython3",
      "version": "3.10.16"
    }
  },
  "nbformat": 4,
  "nbformat_minor": 0
}