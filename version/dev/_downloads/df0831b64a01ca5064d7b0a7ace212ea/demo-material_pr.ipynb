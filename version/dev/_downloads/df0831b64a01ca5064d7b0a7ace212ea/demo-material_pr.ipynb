{
  "cells": [
    {
      "cell_type": "markdown",
      "metadata": {},
      "source": [
        "\n# Define materials\nThis example shows how to create a mechanical material and assign it to a heart part.\n"
      ]
    },
    {
      "cell_type": "markdown",
      "metadata": {},
      "source": [
        "## Import material module\n\n"
      ]
    },
    {
      "cell_type": "code",
      "execution_count": null,
      "metadata": {
        "collapsed": false
      },
      "outputs": [],
      "source": [
        "from pathlib import Path\n\nimport matplotlib.pyplot as plt\n\nfrom ansys.health.heart.settings.material.curve import (\n    ActiveCurve,\n    constant_ca2,\n    kumaraswamy_active,\n)\nfrom ansys.health.heart.settings.material.ep_material import CellModel, EPMaterial\nfrom ansys.health.heart.settings.material.material import (\n    ACTIVE,\n    ANISO,\n    ISO,\n    ActiveModel,\n    Mat295,\n    NeoHookean,\n)"
      ]
    },
    {
      "cell_type": "markdown",
      "metadata": {},
      "source": [
        "<div class=\"alert alert-info\"><h4>Note</h4><p>The unit system for heart modeling in LS-DYNA is ``[\"MPa\", \"mm\", \"N\", \"ms\", \"g\"]``.</p></div>\n\n"
      ]
    },
    {
      "cell_type": "markdown",
      "metadata": {},
      "source": [
        "## Create a material\nCreate a Neo-Hookean material as follows.\n\n"
      ]
    },
    {
      "cell_type": "code",
      "execution_count": null,
      "metadata": {
        "collapsed": false
      },
      "outputs": [],
      "source": [
        "neo = NeoHookean(rho=0.001, c10=1, nu=0.499)"
      ]
    },
    {
      "cell_type": "markdown",
      "metadata": {},
      "source": [
        "The recommended way to create a Neo-Hookean material is by\nactivating only the isotropic module in MAT_295.\n\n"
      ]
    },
    {
      "cell_type": "code",
      "execution_count": null,
      "metadata": {
        "collapsed": false
      },
      "outputs": [],
      "source": [
        "neo2 = Mat295(rho=0.001, iso=ISO(itype=1, beta=2, kappa=1, mu1=0.05, alpha1=2))"
      ]
    },
    {
      "cell_type": "markdown",
      "metadata": {},
      "source": [
        "<div class=\"alert alert-info\"><h4>Note</h4><p>For more information on MAT_295, see the [LS-DYNA manuals](https://lsdyna.ansys.com/manuals/).</p></div>\n\n"
      ]
    },
    {
      "cell_type": "code",
      "execution_count": null,
      "metadata": {
        "collapsed": false
      },
      "outputs": [],
      "source": [
        "# Additional steps follow for creating MAT_295, which is used for myocardium.\n\n# step 1: create an isotropic module\niso = ISO(k1=1, k2=1, kappa=100)\n\n# step 2: create an anisotropic module\nfiber = ANISO.HGOFiber(k1=1, k2=1)\naniso1 = ANISO(fibers=[fiber])\n\n# Create fiber with sheet, and their interactions\nsheet = ANISO.HGOFiber(k1=1, k2=1)\naniso2 = ANISO(fibers=[fiber, sheet], k1fs=1, k2fs=1)\n\n# step3: create the active module\n\n# example 1:\n# create active model 1\nac_model1 = ActiveModel.Model1()\n# create Ca2+ curve\nac_curve1 = ActiveCurve(constant_ca2(tb=800, ca2ionm=ac_model1.ca2ionm), type=\"ca2\", threshold=0.5)\n# build active module\nactive = ACTIVE(model=ac_model1, ca2_curve=ac_curve1)\n\n## Active model 1 must have a constant ca2ion,\n# but the curve must cross the threshold at every start of the heart beat."
      ]
    },
    {
      "cell_type": "markdown",
      "metadata": {},
      "source": [
        "## Plot Ca2+ with threshold\nPlot Ca2+ with the threshold.\n\n"
      ]
    },
    {
      "cell_type": "code",
      "execution_count": null,
      "metadata": {
        "collapsed": false
      },
      "outputs": [],
      "source": [
        "fig = active.ca2_curve.plot_time_vs_ca2()\nplt.show()\n\n# example 2\n# create active model 3\nac_model3 = ActiveModel.Model3()\n# create a stress curve and show\nac_curve3 = ActiveCurve(kumaraswamy_active(t_end=800), type=\"stress\")\nfig = ac_curve3.plot_time_vs_stress()\nplt.show()"
      ]
    },
    {
      "cell_type": "markdown",
      "metadata": {},
      "source": [
        "<div class=\"alert alert-info\"><h4>Note</h4><p>When eta=0 in model 3, the stress curve is the active stress for all elements.\n  If eta!=0, this is the idealized active stress when fiber stretch stays at 1.</p></div>\n\n"
      ]
    },
    {
      "cell_type": "code",
      "execution_count": null,
      "metadata": {
        "collapsed": false
      },
      "outputs": [],
      "source": [
        "# PyAnsys Heart converts the stress curve to Ca2+ curve (input of MAT_295)\nfig = ac_curve3.plot_time_vs_ca2()\nplt.show()\n\n# build active module\nactive3 = ACTIVE(model=ac_model3, ca2_curve=ac_curve3)"
      ]
    },
    {
      "cell_type": "markdown",
      "metadata": {},
      "source": [
        "## Create MAT_295 with modules\nCreate MAT_295 with the preceding modules.\n\n"
      ]
    },
    {
      "cell_type": "code",
      "execution_count": null,
      "metadata": {
        "collapsed": false
      },
      "outputs": [],
      "source": [
        "iso_mat = Mat295(rho=1, iso=iso, aniso=None, active=None)\npassive_mat = Mat295(rho=1, iso=iso, aniso=aniso1, active=None)\nactive_mat = Mat295(rho=1, iso=iso, aniso=aniso1, active=active)"
      ]
    },
    {
      "cell_type": "markdown",
      "metadata": {},
      "source": [
        "## Create EP materials\n\n"
      ]
    },
    {
      "cell_type": "code",
      "execution_count": null,
      "metadata": {
        "collapsed": false
      },
      "outputs": [],
      "source": [
        "ep_mat_active = EPMaterial.Active(\n    sigma_fiber=1, sigma_sheet=0.5, beta=140, cm=0.01, cell_model=CellModel.Tentusscher()\n)\nepinsulator = EPMaterial.Insulator()\n\n# import pyvista as pv\n\n\n# ##############################################################################\n# .. note::\n#    The Ca2+ curve is ignored if the simulation is coupled with electrophysiology."
      ]
    },
    {
      "cell_type": "markdown",
      "metadata": {},
      "source": [
        "## Assign materials to a part\nAssign the materials to the heart model.\n\n"
      ]
    },
    {
      "cell_type": "markdown",
      "metadata": {},
      "source": [
        "## Load a heart model\n\n"
      ]
    },
    {
      "cell_type": "markdown",
      "metadata": {},
      "source": [
        "<div class=\"alert alert-info\"><h4>Note</h4><p>You must complete the full heart preprocessing example first.</p></div>\n\n"
      ]
    },
    {
      "cell_type": "code",
      "execution_count": null,
      "metadata": {
        "collapsed": false
      },
      "outputs": [],
      "source": [
        "import ansys.health.heart.examples as examples\nimport ansys.health.heart.models as models\n\nheart_model_vtu, heart_model_partinfo, _ = examples.get_preprocessed_fullheart()\nworkdir = str(Path.home() / \"pyansys-heart\" / \"Rodero2021\")\n\n# Load a full-heart model.\nheartmodel: models.FullHeart = models.FullHeart(working_directory=workdir)\nheartmodel.load_model_from_mesh(heart_model_vtu, heart_model_partinfo)\n\nheartmodel.plot_mesh(show_edges=False)\n\n# Print the default material. You should see that the material is empty.\nprint(heartmodel.left_ventricle.meca_material)\nprint(heartmodel.left_ventricle.ep_material)"
      ]
    },
    {
      "cell_type": "markdown",
      "metadata": {},
      "source": [
        "<div class=\"alert alert-info\"><h4>Note</h4><p>If no material is set before writing k files, the default material\n   from the ``settings`` object is used.</p></div>\n\n"
      ]
    },
    {
      "cell_type": "code",
      "execution_count": null,
      "metadata": {
        "collapsed": false
      },
      "outputs": [],
      "source": [
        "# Assign the material that you just created.\nheartmodel.left_ventricle.meca_material = active_mat\nheartmodel.left_ventricle.ep_material = ep_mat_active\n\n# Print it. You should see the following:\n# MAT295(rho=1, iso=ISO(itype=-3, beta=0.0, nu=0.499, k1=1, k2=1), aopt=2.0, aniso=ANISO(atype=-1, fibers=[ANISO.HGOFiber(k1=1, k2=1, a=0.0, b=1.0, _theta=0.0, _ftype=1, _fcid=0)], k1fs=None, k2fs=None, vec_a=(1.0, 0.0, 0.0), vec_d=(0.0, 1.0, 0.0), nf=1, intype=0), active=ActiveModel.Model1(t0=None, ca2ion=None, ca2ionm=4.35, n=2, taumax=0.125, stf=0.0, b=4.75, l0=1.58, l=1.85, dtmax=150, mr=1048.9, tr=-1629.0))  # noqa\nprint(heartmodel.left_ventricle.meca_material)\nprint(heartmodel.left_ventricle.ep_material)"
      ]
    },
    {
      "cell_type": "markdown",
      "metadata": {},
      "source": [
        "Create a new part and set material\n\n"
      ]
    },
    {
      "cell_type": "code",
      "execution_count": null,
      "metadata": {
        "collapsed": false
      },
      "outputs": [],
      "source": [
        "# # A new part can be created by elements IDs\n# ids = np.where(heartmodel.mesh.point_data_to_cell_data()[\"uvc_longitudinal\"] > 0.9)[0]\n# new_part: Part = heartmodel.create_part_by_ids(ids, \"new_part\")\n\n# # Show the part\n# plotter = heartmodel.plot_part(new_part)"
      ]
    }
  ],
  "metadata": {
    "kernelspec": {
      "display_name": "Python 3",
      "language": "python",
      "name": "python3"
    },
    "language_info": {
      "codemirror_mode": {
        "name": "ipython",
        "version": 3
      },
      "file_extension": ".py",
      "mimetype": "text/x-python",
      "name": "python",
      "nbconvert_exporter": "python",
      "pygments_lexer": "ipython3",
      "version": "3.11.9"
    }
  },
  "nbformat": 4,
  "nbformat_minor": 0
}