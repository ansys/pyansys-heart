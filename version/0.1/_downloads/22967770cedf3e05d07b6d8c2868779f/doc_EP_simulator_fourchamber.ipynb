{
  "cells": [
    {
      "cell_type": "markdown",
      "metadata": {},
      "source": [
        "\n# Four-chamber EP-simulator example\nThis example shows you how to consume a four-cavity heart model and\nset it up for the main electropysiology simulation. This examples demonstrates how\nyou can load a pre-computed heart model, compute the fiber direction, compute the\npurkinje network and conduction system and finally simulate the electrophysiology.\n"
      ]
    },
    {
      "cell_type": "markdown",
      "metadata": {},
      "source": [
        "# Example setup\nbefore computing the fiber orientation, purkinje network we need to load\nthe required modules, load a heart model and set up the simulator.\n\n## Perform the required imports\nImport the required modules and set relevant paths, including that of the working\ndirectory, model, and ls-dyna executable.\n\n"
      ]
    },
    {
      "cell_type": "code",
      "execution_count": null,
      "metadata": {
        "collapsed": false
      },
      "outputs": [],
      "source": [
        "import os\nfrom pathlib import Path\n\nfrom ansys.heart.preprocessor.mesh.objects import Point\nimport ansys.heart.preprocessor.models as models\nfrom ansys.heart.simulator.simulator import DynaSettings, EPSimulator\n\n# set working directory and path to model.\nworkdir = Path(\n    Path(__file__).resolve().parents[2], \"downloads\", \"Strocchi2020\", \"01\", \"FourChamber\"\n)\n\npath_to_model = os.path.join(workdir, \"heart_model.pickle\")\n\nif not os.path.isfile(path_to_model):\n    raise FileExistsError(f\"{path_to_model} not found\")\n\n# specify LS-DYNA path (last tested working versions is intelmpi-linux-DEV-106117)\nlsdyna_path = r\"ls-dyna_msmpi.exe\"\n\nif not os.path.isfile(lsdyna_path):\n    raise FileExistsError(f\"{lsdyna_path} not found.\")\n\n# load four chamber heart model.\nmodel: models.FourChamber = models.HeartModel.load_model(path_to_model)\n\n# Define electrode positions and add them to model (correspond to patient 01 only)\n# Positions were defined using a template torso geometry.\nelectrodes = [\n    Point(name=\"V1\", xyz=[-29.893285751342773, 27.112899780273438, 373.30865478515625]),\n    Point(name=\"V2\", xyz=[33.68170928955078, 30.09606170654297, 380.5427551269531]),\n    Point(name=\"V3\", xyz=[56.33562469482422, 29.499839782714844, 355.533935546875]),\n    Point(name=\"V4\", xyz=[100.25729370117188, 43.61333465576172, 331.07635498046875]),\n    Point(name=\"V5\", xyz=[140.29800415039062, 81.36004638671875, 349.69970703125]),\n    Point(name=\"V6\", xyz=[167.9899139404297, 135.89862060546875, 366.18634033203125]),\n    Point(name=\"RA\", xyz=[-176.06332397460938, 57.632076263427734, 509.14202880859375]),\n    Point(name=\"LA\", xyz=[133.84518432617188, 101.44053649902344, 534.9176635742188]),\n    Point(name=\"RL\", xyz=[203.38825799615842, 56.19020893502452, 538.5052677637375]),\n    Point(name=\"LL\", xyz=[128.9441375732422, 92.85327911376953, 173.07363891601562]),\n]\nmodel.electrodes = electrodes\n\n\nif not isinstance(model, models.FourChamber):\n    raise TypeError(\"Expecting a FourChamber heart model.\")\n\n# set base working directory\nmodel.info.workdir = str(workdir)"
      ]
    },
    {
      "cell_type": "markdown",
      "metadata": {},
      "source": [
        "## Instantiate the simulator object\ninstantiate the simulator and settings appropriately.\n\n"
      ]
    },
    {
      "cell_type": "code",
      "execution_count": null,
      "metadata": {
        "collapsed": false
      },
      "outputs": [],
      "source": [
        "# instantaiate dyna settings of choice\ndyna_settings = DynaSettings(\n    lsdyna_path=lsdyna_path,\n    dynatype=\"msmpi\",\n    num_cpus=1,\n)\n\n# instantiate simulator. Change options where necessary.\nsimulator = EPSimulator(\n    model=model,\n    dyna_settings=dyna_settings,\n    simulation_directory=os.path.join(workdir, \"simulation-EP\"),\n)"
      ]
    },
    {
      "cell_type": "markdown",
      "metadata": {},
      "source": [
        "## Load simulation settings\nHere we load the default settings.\n\n"
      ]
    },
    {
      "cell_type": "code",
      "execution_count": null,
      "metadata": {
        "collapsed": false
      },
      "outputs": [],
      "source": [
        "simulator.settings.load_defaults()"
      ]
    },
    {
      "cell_type": "markdown",
      "metadata": {},
      "source": [
        "## Compute Universal Ventricular Coordinates\nThe transmural coordinate is used to define the endo, mid and epi layers.\n\n"
      ]
    },
    {
      "cell_type": "code",
      "execution_count": null,
      "metadata": {
        "collapsed": false
      },
      "outputs": [],
      "source": [
        "simulator.compute_uhc()"
      ]
    },
    {
      "cell_type": "markdown",
      "metadata": {},
      "source": [
        "## Compute the fiber orientation\nCompute fiber orientation and plot the computed fibers on the entire model.\n\n"
      ]
    },
    {
      "cell_type": "markdown",
      "metadata": {},
      "source": [
        "<div class=\"alert alert-danger\"><h4>Warning</h4><p>Atrial fiber orientation is approximated by apex-base direction, the development is undergoing.</p></div>\n\n"
      ]
    },
    {
      "cell_type": "code",
      "execution_count": null,
      "metadata": {
        "collapsed": false
      },
      "outputs": [],
      "source": [
        "simulator.compute_fibers()\nsimulator.model.plot_fibers(n_seed_points=2000)"
      ]
    },
    {
      "cell_type": "markdown",
      "metadata": {},
      "source": [
        "<img src=\"file://_static/images/fibers.png\" width=\"400pt\" align=\"center\">\n\n"
      ]
    },
    {
      "cell_type": "markdown",
      "metadata": {},
      "source": [
        "## Compute conduction system\nCompute conduction system and purkinje network and visualize.\nThe action potential will propagate faster through this system\ncompared to the rest of the model.\n\n"
      ]
    },
    {
      "cell_type": "code",
      "execution_count": null,
      "metadata": {
        "collapsed": false
      },
      "outputs": [],
      "source": [
        "simulator.compute_purkinje()\n\n# by calling this method, stimulation will at Atrioventricular node\n# if you skip it, stimulation will at apex nodes of two ventricles\nsimulator.compute_conduction_system()\n\nsimulator.model.plot_purkinje()"
      ]
    },
    {
      "cell_type": "markdown",
      "metadata": {},
      "source": [
        "<img src=\"file://_static/images/purkinje.png\" width=\"400pt\" align=\"center\">\n\n"
      ]
    },
    {
      "cell_type": "markdown",
      "metadata": {},
      "source": [
        "## Start main simulation\nStart the main EP simulation. This uses the previously computed fiber orientation\nand purkinje network to set up and run the LS-DYNA model.\n\n"
      ]
    },
    {
      "cell_type": "code",
      "execution_count": null,
      "metadata": {
        "collapsed": false
      },
      "outputs": [],
      "source": [
        "simulator.simulate()"
      ]
    },
    {
      "cell_type": "markdown",
      "metadata": {},
      "source": [
        "We can plot transmembrane potential in LS-PrePost\n\n"
      ]
    },
    {
      "cell_type": "markdown",
      "metadata": {},
      "source": [
        ".. video:: ../../_static/images/ep_4cv.mp4\n  :width: 600\n  :loop:\n  :class: center\n\n"
      ]
    }
  ],
  "metadata": {
    "kernelspec": {
      "display_name": "Python 3",
      "language": "python",
      "name": "python3"
    },
    "language_info": {
      "codemirror_mode": {
        "name": "ipython",
        "version": 3
      },
      "file_extension": ".py",
      "mimetype": "text/x-python",
      "name": "python",
      "nbconvert_exporter": "python",
      "pygments_lexer": "ipython3",
      "version": "3.10.13"
    }
  },
  "nbformat": 4,
  "nbformat_minor": 0
}