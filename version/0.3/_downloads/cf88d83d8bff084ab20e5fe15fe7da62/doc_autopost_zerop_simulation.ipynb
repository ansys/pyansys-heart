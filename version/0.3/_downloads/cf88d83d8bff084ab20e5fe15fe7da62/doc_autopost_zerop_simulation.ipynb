{
  "cells": [
    {
      "cell_type": "markdown",
      "metadata": {},
      "source": [
        "\n# Post process Zero pressure folder\nThis example shows you how to use post process script after Stress free configuration simulation,\nand visualize them in Paraview.\n"
      ]
    },
    {
      "cell_type": "markdown",
      "metadata": {},
      "source": [
        "## Perform the required imports\nImport the required modules\n\n"
      ]
    },
    {
      "cell_type": "code",
      "execution_count": null,
      "metadata": {
        "collapsed": false
      },
      "outputs": [],
      "source": [
        "import os\n\nfrom ansys.heart.postprocessor.auto_process import zerop_post\nimport ansys.heart.preprocessor.models as models"
      ]
    },
    {
      "cell_type": "markdown",
      "metadata": {},
      "source": [
        "## Set relevant paths\n\n"
      ]
    },
    {
      "cell_type": "code",
      "execution_count": null,
      "metadata": {
        "collapsed": false
      },
      "outputs": [],
      "source": [
        "path_to_model = r\"your-model-file\"\n\nif not os.path.isfile(path_to_model):\n    raise FileExistsError(f\"{path_to_model} not found\")\n\n# load heart model.\nmodel: models.LeftVentricle = models.HeartModel.load_model(path_to_model)\n\n# set zerop simulation path\nzerop_folder = r\"your-simulation_folder\""
      ]
    },
    {
      "cell_type": "markdown",
      "metadata": {},
      "source": [
        "## Run default process scripts\na folder \"post\" will be created with key simulation results (json, png, vtk...)\n\n"
      ]
    },
    {
      "cell_type": "code",
      "execution_count": null,
      "metadata": {
        "collapsed": false
      },
      "outputs": [],
      "source": [
        "zerop_post(zerop_folder, model)"
      ]
    },
    {
      "cell_type": "markdown",
      "metadata": {},
      "source": [
        "In this folder, you will be able to find\n\n"
      ]
    },
    {
      "cell_type": "markdown",
      "metadata": {},
      "source": [
        "## Klotz curve\n<img src=\"file://_static/images/klotz.png\" width=\"400pt\" align=\"center\">\n\n"
      ]
    },
    {
      "cell_type": "markdown",
      "metadata": {},
      "source": [
        "## Iteration info\n\n"
      ]
    },
    {
      "cell_type": "code",
      "execution_count": null,
      "metadata": {
        "collapsed": false
      },
      "outputs": [],
      "source": [
        "{\n    \"Simulation output time (ms)\": [\n        0.0,\n        100.0,\n        200.3564453125,\n        300.8319091796875,\n        401.3073425292969,\n        531.16650390625,\n        610.7879028320312,\n        730.2200927734375,\n        809.8414916992188,\n        929.273681640625,\n        1000.0,\n    ],\n    \"Left ventricle EOD pressure (mmHg)\": 15.00123151691313,\n    \"True left ventricle volume (mm3)\": 288876.80737602623,\n    \"Simulation Left ventricle volume (mm3)\": [\n        140581.4112845282,\n        159707.0733303549,\n        178982.14980488928,\n        197230.30475892712,\n        213741.44078356298,\n        232174.03531592182,\n        241974.46501373692,\n        254856.61204499874,\n        262439.8936858291,\n        272594.81508615054,\n        277986.88710928266,\n    ],\n    \"Convergence\": {\n        \"max_error (mm)\": 2.806359813278375,\n        \"mean_error (mm)\": 1.1729491425680942,\n        \"relative volume error (100%)\": [-0.037697454377389125],\n    },\n}"
      ]
    },
    {
      "cell_type": "markdown",
      "metadata": {},
      "source": [
        "## Visualization in Paraview\nOpen Paraview and load the state file\n:download:`post_zerop2.pvsm <../../_static/others/post_zerop2.pvsm>`,\nand specify the folder\n\n"
      ]
    },
    {
      "cell_type": "markdown",
      "metadata": {},
      "source": [
        "<img src=\"file://_static/images/load_zerop.png\" width=\"300pt\" align=\"center\">\n\n"
      ]
    },
    {
      "cell_type": "markdown",
      "metadata": {},
      "source": [
        "You can compare the end-of-diastolic geometry between input and after inflation\n\n"
      ]
    },
    {
      "cell_type": "markdown",
      "metadata": {},
      "source": [
        "<img src=\"file://_static/images/EDcavity_simu_real.png\" width=\"300pt\" align=\"center\">\n\n"
      ]
    },
    {
      "cell_type": "markdown",
      "metadata": {},
      "source": [
        "You can show and export inflation animation\n\n"
      ]
    },
    {
      "cell_type": "markdown",
      "metadata": {},
      "source": [
        ".. video:: ../../_static/images/inflation.mp4\n  :width: 300\n  :loop:\n  :class: center\n\n"
      ]
    }
  ],
  "metadata": {
    "kernelspec": {
      "display_name": "Python 3",
      "language": "python",
      "name": "python3"
    },
    "language_info": {
      "codemirror_mode": {
        "name": "ipython",
        "version": 3
      },
      "file_extension": ".py",
      "mimetype": "text/x-python",
      "name": "python",
      "nbconvert_exporter": "python",
      "pygments_lexer": "ipython3",
      "version": "3.10.14"
    }
  },
  "nbformat": 4,
  "nbformat_minor": 0
}