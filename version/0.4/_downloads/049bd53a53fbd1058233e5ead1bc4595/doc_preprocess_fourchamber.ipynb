{
  "cells": [
    {
      "cell_type": "markdown",
      "metadata": {},
      "source": [
        "\n# Create a four chamber heart model\nThis example shows you how to process a case file from the Strocchi2020 database\nand process that into a simulation-ready full heart model.\n"
      ]
    },
    {
      "cell_type": "markdown",
      "metadata": {},
      "source": [
        "# Example setup\nPerform the required imports\n~~~~~~~~~~~~~~~~~~~~~~~~~~~~\nImport the required modules and set relevant paths, including that of the working\ndirectory and generated model\n\n"
      ]
    },
    {
      "cell_type": "code",
      "execution_count": null,
      "metadata": {
        "collapsed": false
      },
      "outputs": [],
      "source": [
        "import json\nimport os\n\nfrom ansys.heart.preprocessor.database_preprocessor import get_compatible_input\nimport ansys.heart.preprocessor.models as models\n\n# specify necessary paths.\ncase_file = os.path.join(\"downloads\", \"Strocchi2020\", \"01\", \"01.case\")\n\n\nworkdir = os.path.join(os.path.dirname(case_file), \"FourChamber\")\n\nif not os.path.isdir(workdir):\n    os.makedirs(workdir)\n\npath_to_model = os.path.join(workdir, \"heart_model.pickle\")\npath_to_input = os.path.join(workdir, \"input_model.vtp\")\npath_to_part_definitions = os.path.join(workdir, \"part_definitions.json\")"
      ]
    },
    {
      "cell_type": "markdown",
      "metadata": {},
      "source": [
        "<div class=\"alert alert-info\"><h4>Note</h4><p>You may need to (manually) download the .case or .vtk files from the Strocchi2020\n   and Rodero2021 databases first. See:\n\n   - https://zenodo.org/records/3890034\n   - https://zenodo.org/records/4590294\n\n   Alternatively you can make use of the download\n   module instead. See the download module.</p></div>\n\n"
      ]
    },
    {
      "cell_type": "markdown",
      "metadata": {},
      "source": [
        "## Convert the .vtk file into compatible input\n\n"
      ]
    },
    {
      "cell_type": "code",
      "execution_count": null,
      "metadata": {
        "collapsed": false
      },
      "outputs": [],
      "source": [
        "input_geom, part_definitions = get_compatible_input(\n    case_file, model_type=\"FourChamber\", database=\"Strocchi2020\"\n)\n\n# Note that the input model and part definitions can be used for later use.\n# save input geometry and part definitions:\ninput_geom.save(path_to_input)\nwith open(path_to_part_definitions, \"w\") as f:\n    json.dump(part_definitions, f, indent=True)"
      ]
    },
    {
      "cell_type": "markdown",
      "metadata": {},
      "source": [
        "## Set required information\nSet the right database to which this case belongs, and set other relevant\ninformation such as the desired mesh size.\n\n"
      ]
    },
    {
      "cell_type": "code",
      "execution_count": null,
      "metadata": {
        "collapsed": false
      },
      "outputs": [],
      "source": [
        "info = models.ModelInfo(\n    input=input_geom,\n    scalar=\"surface-id\",\n    part_definitions=part_definitions,\n    work_directory=workdir,\n    mesh_size=1.5,\n)\ninfo.path_to_model = path_to_model\n\n\n# create or clean working directory\ninfo.create_workdir()\ninfo.clean_workdir([\".stl\", \".msh.h5\", \".pickle\"])"
      ]
    },
    {
      "cell_type": "markdown",
      "metadata": {},
      "source": [
        "## Initialize the heart model with info\nInitialize the desired heart model with info.\n\n"
      ]
    },
    {
      "cell_type": "code",
      "execution_count": null,
      "metadata": {
        "collapsed": false
      },
      "outputs": [],
      "source": [
        "# initialize four chamber heart model\nmodel = models.FourChamber(info)\n\n# load input model generated in an earlier step.\nmodel.load_input()\n\n# mesh the volume of all structural parts.\nmodel.mesh_volume(use_wrapper=True)\n\n# update the model and extract the required (anatomical) features\nmodel._update_parts()\n\n# dump the model to disk\nmodel.dump_model(path_to_model)\n\n# Optionally save the simulation mesh as a vtk object for \"offline\" inspection\nmodel.mesh.save(os.path.join(model.info.workdir, \"simulation-mesh.vtu\"))\nmodel.save_model(os.path.join(model.info.workdir, \"heart_model.vtu\"))\n\n# print some info about the processed model.\nmodel.print_info()\n\n# clean the working directory\ninfo.clean_workdir(extensions_to_remove=[\".stl\", \".vtk\", \".msh.h5\"])\n\n# dump information to stdout\ninfo.dump_info()\n\n# print part names\nprint(model.part_names)"
      ]
    },
    {
      "cell_type": "markdown",
      "metadata": {},
      "source": [
        "## Visualize results\nYou can visualize and inspect the components of the model by accessing\nvarious properties/attributes and invoke methods.\n\n"
      ]
    },
    {
      "cell_type": "code",
      "execution_count": null,
      "metadata": {
        "collapsed": false
      },
      "outputs": [],
      "source": [
        "print(f\"Volume of LV cavity: {model.left_ventricle.cavity.volume} mm^3\")\nprint(f\"Volume of LV cavity: {model.left_atrium.cavity.volume} mm^3\")\n\n# plot the remeshed model\nmodel.plot_mesh(show_edges=False)"
      ]
    },
    {
      "cell_type": "markdown",
      "metadata": {},
      "source": [
        "<img src=\"file://_static/images/four_chamber_mesh.png\" width=\"400pt\" align=\"center\">\n\n"
      ]
    },
    {
      "cell_type": "code",
      "execution_count": null,
      "metadata": {
        "collapsed": false
      },
      "outputs": [],
      "source": [
        "# plot the endocardial surface of the left ventricle.\nmodel.left_ventricle.endocardium.plot(show_edges=True, color=\"r\")"
      ]
    },
    {
      "cell_type": "markdown",
      "metadata": {},
      "source": [
        "<img src=\"file://_static/images/four_chamber_lv_endocardium.png\" width=\"400pt\" align=\"center\">\n\n"
      ]
    },
    {
      "cell_type": "code",
      "execution_count": null,
      "metadata": {
        "collapsed": false
      },
      "outputs": [],
      "source": [
        "# loop over all cavities and plot these in a single window.\nimport pyvista as pv\n\ncavities = pv.PolyData()\nfor c in model.cavities:\n    cavities += c.surface\ncavities.plot(show_edges=True)"
      ]
    },
    {
      "cell_type": "markdown",
      "metadata": {},
      "source": [
        "<img src=\"file://_static/images/four_chamber_cavities.png\" width=\"400pt\" align=\"center\">\n\n"
      ]
    }
  ],
  "metadata": {
    "kernelspec": {
      "display_name": "Python 3",
      "language": "python",
      "name": "python3"
    },
    "language_info": {
      "codemirror_mode": {
        "name": "ipython",
        "version": 3
      },
      "file_extension": ".py",
      "mimetype": "text/x-python",
      "name": "python",
      "nbconvert_exporter": "python",
      "pygments_lexer": "ipython3",
      "version": "3.10.14"
    }
  },
  "nbformat": 4,
  "nbformat_minor": 0
}