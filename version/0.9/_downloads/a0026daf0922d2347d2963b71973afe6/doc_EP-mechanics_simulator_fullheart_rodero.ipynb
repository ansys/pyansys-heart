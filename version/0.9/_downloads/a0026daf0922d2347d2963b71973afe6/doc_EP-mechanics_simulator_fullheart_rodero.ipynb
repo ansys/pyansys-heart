{
  "cells": [
    {
      "cell_type": "markdown",
      "metadata": {},
      "source": [
        "\n# Full heart EP-mechanics\nThis example shows you how to consume a full heart model and\nset it up for a coupled electromechanical simulation.\n"
      ]
    },
    {
      "cell_type": "markdown",
      "metadata": {},
      "source": [
        "# Example setup\nbefore computing the fiber orientation, purkinje network we need to load\nthe required modules, load a heart model and set up the simulator.\n\n## Perform the required imports\nImport the required modules and set relevant paths, including that of the working\ndirectory, model, and ls-dyna executable.\n\n"
      ]
    },
    {
      "cell_type": "code",
      "execution_count": null,
      "metadata": {
        "collapsed": false
      },
      "outputs": [],
      "source": [
        "import os\n\nfrom pint import Quantity\n\nimport ansys.heart.core.models as models\nfrom ansys.heart.simulator.settings.material.ep_material import EPMaterial\nfrom ansys.heart.simulator.settings.material.material import NeoHookean\nfrom ansys.heart.simulator.simulator import DynaSettings, EPMechanicsSimulator"
      ]
    },
    {
      "cell_type": "markdown",
      "metadata": {},
      "source": [
        "# Example setup\nPerform the required imports\n~~~~~~~~~~~~~~~~~~~~~~~~~~~~\nImport the required modules and set relevant paths, including that of the working\ndirectory and generated model\n\n"
      ]
    },
    {
      "cell_type": "code",
      "execution_count": null,
      "metadata": {
        "collapsed": false
      },
      "outputs": [],
      "source": [
        "# accept dpf license aggrement\n# https://dpf.docs.pyansys.com/version/stable/getting_started/licensing.html#ref-licensing\nos.environ[\"ANSYS_DPF_ACCEPT_LA\"] = \"Y\"\n\n# specify necessary paths.\n# Note that we need to cast the paths to strings to facilitate serialization.\ncase_file = os.path.join(\"pyansys-heart\", \"downloads\", \"Rodero2021\", \"01\", \"01.vtk\")\nworkdir = os.path.join(os.path.dirname(case_file), \"FullHeart\")\n\n\npath_to_model = os.path.join(workdir, \"heart_model.vtu\")"
      ]
    },
    {
      "cell_type": "markdown",
      "metadata": {},
      "source": [
        "## Load the full heart model\n\n"
      ]
    },
    {
      "cell_type": "code",
      "execution_count": null,
      "metadata": {
        "collapsed": false
      },
      "outputs": [],
      "source": [
        "# instantiate a four chamber model\nmodel: models.FullHeart = models.FullHeart(working_directory=workdir)\nmodel.load_model_from_mesh(path_to_model, path_to_model.replace(\".vtu\", \".partinfo.json\"))"
      ]
    },
    {
      "cell_type": "markdown",
      "metadata": {},
      "source": [
        "## Instantiate the simulator object\ninstantiate the simulator and settings appropriately.\n\n"
      ]
    },
    {
      "cell_type": "code",
      "execution_count": null,
      "metadata": {
        "collapsed": false
      },
      "outputs": [],
      "source": [
        "# instantaiate dyna settings of choice\nlsdyna_path = r\"your_dyna_exe\"  # tested with DEV-111820\ndyna_settings = DynaSettings(\n    lsdyna_path=lsdyna_path, dynatype=\"intelmpi\", platform=\"wsl\", num_cpus=6\n)\n\n\n# instantiate simulator object\nsimulator = EPMechanicsSimulator(\n    model=model,\n    dyna_settings=dyna_settings,\n    simulation_directory=os.path.join(workdir, \"ep-mechanics\"),\n)\n\n# load default simulation settings\nsimulator.settings.load_defaults()\n\n# compute fiber orientation in the ventricles and atria\nsimulator.compute_fibers()\nsimulator.compute_left_atrial_fiber()\nsimulator.compute_right_atrial_fiber(appendage=[39, 29, 98])\n\n# switch atria to active\nsimulator.model.left_atrium.fiber = True\nsimulator.model.left_atrium.active = True\n\nsimulator.model.right_atrium.fiber = True\nsimulator.model.right_atrium.active = True\n\n## Optionally, we can create more anatomical details.\n## Sometimes, it's in favor of convergence rate of mechanical solve\n\n# Extract elements around atrial caps and assign as a passive material\nring = simulator.model.create_atrial_stiff_ring(radius=5)\n# material is stiff and value is arbitrarily chosen\nring.meca_material = NeoHookean(rho=0.001, c10=0.1, nu=0.499)\n# assign default EP material as for atrial\nring.ep_material = EPMaterial.Active()\n\n# Compute universal coordinates:\nsimulator.compute_uhc()\n\n# Extract elements around atrialvenricular valves and assign as a passive material\nsimulator.model.create_stiff_ventricle_base(stiff_material=NeoHookean(rho=0.001, c10=0.1, nu=0.499))\n\n# Estimate the stress-free-configuration\nsimulator.compute_stress_free_configuration()\n\n# Compute the conduction system\nsimulator.compute_purkinje()\nsimulator.compute_conduction_system()"
      ]
    },
    {
      "cell_type": "markdown",
      "metadata": {},
      "source": [
        "## Start main simulation\n\n"
      ]
    },
    {
      "cell_type": "code",
      "execution_count": null,
      "metadata": {
        "collapsed": false
      },
      "outputs": [],
      "source": [
        "simulator.settings.mechanics.analysis.end_time = Quantity(800, \"ms\")\nsimulator.settings.mechanics.analysis.dt_d3plot = Quantity(10, \"ms\")\n\nsimulator.model.save_model(os.path.join(workdir, \"heart_fib_beam.vtu\"))"
      ]
    },
    {
      "cell_type": "markdown",
      "metadata": {},
      "source": [
        "<div class=\"alert alert-info\"><h4>Note</h4><p>A constant pressure is prescribed to the atria.\n   No circulation system is coupled with the atria.</p></div>\n\n"
      ]
    },
    {
      "cell_type": "code",
      "execution_count": null,
      "metadata": {
        "collapsed": false
      },
      "outputs": [],
      "source": [
        "# start main simulation\nsimulator.dyna_settings.num_cpus = 10\nsimulator.simulate()"
      ]
    },
    {
      "cell_type": "markdown",
      "metadata": {},
      "source": [
        "Result in LS-PrePost\n\n"
      ]
    },
    {
      "cell_type": "markdown",
      "metadata": {},
      "source": [
        ".. video:: ../../_static/images/doc_Christobal01_epmeca_fh.mp4\n  :width: 600\n  :loop:\n  :class: center\n\n"
      ]
    }
  ],
  "metadata": {
    "kernelspec": {
      "display_name": "Python 3",
      "language": "python",
      "name": "python3"
    },
    "language_info": {
      "codemirror_mode": {
        "name": "ipython",
        "version": 3
      },
      "file_extension": ".py",
      "mimetype": "text/x-python",
      "name": "python",
      "nbconvert_exporter": "python",
      "pygments_lexer": "ipython3",
      "version": "3.10.16"
    }
  },
  "nbformat": 4,
  "nbformat_minor": 0
}