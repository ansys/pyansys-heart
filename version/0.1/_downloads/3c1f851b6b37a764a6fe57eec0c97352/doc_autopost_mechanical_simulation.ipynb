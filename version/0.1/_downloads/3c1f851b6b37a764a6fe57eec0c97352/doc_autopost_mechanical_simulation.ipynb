{
  "cells": [
    {
      "cell_type": "markdown",
      "metadata": {},
      "source": [
        "\n# Post process mechanical simulation folder\nThis example shows you how to use post process script after mechanical simulation.\n"
      ]
    },
    {
      "cell_type": "markdown",
      "metadata": {},
      "source": [
        "## Perform the required imports\nImport the required modules\n\n"
      ]
    },
    {
      "cell_type": "code",
      "execution_count": null,
      "metadata": {
        "collapsed": false
      },
      "outputs": [],
      "source": [
        "import os\nimport pathlib\n\nfrom ansys.heart.postprocessor.SystemModelPost import SystemModelPost\nfrom ansys.heart.postprocessor.aha17_strain import AhaStrainCalculator\nfrom ansys.heart.postprocessor.auto_process import mech_post\nfrom ansys.heart.postprocessor.exporter import LVContourExporter\nimport ansys.heart.preprocessor.models as models\nimport matplotlib.pyplot as plt\nimport numpy as np\nimport pyvista as pv"
      ]
    },
    {
      "cell_type": "markdown",
      "metadata": {},
      "source": [
        "## Set relevant paths\n\n"
      ]
    },
    {
      "cell_type": "code",
      "execution_count": null,
      "metadata": {
        "collapsed": false
      },
      "outputs": [],
      "source": [
        "path_to_model = r\"D:\\pyansys-heart\\test_case\\test_lv\\model_with_fiber.pickle\"\n\nif not os.path.isfile(path_to_model):\n    raise FileExistsError(f\"{path_to_model} not found\")\n\n# load heart model.\nmodel: models.LeftVentricle = models.HeartModel.load_model(path_to_model)\n\n# set simulation path\nmeca_folder = pathlib.Path(r\"D:\\pyansys-heart\\test_case\\test_lv\\main-mechanics\")"
      ]
    },
    {
      "cell_type": "markdown",
      "metadata": {},
      "source": [
        "## Create PV loop\nPressure-volume loop figure is an important metric for heart function\n\n"
      ]
    },
    {
      "cell_type": "code",
      "execution_count": null,
      "metadata": {
        "collapsed": false
      },
      "outputs": [],
      "source": [
        "system = SystemModelPost(meca_folder)\nfig = system.plot_pv_loop()\nplt.show()"
      ]
    },
    {
      "cell_type": "markdown",
      "metadata": {},
      "source": [
        "<img src=\"file://_static/images/pv.png\" width=\"300pt\" align=\"center\">\n\n"
      ]
    },
    {
      "cell_type": "code",
      "execution_count": null,
      "metadata": {
        "collapsed": false
      },
      "outputs": [],
      "source": [
        "# You can generate a series of png by setting start and end time (in second)\nfor it, tt in enumerate(np.linspace(0.001, 3, 60)):\n    # assume heart beat once per 1s\n    fig = system.plot_pv_loop(t_start=0, t_end=tt)\n    fig.savefig(\"pv_{0:d}.png\".format(it))\n    plt.close()"
      ]
    },
    {
      "cell_type": "markdown",
      "metadata": {},
      "source": [
        "An animation  can be created by\n\n"
      ]
    },
    {
      "cell_type": "code",
      "execution_count": null,
      "metadata": {
        "collapsed": false
      },
      "outputs": [],
      "source": [
        "# `ffmpeg -f image2 -i pv_%d.png pv_loop.mp4`"
      ]
    },
    {
      "cell_type": "markdown",
      "metadata": {},
      "source": [
        ".. video:: ../../_static/images/pvloop.mp4\n  :width: 400\n  :loop:\n  :class: center\n\n"
      ]
    },
    {
      "cell_type": "markdown",
      "metadata": {},
      "source": [
        "## Export left ventricle contour\n\n"
      ]
    },
    {
      "cell_type": "code",
      "execution_count": null,
      "metadata": {
        "collapsed": false
      },
      "outputs": [],
      "source": [
        "exporter = LVContourExporter(os.path.join(meca_folder, \"d3plot\"), model)\n# In case principle axis is not yet computed\nmodel.compute_left_ventricle_anatomy_axis()\n\n# cut from long axis 4 cavity view\ncut_long = exporter.export_contour_to_vtk(\"l4cv\", model.l4cv_axis)\n# cut from short axis\ncut_short = exporter.export_contour_to_vtk(\"short\", model.short_axis)\n\n# plot the first frame using pyvista\nplotter = pv.Plotter()\nplotter.add_mesh(exporter.lv_surfaces[0], opacity=0.6)\nplotter.add_mesh(cut_long[0], line_width=3, color=\"red\")\nplotter.add_mesh(cut_short[0], line_width=3, color=\"green\")\nplotter.show()"
      ]
    },
    {
      "cell_type": "markdown",
      "metadata": {},
      "source": [
        "<img src=\"file://_static/images/cut.png\" width=\"400pt\" align=\"center\">\n\n"
      ]
    },
    {
      "cell_type": "markdown",
      "metadata": {},
      "source": [
        "## Myocardium wall strain\nCompute left ventricle strain in longitudinal, radial, circumferential directions\n\n"
      ]
    },
    {
      "cell_type": "code",
      "execution_count": null,
      "metadata": {
        "collapsed": false
      },
      "outputs": [],
      "source": [
        "# in case they are not pre-computed\nmodel.compute_left_ventricle_anatomy_axis()\nmodel.compute_left_ventricle_aha17()\n\naha_evaluator = AhaStrainCalculator(model, d3plot_file=meca_folder / \"d3plot\")\n# get LRC strain at a given time and export a file named LRC_10.vtk\nstrain17_at10 = aha_evaluator.compute_aha_strain_once(frame=10, out_dir=\".\")\n\n# show generated vtk\naha = pv.read(r\"LRC_10.vtk\")\naha.set_active_scalars(\"AHA\")\naha.plot()"
      ]
    },
    {
      "cell_type": "markdown",
      "metadata": {},
      "source": [
        "<img src=\"file://_static/images/aha17.png\" width=\"400pt\" align=\"center\">\n\n"
      ]
    },
    {
      "cell_type": "code",
      "execution_count": null,
      "metadata": {
        "collapsed": false
      },
      "outputs": [],
      "source": [
        "# bulleye plot for strain\nfig, ax = plt.subplots(figsize=(24, 16), nrows=1, ncols=3, subplot_kw=dict(projection=\"polar\"))\nfig.canvas.manager.set_window_title(\"Left Ventricle Bulls Eyes (AHA)\")\nfor i in range(3):\n    aha_evaluator.bullseye_plot(ax[i], strain17_at10[:, i])\nax[0].set_title(\"longitudinal\")\nax[1].set_title(\"radial\")\nax[2].set_title(\"circumferential\")\nplt.show()"
      ]
    },
    {
      "cell_type": "markdown",
      "metadata": {},
      "source": [
        "<img src=\"file://_static/images/aha17_strain.png\" width=\"400pt\" align=\"center\">\n\n"
      ]
    },
    {
      "cell_type": "code",
      "execution_count": null,
      "metadata": {
        "collapsed": false
      },
      "outputs": [],
      "source": [
        "# get strain for all simulation frames (this will take a while)\nstrain_table = aha_evaluator.compute_aha_strain(out_dir=\".\", with_vtk=False)\n\n# plot\nl_strain_base = np.mean(strain_table[:, 1:19:3], axis=1)\nl_strain_mid = np.mean(strain_table[:, 19:37:3], axis=1)\nl_strain_apical = np.mean(strain_table[:, 37::3], axis=1)\n\nplt.plot(strain_table[:, 0], l_strain_base, label=\"Longitudinal strain @Basal\")\nplt.plot(strain_table[:, 0], l_strain_mid, label=\"Longitudinal strain @MidCavity\")\nplt.plot(strain_table[:, 0], l_strain_apical, label=\"Longitudinal strain @Apical\")\nplt.legend()\nplt.show()"
      ]
    },
    {
      "cell_type": "markdown",
      "metadata": {},
      "source": [
        "<img src=\"file://_static/images/l_strain_curve.png\" width=\"400pt\" align=\"center\">\n\n"
      ]
    },
    {
      "cell_type": "markdown",
      "metadata": {},
      "source": [
        "## Run with default process scripts\nAll above steps are encapsulated in one script:\n\n"
      ]
    },
    {
      "cell_type": "code",
      "execution_count": null,
      "metadata": {
        "collapsed": false
      },
      "outputs": [],
      "source": [
        "mech_post(meca_folder, model)"
      ]
    },
    {
      "cell_type": "markdown",
      "metadata": {},
      "source": [
        "You can open Paraview and load the state file\n:download:`post_main2.pvsm <../../_static/others/post_main2.pvsm>`,\nand specify the folder.\n\n"
      ]
    },
    {
      "cell_type": "markdown",
      "metadata": {},
      "source": [
        ".. video:: ../../_static/images/main_meca.mp4\n  :width: 600\n  :loop:\n  :class: center\n\n"
      ]
    }
  ],
  "metadata": {
    "kernelspec": {
      "display_name": "Python 3",
      "language": "python",
      "name": "python3"
    },
    "language_info": {
      "codemirror_mode": {
        "name": "ipython",
        "version": 3
      },
      "file_extension": ".py",
      "mimetype": "text/x-python",
      "name": "python",
      "nbconvert_exporter": "python",
      "pygments_lexer": "ipython3",
      "version": "3.10.13"
    }
  },
  "nbformat": 4,
  "nbformat_minor": 0
}