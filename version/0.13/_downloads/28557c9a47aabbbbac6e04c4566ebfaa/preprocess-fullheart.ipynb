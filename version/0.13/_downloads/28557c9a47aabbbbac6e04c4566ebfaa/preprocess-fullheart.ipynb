{
  "cells": [
    {
      "cell_type": "markdown",
      "metadata": {},
      "source": [
        "\n# Create a full-heart model\nThis example shows how to process a case from Rodero et al. (2021) into\na simulation-ready heart model.\n"
      ]
    },
    {
      "cell_type": "markdown",
      "metadata": {},
      "source": [
        "## Perform the required imports\nImport the required modules and set relevant paths, including that of the working\ndirectory and generated model.\n\n"
      ]
    },
    {
      "cell_type": "code",
      "execution_count": null,
      "metadata": {
        "collapsed": false
      },
      "outputs": [],
      "source": [
        "import json\nimport os\nfrom pathlib import Path\n\nimport ansys.health.heart.models as models\nfrom ansys.health.heart.pre.database_utils import get_compatible_input\n\n# Use Fluent 2024 R1 for meshing\nimport ansys.health.heart.pre.mesher as mesher\nfrom ansys.health.heart.utils.download import download_case_from_zenodo, unpack_case\n\nmesher._fluent_version = \"24.1\"\n\n# specify a download directory\ndownload_folder = Path.home() / \"pyansys-heart\" / \"downloads\"\n\n# Download a compatible case from the Zenodo database.\ntar_file = download_case_from_zenodo(\"Rodero2021\", 1, download_folder, overwrite=False)\n# Unpack the case to get the input CASE or VTK file.\ncase_file = unpack_case(tar_file)\n\n# Specify the working directory. This code uses the directory of the CASE file.\nworkdir = os.path.join(os.path.dirname(case_file), \"FullHeart\")\n\nif not os.path.isdir(workdir):\n    os.makedirs(workdir)\n\n# Specify paths to the model, input, and part definitions.\npath_to_model = os.path.join(workdir, \"heart_model.vtu\")\npath_to_input = os.path.join(workdir, \"input_model.vtp\")\npath_to_part_definitions = os.path.join(workdir, \"part_definitions.json\")"
      ]
    },
    {
      "cell_type": "markdown",
      "metadata": {},
      "source": [
        "<div class=\"alert alert-info\"><h4>Note</h4><p>You can also manually download the CASE or VTK files from the Strocchi 2020\n   and Rodero 2021 databases. For more information, see:\n\n   - [A Publicly Available Virtual Cohort of Four-chamber Heart Meshes for\n     Cardiac Electro-mechanics Simulations](https://zenodo.org/records/3890034)\n   - [Virtual cohort of adult healthy four-chamber heart meshes from CT images](https://zenodo.org/records/4590294)\n\n   Alternatively, you can simply click one of the buttons at the bottom of this page\n   to download a CASE file for the Rodero 2021 database in an IPYNB, PY, or ZIP format.</p></div>\n\n"
      ]
    },
    {
      "cell_type": "markdown",
      "metadata": {},
      "source": [
        "## Convert the VTK file to a compatible input format\n\n"
      ]
    },
    {
      "cell_type": "code",
      "execution_count": null,
      "metadata": {
        "collapsed": false
      },
      "outputs": [],
      "source": [
        "input_geom, part_definitions = get_compatible_input(\n    case_file, model_type=\"FullHeart\", database=\"Rodero2021\"\n)\n\n# Note that the input model and part definitions can be saved for later use.\n# Save input geometry and part definitions.\ninput_geom.save(path_to_input)\nwith open(path_to_part_definitions, \"w\") as f:\n    json.dump(part_definitions, f, indent=True)"
      ]
    },
    {
      "cell_type": "markdown",
      "metadata": {},
      "source": [
        "## Create a heart model\nCreate a full-heart model.\n\n"
      ]
    },
    {
      "cell_type": "code",
      "execution_count": null,
      "metadata": {
        "collapsed": false
      },
      "outputs": [],
      "source": [
        "model = models.FullHeart(working_directory=workdir)\n\n# Load input model generated in an earlier step.\nmodel.load_input(input_geom, part_definitions, \"surface-id\")\n\n# Mesh the volume of all structural parts.\nmodel.mesh_volume(use_wrapper=True, global_mesh_size=2.0, _global_wrap_size=2.0)\n\n# Update the model and extract the required anatomical features.\nmodel.update()\n\n# Optionally save the simulation mesh as a VTK object for \"offline\" inspection.\nmodel.mesh.save(os.path.join(model.workdir, \"simulation-mesh.vtu\"))\nmodel.save_model(os.path.join(model.workdir, \"heart_model.vtu\"))\n\n# Print some information about the processed model.\nprint(model)\n\n# Print part names.\nprint(model.part_names)"
      ]
    },
    {
      "cell_type": "markdown",
      "metadata": {},
      "source": [
        "## Visualize results\nVisualize and inspect the components of the model by accessing\nvarious properties or attributes and invoking methods.\n\n"
      ]
    },
    {
      "cell_type": "code",
      "execution_count": null,
      "metadata": {
        "collapsed": false
      },
      "outputs": [],
      "source": [
        "print(f\"Volume of LV cavity: {model.left_ventricle.cavity.volume} mm^3\")\nprint(f\"Volume of LV cavity: {model.left_atrium.cavity.volume} mm^3\")\n\n# Plot the remeshed model.\nmodel.plot_mesh(show_edges=False)\n\n# Plot the endocardial surface of the left ventricle.\nmodel.left_ventricle.endocardium.plot(show_edges=True, color=\"r\")\n\n# Loop over all cavities and plot them in a single window with PyVista.\nimport pyvista as pv\n\ncavities = pv.PolyData()\nfor c in model.cavities:\n    cavities += c.surface\ncavities.plot(show_edges=True)"
      ]
    }
  ],
  "metadata": {
    "kernelspec": {
      "display_name": "Python 3",
      "language": "python",
      "name": "python3"
    },
    "language_info": {
      "codemirror_mode": {
        "name": "ipython",
        "version": 3
      },
      "file_extension": ".py",
      "mimetype": "text/x-python",
      "name": "python",
      "nbconvert_exporter": "python",
      "pygments_lexer": "ipython3",
      "version": "3.11.9"
    }
  },
  "nbformat": 4,
  "nbformat_minor": 0
}