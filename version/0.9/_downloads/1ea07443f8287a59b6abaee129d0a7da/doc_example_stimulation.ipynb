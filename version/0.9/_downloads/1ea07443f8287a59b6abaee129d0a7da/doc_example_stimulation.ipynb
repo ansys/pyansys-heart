{
  "cells": [
    {
      "cell_type": "markdown",
      "metadata": {},
      "source": [
        "\n# Stimulation definition example\nThis example shows you how to define an EP stimulation. It demonstrates how you\ncan load a pre-computed heart model, define a stimulation region based on a sphere\ncentered on the apex, and a sphere centered on a point chosen in Universal\nVentricular Coordinates (UVC).\n"
      ]
    },
    {
      "cell_type": "markdown",
      "metadata": {},
      "source": [
        "# Example setup\nLoading required modules and heart model.\n\n## Perform the required imports\nImport the required modules and set relevant paths.\n\n"
      ]
    },
    {
      "cell_type": "code",
      "execution_count": null,
      "metadata": {
        "collapsed": false
      },
      "outputs": [],
      "source": [
        "import os\n\nimport numpy as np\nimport pyvista as pv\n\nimport ansys.heart.core.models as models\nfrom ansys.heart.simulator.settings.settings import SimulationSettings, Stimulation\nfrom ansys.heart.simulator.simulator import DynaSettings, EPSimulator\n\n# accept dpf license aggrement\n# https://dpf.docs.pyansys.com/version/stable/getting_started/licensing.html#ref-licensing\nos.environ[\"ANSYS_DPF_ACCEPT_LA\"] = \"Y\"\n\nworkdir = os.path.join(\n    \"pyansys-heart\", \"downloads\", \"Strocchi2020\", \"01\", \"FourChamber\", \"teststim\"\n)\npath_to_model = os.path.join(workdir, \"heart_model.vtu\")\n\n\n# load your four chamber heart model with uvcs (see preprocessor examples to create\n# a heart model from scratch)\nmodel: models.FourChamber = models.FourChamber(working_directory=workdir)\nmodel.load_model_from_mesh(path_to_model)"
      ]
    },
    {
      "cell_type": "markdown",
      "metadata": {},
      "source": [
        "# Define stimulation at the apex\nSelect points inside sphere centered at the left apex.\n\n"
      ]
    },
    {
      "cell_type": "code",
      "execution_count": null,
      "metadata": {
        "collapsed": false
      },
      "outputs": [],
      "source": [
        "apex_left = model.left_ventricle.apex_points[0].xyz\nsphere = pv.Sphere(center=(apex_left), radius=2)\nnewdata = model.mesh.select_enclosed_points(sphere)\nnode_ids = np.where(newdata.point_data[\"SelectedPoints\"] == 1)[0]\napex_stim_points = model.mesh.points[node_ids, :]\n\npl = pv.Plotter()\npl.add_points(apex_stim_points, color=\"red\")\npl.add_mesh(model.mesh, color=\"lightgrey\", opacity=0.2)\npl.show()\n\n# Define stimulation and introduce it as simulation settings\nstim_apex = Stimulation(node_ids=list(node_ids), t_start=0, period=800, duration=20, amplitude=50)\nsettings = SimulationSettings()\nsettings.load_defaults()\nsettings.electrophysiology.stimulation = {\"stim_apex\": stim_apex}\n\n\n# Define auxiliary function to find a point in the model based on its UVC coordinates\ndef get_point_from_uvc(\n    model: models.HeartModel, apicobasal: float, transmural: float, rotational: float\n):\n    point_coords = np.array([apicobasal, transmural, rotational])\n    diffs = (\n        np.transpose(\n            np.vstack(\n                (\n                    model.mesh.point_data[\"apico-basal\"],\n                    model.mesh.point_data[\"transmural\"],\n                    model.mesh.point_data[\"rotational\"],\n                )\n            )\n        )\n        - point_coords\n    )\n\n    norms = np.linalg.norm(diffs, axis=1)\n    norms[np.isnan(norms)] = 1000\n    point_id = np.argmin(norms)\n    return point_id"
      ]
    },
    {
      "cell_type": "markdown",
      "metadata": {},
      "source": [
        "# Define stimulation based on UVC\nSelect points inside sphere centered at a chosen point based on UVC coordinates\n(if the model has UVC).\n\n"
      ]
    },
    {
      "cell_type": "code",
      "execution_count": null,
      "metadata": {
        "collapsed": false
      },
      "outputs": [],
      "source": [
        "if (\n    (\"transmural\" in model.mesh.point_data.keys())\n    and (\"apico-basal\" in model.mesh.point_data.keys())\n    and (\"rotational\" in model.mesh.point_data.keys())\n):\n    uvc_point_id = get_point_from_uvc(model, apicobasal=0.7, transmural=0, rotational=1)\n    uvc_stimpoint = model.mesh.points[uvc_point_id, :]\n    sphere = pv.Sphere(center=(uvc_stimpoint), radius=2)\n    newdata = model.mesh.select_enclosed_points(sphere)\n    node_ids = np.where(newdata.point_data[\"SelectedPoints\"] == 1)[0]\n    uvc_stim_points = model.mesh.points[node_ids, :]\n\n    pl = pv.Plotter()\n    pl.add_points(apex_stim_points, color=\"red\")\n    pl.add_points(uvc_stim_points, color=\"blue\")\n    pl.add_mesh(model.mesh, color=\"lightgrey\", opacity=0.2)\n    pl.show()\n\n    stim_uvc = Stimulation(\n        node_ids=list(node_ids), t_start=0, period=800, duration=20, amplitude=50\n    )\n    settings.electrophysiology.stimulation[\"stim_uvc\"] = stim_uvc\n\n# specify LS-DYNA path\nlsdyna_path = r\"ls-dyna_msmpi.exe\"\n\n\n# instantaiate dyna settings of choice\ndyna_settings = DynaSettings(\n    lsdyna_path=lsdyna_path, dynatype=\"intelmpi\", num_cpus=4, platform=\"wsl\"\n)\n\nsimulator = EPSimulator(\n    model=model,\n    dyna_settings=dyna_settings,\n    simulation_directory=os.path.join(workdir, \"simulation-EP\"),\n)\nsimulator.settings = settings\n\nsimulator.simulate()"
      ]
    }
  ],
  "metadata": {
    "kernelspec": {
      "display_name": "Python 3",
      "language": "python",
      "name": "python3"
    },
    "language_info": {
      "codemirror_mode": {
        "name": "ipython",
        "version": 3
      },
      "file_extension": ".py",
      "mimetype": "text/x-python",
      "name": "python",
      "nbconvert_exporter": "python",
      "pygments_lexer": "ipython3",
      "version": "3.10.16"
    }
  },
  "nbformat": 4,
  "nbformat_minor": 0
}