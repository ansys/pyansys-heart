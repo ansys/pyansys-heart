{
  "cells": [
    {
      "cell_type": "markdown",
      "metadata": {},
      "source": [
        "\n# Create a four chamber heart model\nThis example shows you how to download a case from the Strocchi et al (2020) database\nand process that case into a simulation-ready four chamber heart model.\n"
      ]
    },
    {
      "cell_type": "markdown",
      "metadata": {},
      "source": [
        "# Example setup\nPerform the required imports\n~~~~~~~~~~~~~~~~~~~~~~~~~~~~\nImport the required modules and set relevant paths, including that of the working\ndirectory and generated model\n\n"
      ]
    },
    {
      "cell_type": "code",
      "execution_count": null,
      "metadata": {
        "collapsed": false
      },
      "outputs": [],
      "source": [
        "import os\nfrom pathlib import Path\n\nfrom ansys.heart.misc.downloader import download_case, unpack_case\nimport ansys.heart.preprocessor.models as models\n\n\n# specify necessary paths.\n# Note that we need to cast the paths to strings to facilitate serialization.\ncase_file = str(\n    Path(Path(__file__).resolve().parents[2], \"downloads\", \"Strocchi2020\", \"01\", \"01.case\")\n)\ndownload_folder = str(Path(Path(__file__).resolve().parents[2], \"downloads\"))\nworkdir = str(\n    Path(Path(__file__).resolve().parents[2], \"downloads\", \"Strocchi2020\", \"01\", \"FourChamber\")\n)\npath_to_model = str(Path(workdir, \"heart_model.pickle\"))"
      ]
    },
    {
      "cell_type": "markdown",
      "metadata": {},
      "source": [
        "## Download the case\nDownload and unpack the case from the public repository of full hearts if it is\nnot yet available. This model will be used as input for the preprocessor.\n\n"
      ]
    },
    {
      "cell_type": "code",
      "execution_count": null,
      "metadata": {
        "collapsed": false
      },
      "outputs": [],
      "source": [
        "if not os.path.isfile(case_file):\n    path_to_downloaded_file = download_case(\n        \"Strocchi2020\", 1, download_folder=download_folder, overwrite=False\n    )\n    unpack_case(path_to_downloaded_file)"
      ]
    },
    {
      "cell_type": "markdown",
      "metadata": {},
      "source": [
        "## Set required information\nSet the right database to which this case belongs, and set other relevant\ninformation such as the desired mesh size.\n\n"
      ]
    },
    {
      "cell_type": "code",
      "execution_count": null,
      "metadata": {
        "collapsed": false
      },
      "outputs": [],
      "source": [
        "info = models.ModelInfo(\n    database=\"Strocchi2020\",\n    path_to_case=case_file,\n    work_directory=workdir,\n    path_to_model=path_to_model,\n    add_blood_pool=False,\n    mesh_size=1.5,\n)\n\n# create the working directory\ninfo.create_workdir()\n# clean the working directory\ninfo.clean_workdir(extensions_to_remove=[\".stl\", \".vtk\", \".msh.h5\"])\n# dump information to stdout\ninfo.dump_info()"
      ]
    },
    {
      "cell_type": "markdown",
      "metadata": {},
      "source": [
        "## Initialize the heart model\nInitialize the desired heart model, and invoke the main method to\nextract the simulation mesh and dump the model to disk. This will extract\nthe relevant parts from the original model and remesh the entire surface and\nvolume. Moreover, relevant anatomical features are extracted.\n\n"
      ]
    },
    {
      "cell_type": "code",
      "execution_count": null,
      "metadata": {
        "collapsed": false
      },
      "outputs": [],
      "source": [
        "# instantiate a four chamber model\nmodel = models.FourChamber(info)\n\n# extract the simulation mesh\nmodel.extract_simulation_mesh()\n\n# dump the model to disk for future use\nmodel.dump_model(path_to_model)\n# print the resulting information\nmodel.print_info()\n\n# print part names\nprint(model.part_names)\n# print volumes of some cavities:\nprint(f\"Volume of LV cavity: {model.left_ventricle.cavity.volume} mm^3\")\nprint(f\"Volume of LV cavity: {model.left_atrium.cavity.volume} mm^3\")"
      ]
    },
    {
      "cell_type": "markdown",
      "metadata": {},
      "source": [
        "## Visualize results\nYou can visualize and inspect the components of the model by accessing\nvarious properties/attributes and invoke methods.\n\n"
      ]
    },
    {
      "cell_type": "code",
      "execution_count": null,
      "metadata": {
        "collapsed": false
      },
      "outputs": [],
      "source": [
        "# plot the remeshed model\nmodel.plot_mesh(show_edges=False)"
      ]
    },
    {
      "cell_type": "markdown",
      "metadata": {},
      "source": [
        "<img src=\"file://_static/images/four_chamber_mesh.png\" width=\"400pt\" align=\"center\">\n\n"
      ]
    },
    {
      "cell_type": "code",
      "execution_count": null,
      "metadata": {
        "collapsed": false
      },
      "outputs": [],
      "source": [
        "# plot the endocardial surface of the left ventricle.\nmodel.left_ventricle.endocardium.plot(show_edges=True, color=\"r\")"
      ]
    },
    {
      "cell_type": "markdown",
      "metadata": {},
      "source": [
        "<img src=\"file://_static/images/four_chamber_lv_endocardium.png\" width=\"400pt\" align=\"center\">\n\n"
      ]
    },
    {
      "cell_type": "code",
      "execution_count": null,
      "metadata": {
        "collapsed": false
      },
      "outputs": [],
      "source": [
        "# loop over all cavities and plot these in a single window.\nimport pyvista as pv\n\ncavities = pv.PolyData()\nfor c in model.cavities:\n    cavities += c.surface\ncavities.plot(show_edges=True)"
      ]
    },
    {
      "cell_type": "markdown",
      "metadata": {},
      "source": [
        "<img src=\"file://_static/images/four_chamber_cavities.png\" width=\"400pt\" align=\"center\">\n\n"
      ]
    }
  ],
  "metadata": {
    "kernelspec": {
      "display_name": "Python 3",
      "language": "python",
      "name": "python3"
    },
    "language_info": {
      "codemirror_mode": {
        "name": "ipython",
        "version": 3
      },
      "file_extension": ".py",
      "mimetype": "text/x-python",
      "name": "python",
      "nbconvert_exporter": "python",
      "pygments_lexer": "ipython3",
      "version": "3.10.13"
    }
  },
  "nbformat": 4,
  "nbformat_minor": 0
}