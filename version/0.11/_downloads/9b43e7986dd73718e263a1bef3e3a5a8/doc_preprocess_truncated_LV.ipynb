{
  "cells": [
    {
      "cell_type": "markdown",
      "metadata": {},
      "source": [
        "\n# Create a truncated ellipsoid model\nThis example shows you how to build a basic ellipsoidal model\nfrom primitive shapes. Shape based on\n[Land et al (2015)](https://doi.org/10.1098/rspa.2015.0641).\n"
      ]
    },
    {
      "cell_type": "markdown",
      "metadata": {},
      "source": [
        "# Example setup\nPerform the required imports\n~~~~~~~~~~~~~~~~~~~~~~~~~~~~\nImport the required modules and set relevant paths, including that of the working\ndirectory and generated model\n\n"
      ]
    },
    {
      "cell_type": "code",
      "execution_count": null,
      "metadata": {
        "collapsed": false
      },
      "outputs": [],
      "source": [
        "import os\nfrom pathlib import Path\n\nimport numpy as np\nimport pyvista as pv\n\nimport ansys.heart.core.models as models\n\n# Use Fluent 24.1 for meshing.\nimport ansys.heart.core.pre.mesher as mesher\nfrom ansys.heart.core.utils.misc import clean_directory\n\nmesher._fluent_version = \"24.1\""
      ]
    },
    {
      "cell_type": "markdown",
      "metadata": {},
      "source": [
        "## Create a truncated ellipsoid using pyvista\n\n"
      ]
    },
    {
      "cell_type": "code",
      "execution_count": null,
      "metadata": {
        "collapsed": false
      },
      "outputs": [],
      "source": [
        "workdir = Path.home() / \"pyansys-heart\" / \"simplified-geometries\" / \"truncated_LV\"\nworkdir.mkdir(parents=True, exist_ok=True)\n\n# create the surfaces of a truncated LV model\nellips_epi: pv.PolyData = pv.ParametricEllipsoid(xradius=10, yradius=10, zradius=20)\nellips_endo: pv.PolyData = pv.ParametricEllipsoid(xradius=7, yradius=7, zradius=17)\n\n# clip ellips at z=5\nz_truncate = 5  # z-coordinate to truncate at\nellips_endo = ellips_endo.clip(normal=\"z\", origin=[0, 0, z_truncate])\nellips_epi = ellips_epi.clip(normal=\"z\", origin=[0, 0, z_truncate])\n\n# compute x and y radius to create a closing disc.\nendo_bounds = ellips_endo.extract_feature_edges().bounds\nepi_bounds = ellips_epi.extract_feature_edges().bounds\n\nbase: pv.PolyData = pv.Disc(\n    center=(0, 0, z_truncate), inner=endo_bounds[1], outer=epi_bounds[1], c_res=200\n).triangulate()\n\n# add \"surface-id\" to cell data\nbase.cell_data[\"surface-id\"] = 3\nellips_endo.cell_data[\"surface-id\"] = 1\nellips_epi.cell_data[\"surface-id\"] = 2\n\n# combine into single poly data object.\nheart: pv.PolyData = ellips_endo + ellips_epi + base\nheart.plot(show_edges=True)"
      ]
    },
    {
      "cell_type": "markdown",
      "metadata": {},
      "source": [
        "<img src=\"file://_static/images/truncated_LV_mesh_input.png\" width=\"400pt\" align=\"center\">\n\n"
      ]
    },
    {
      "cell_type": "markdown",
      "metadata": {},
      "source": [
        "## Convert the input to a HeartModel\n\n"
      ]
    },
    {
      "cell_type": "code",
      "execution_count": null,
      "metadata": {
        "collapsed": false
      },
      "outputs": [],
      "source": [
        "# construct part definition dictionary\npart_definitions = {\n    \"Left ventricle\": {\n        \"id\": 1,\n        \"enclosed_by_boundaries\": {\n            \"left-ventricle-endocardium\": 1,\n            \"left-ventricle-epicardium\": 2,\n            \"interface_left-ventricle-myocardium_mitral-valve\": 3,\n        },\n    }\n}\n\n# use the combined polydata `heart` as input, where \"surface-id\" identifies each\n# of the relevant regions.\n# part definitions is used to map the remeshed model to the HeartModel parts/boundaries\npath_to_model = os.path.join(workdir, \"heart_model.pickle\")\n\n# initialize left-ventricular heart model\nmodel = models.LeftVentricle(working_directory=workdir)\n\n# clean working directory\nclean_directory(workdir, [\".stl\", \".msh.h5\", \".pickle\"])\n\n# load input model\nmodel.load_input(heart, part_definitions, \"surface-id\")"
      ]
    },
    {
      "cell_type": "markdown",
      "metadata": {},
      "source": [
        "## Remesh the surfaces and volume\n\n<div class=\"alert alert-info\"><h4>Note</h4><p>The individual surfaces in the combined PolyData object are\n   unconnected. Using the wrapper automatically fixes any small gaps\n   and ensures proper connectivity.</p></div>\n\n"
      ]
    },
    {
      "cell_type": "code",
      "execution_count": null,
      "metadata": {
        "collapsed": false
      },
      "outputs": [],
      "source": [
        "# remesh the model using wrapping\nmodel.mesh_volume(use_wrapper=True, global_mesh_size=0.5)\n\n# assign axis of model manually.\nmodel.l4cv_axis = {\"center\": base.center, \"normal\": np.array([1, 0, 0])}\nmodel.l2cv_axis = {\"center\": base.center, \"normal\": np.array([0, 1, 0])}\nmodel.short_axis = {\"center\": base.center, \"normal\": np.array([0, 0, 1])}\n\n# update the model\nmodel._sync_input_parts_to_model_parts()\n\nmodel._assign_elements_to_parts()\nmodel._assign_surfaces_to_parts()\n\nmodel._validate_parts()\nmodel._validate_surfaces()\n\nmodel._assign_cavities_to_parts()\nmodel._update_cap_types()\nmodel._validate_cap_names()\nmodel._extract_apex()\n\nmodel.save_model(os.path.join(workdir, \"heart_model.vtu\"))\n\n# plot the clipped volume mesh.\nmodel.mesh.clip(crinkle=True).plot(show_edges=True)"
      ]
    },
    {
      "cell_type": "markdown",
      "metadata": {},
      "source": [
        "<img src=\"file://_static/images/truncated_LV_mesh.png\" width=\"400pt\" align=\"center\">\n\n"
      ]
    }
  ],
  "metadata": {
    "kernelspec": {
      "display_name": "Python 3",
      "language": "python",
      "name": "python3"
    },
    "language_info": {
      "codemirror_mode": {
        "name": "ipython",
        "version": 3
      },
      "file_extension": ".py",
      "mimetype": "text/x-python",
      "name": "python",
      "nbconvert_exporter": "python",
      "pygments_lexer": "ipython3",
      "version": "3.11.9"
    }
  },
  "nbformat": 4,
  "nbformat_minor": 0
}