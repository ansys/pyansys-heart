{
  "cells": [
    {
      "cell_type": "markdown",
      "metadata": {},
      "source": [
        "\n# Full heart EP-mechanics\nThis example shows you how to consume a full heart model and\nset it up for a coupled electromechanical simulation.\n"
      ]
    },
    {
      "cell_type": "markdown",
      "metadata": {},
      "source": [
        "# Example setup\nbefore computing the fiber orientation, purkinje network we need to load\nthe required modules, load a heart model and set up the simulator.\n\n## Perform the required imports\nImport the required modules and set relevant paths, including that of the working\ndirectory, model, and ls-dyna executable.\n\n"
      ]
    },
    {
      "cell_type": "code",
      "execution_count": null,
      "metadata": {
        "collapsed": false
      },
      "outputs": [],
      "source": [
        "import os\nfrom pathlib import Path\n\nimport ansys.heart.preprocessor.models as models\nfrom ansys.heart.simulator.simulator import DynaSettings, EPMechanicsSimulator\nfrom pint import Quantity"
      ]
    },
    {
      "cell_type": "markdown",
      "metadata": {},
      "source": [
        "# Example setup\nPerform the required imports\n~~~~~~~~~~~~~~~~~~~~~~~~~~~~\nImport the required modules and set relevant paths, including that of the working\ndirectory and generated model\n\n"
      ]
    },
    {
      "cell_type": "code",
      "execution_count": null,
      "metadata": {
        "collapsed": false
      },
      "outputs": [],
      "source": [
        "# specify necessary paths.\n# Note that we need to cast the paths to strings to facilitate serialization.\ncase_file = str(\n    Path(Path(__file__).resolve().parents[2], \"downloads\", \"Cristobal2021\", \"01\", \"01.vtk\")\n)\ndownload_folder = str(Path(Path(__file__).resolve().parents[2], \"downloads\"))\nworkdir = str(\n    Path(Path(__file__).resolve().parents[2], \"downloads\", \"Cristobal2021\", \"01\", \"FullHeart2.0\")\n)\n\npath_to_model = str(Path(workdir, \"heart_model.pickle\"))"
      ]
    },
    {
      "cell_type": "markdown",
      "metadata": {},
      "source": [
        "## Set required information\nSet the right database to which this case belongs, and set other relevant\ninformation such as the desired mesh size.\n\n<div class=\"alert alert-info\"><h4>Note</h4><p>The example was tested with a constant mesh size of 2.0, the stress-free\n   step may not converge when refining the mesh size.</p></div>\n\n"
      ]
    },
    {
      "cell_type": "code",
      "execution_count": null,
      "metadata": {
        "collapsed": false
      },
      "outputs": [],
      "source": [
        "info = models.ModelInfo(\n    database=\"Cristobal2021\",\n    path_to_case=case_file,\n    work_directory=workdir,\n    path_to_model=path_to_model,\n    mesh_size=2.0,\n)\n\n# create the working directory\ninfo.create_workdir()\n# clean the working directory\ninfo.clean_workdir(extensions_to_remove=[\".stl\", \".vtk\", \".msh.h5\"])\n# dump information to stdout\ninfo.dump_info()"
      ]
    },
    {
      "cell_type": "markdown",
      "metadata": {},
      "source": [
        "## Initialize the heart model\nInitialize the desired heart model, and invoke the main method to\nextract the simulation mesh and dump the model to disk. This will extract\nthe relevant parts and features from the original model and remesh\nthe entire surface and volume. Relevant anatomical features that are extracted include\nthe endocardium, epicardium, apex, and valve annuli\n\n"
      ]
    },
    {
      "cell_type": "code",
      "execution_count": null,
      "metadata": {
        "collapsed": false
      },
      "outputs": [],
      "source": [
        "# instantiate a four chamber model\nmodel = models.FullHeart(info)\n\n# extract the simulation mesh\nmodel.extract_simulation_mesh()\n\n# dump the model to disk for future use\nmodel.dump_model(path_to_model)\n\n# print information regarding the generated model\nmodel.print_info()"
      ]
    },
    {
      "cell_type": "markdown",
      "metadata": {},
      "source": [
        "## Instantiate the simulator object\ninstantiate the simulator and settings appropriately.\n\n"
      ]
    },
    {
      "cell_type": "code",
      "execution_count": null,
      "metadata": {
        "collapsed": false
      },
      "outputs": [],
      "source": [
        "# instantaiate dyna settings of choice\nlsdyna_path = r\"mppdyna_d_sse2_linux86_64_intelmmpi_105630\"\ndyna_settings = DynaSettings(lsdyna_path=lsdyna_path, dynatype=\"intelmpi\", num_cpus=8)\n\n# instantiate simulator object\nsimulator = EPMechanicsSimulator(\n    model=model,\n    dyna_settings=dyna_settings,\n    simulation_directory=os.path.join(workdir, \"ep-mechanics\"),\n)\n\n# load default simulation settings\nsimulator.settings.load_defaults()\n\n# compute fiber orientation in the ventricles and atria\nsimulator.compute_fibers()\nsimulator.compute_left_atrial_fiber()\nsimulator.compute_right_atrial_fiber(appendage=[39, 29, 98])\n\n# switch atria to active\nsimulator.model.left_atrium.has_fiber = True\nsimulator.model.left_atrium.is_active = True\n\nsimulator.model.right_atrium.has_fiber = True\nsimulator.model.right_atrium.is_active = True\n\n# Estimate the stress-free-configuration\nsimulator.compute_stress_free_configuration()\n\n# Compute the conduction system\nsimulator.compute_purkinje()\nsimulator.compute_conduction_system()"
      ]
    },
    {
      "cell_type": "markdown",
      "metadata": {},
      "source": [
        "## Start main simulation\n\n"
      ]
    },
    {
      "cell_type": "code",
      "execution_count": null,
      "metadata": {
        "collapsed": false
      },
      "outputs": [],
      "source": [
        "simulator.settings.mechanics.analysis.end_time = Quantity(800, \"ms\")\nsimulator.settings.mechanics.analysis.dt_d3plot = Quantity(10, \"ms\")\n\nsimulator.model.dump_model(os.path.join(workdir, \"heart_fib_beam.pickle\"))"
      ]
    },
    {
      "cell_type": "markdown",
      "metadata": {},
      "source": [
        "<div class=\"alert alert-info\"><h4>Note</h4><p>A constant pressure is prescribed to the atria.\n   No circulation system is coupled with the atria.</p></div>\n\n"
      ]
    },
    {
      "cell_type": "code",
      "execution_count": null,
      "metadata": {
        "collapsed": false
      },
      "outputs": [],
      "source": [
        "# start main simulation\nsimulator.simulate()"
      ]
    },
    {
      "cell_type": "markdown",
      "metadata": {},
      "source": [
        "Result in LS-PrePost\n\n"
      ]
    },
    {
      "cell_type": "markdown",
      "metadata": {},
      "source": [
        ".. video:: ../../_static/images/doc_Christobal01_epmeca_fh.mp4\n  :width: 600\n  :loop:\n  :class: center\n\n"
      ]
    }
  ],
  "metadata": {
    "kernelspec": {
      "display_name": "Python 3",
      "language": "python",
      "name": "python3"
    },
    "language_info": {
      "codemirror_mode": {
        "name": "ipython",
        "version": 3
      },
      "file_extension": ".py",
      "mimetype": "text/x-python",
      "name": "python",
      "nbconvert_exporter": "python",
      "pygments_lexer": "ipython3",
      "version": "3.10.13"
    }
  },
  "nbformat": 4,
  "nbformat_minor": 0
}