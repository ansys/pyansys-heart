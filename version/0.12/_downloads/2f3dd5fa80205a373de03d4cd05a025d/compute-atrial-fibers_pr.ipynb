{
  "cells": [
    {
      "cell_type": "markdown",
      "metadata": {},
      "source": [
        "\n# Generate atrial fibers\nThis example shows how to generate atrial fibers using the Laplace-Dirichlet Rule-Based\n(LDRB) method.\n"
      ]
    },
    {
      "cell_type": "markdown",
      "metadata": {},
      "source": [
        "<div class=\"alert alert-danger\"><h4>Warning</h4><p>When using a standalone version of the DPF Server, you must accept the [license terms](https://dpf.docs.pyansys.com/version/stable/getting_started/licensing.html). To\n   accept these terms, you can set this environment variable:\n\n```python\nimport os\nos.environ[\"ANSYS_DPF_ACCEPT_LA\"] = \"Y\"</p></div>\n```\n"
      ]
    },
    {
      "cell_type": "markdown",
      "metadata": {},
      "source": [
        "## Perform the required imports\nImport the required modules and set relevant paths, including that of the working\ndirectory, model, and LS-DYNA executable file. This example uses DEV-104373-g6d20c20aee.\n\n"
      ]
    },
    {
      "cell_type": "code",
      "execution_count": null,
      "metadata": {
        "collapsed": false
      },
      "outputs": [],
      "source": [
        "import os\nfrom pathlib import Path\n\nimport numpy as np\nimport pyvista as pv\n\nfrom ansys.health.heart.examples import get_preprocessed_fullheart\nimport ansys.health.heart.models as models\nfrom ansys.health.heart.simulator import BaseSimulator, DynaSettings\n\n# Specify the path to the working directory and heart model. The following path assumes\n# that a preprocessed model is already available\nworkdir = Path.home() / \"pyansys-heart\" / \"downloads\" / \"Rodero2021\" / \"01\" / \"FullHeart\"\n\npath_to_model, path_to_partinfo, _ = get_preprocessed_fullheart()\n\n# Specify LS-DYNA path\nlsdyna_path = r\"ls-dyna_smp\"\n\n# Load heart model\nmodel: models.FourChamber = models.FourChamber(working_directory=workdir)\nmodel.load_model_from_mesh(path_to_model, path_to_model.replace(\".vtu\", \".partinfo.json\"))"
      ]
    },
    {
      "cell_type": "markdown",
      "metadata": {},
      "source": [
        "## Instantiate the simulator\nInstantiate the simulator and modify options as needed.\n\n"
      ]
    },
    {
      "cell_type": "markdown",
      "metadata": {},
      "source": [
        "<div class=\"alert alert-info\"><h4>Note</h4><p>The ``DynaSettings`` object supports several LS-DYNA versions and platforms,\n   including ``smp``, ``intempi``, ``msmpi``, ``windows``, ``linux``, and ``wsl``.\n   Choose the one that works for your setup.</p></div>\n\n"
      ]
    },
    {
      "cell_type": "code",
      "execution_count": null,
      "metadata": {
        "collapsed": false
      },
      "outputs": [],
      "source": [
        "# instantiate LS-DYNA settings of choice\ndyna_settings = DynaSettings(\n    lsdyna_path=lsdyna_path, dynatype=\"intelmpi\", num_cpus=4, platform=\"windows\"\n)\n\nsimulator = BaseSimulator(\n    model=model,\n    dyna_settings=dyna_settings,\n    simulation_directory=os.path.join(workdir, \"simulation\"),\n)\n\nsimulator.settings.load_defaults()\n\n# remove fiber/sheet information if it already exists\nmodel.mesh.cell_data[\"fiber\"] = np.zeros((model.mesh.n_cells, 3))\nmodel.mesh.cell_data[\"sheet\"] = np.zeros((model.mesh.n_cells, 3))"
      ]
    },
    {
      "cell_type": "markdown",
      "metadata": {},
      "source": [
        "## Compute atrial fibers\n\n"
      ]
    },
    {
      "cell_type": "code",
      "execution_count": null,
      "metadata": {
        "collapsed": false
      },
      "outputs": [],
      "source": [
        "# compute left atrium fiber\nla = simulator.compute_left_atrial_fiber()\n\n# Appendage apex point should be manually given to compute right atrium fiber\nappendage_apex = [39, 29, 98]\nra = simulator.compute_right_atrial_fiber(appendage_apex)"
      ]
    },
    {
      "cell_type": "markdown",
      "metadata": {},
      "source": [
        "<div class=\"alert alert-info\"><h4>Note</h4><p>You might need to define an appropriate point for the right atrial appendage.\n   The list specifies the x, y, and z coordinates close to the appendage.</p></div>\n\n"
      ]
    },
    {
      "cell_type": "markdown",
      "metadata": {},
      "source": [
        "## Plot left atrial bundles\n\n"
      ]
    },
    {
      "cell_type": "code",
      "execution_count": null,
      "metadata": {
        "collapsed": false
      },
      "outputs": [],
      "source": [
        "la.cell_data[\"bundle\"] = la.cell_data[\"bundle\"].astype(np.int32)\nla.set_active_scalars(\"bundle\")\nla.plot()"
      ]
    },
    {
      "cell_type": "markdown",
      "metadata": {},
      "source": [
        "## Plot right atrial bundles\n\n"
      ]
    },
    {
      "cell_type": "code",
      "execution_count": null,
      "metadata": {
        "collapsed": false
      },
      "outputs": [],
      "source": [
        "ra.cell_data[\"bundle\"] = ra.cell_data[\"bundle\"].astype(np.int32)\nra.set_active_scalars(\"bundle\")\nra.plot()"
      ]
    },
    {
      "cell_type": "markdown",
      "metadata": {},
      "source": [
        "## Plot left atrial fibers\n\n"
      ]
    },
    {
      "cell_type": "code",
      "execution_count": null,
      "metadata": {
        "collapsed": false
      },
      "outputs": [],
      "source": [
        "# plot left atrial fibers\nplotter = pv.Plotter()\nmesh = la.ctp()\nstreamlines = mesh.streamlines(vectors=\"e_l\", source_radius=50, n_points=5000)\ntubes = streamlines.tube()\nplotter.add_mesh(mesh, opacity=0.5, color=\"white\")\nplotter.add_mesh(tubes, color=\"red\")\nplotter.show()"
      ]
    },
    {
      "cell_type": "markdown",
      "metadata": {},
      "source": [
        "## Plot right atrial fibers\n\n"
      ]
    },
    {
      "cell_type": "code",
      "execution_count": null,
      "metadata": {
        "collapsed": false
      },
      "outputs": [],
      "source": [
        "# plot right atrial fibers\nplotter = pv.Plotter()\nmesh = ra.ctp()\nstreamlines = mesh.streamlines(vectors=\"e_l\", source_radius=50, n_points=5000)\ntubes = streamlines.tube()\nplotter.add_mesh(mesh, opacity=0.5, color=\"white\")\nplotter.add_mesh(tubes, color=\"red\")\nplotter.show()"
      ]
    },
    {
      "cell_type": "markdown",
      "metadata": {},
      "source": [
        "## Plot full fibers on full heart model\n\n"
      ]
    },
    {
      "cell_type": "code",
      "execution_count": null,
      "metadata": {
        "collapsed": false
      },
      "outputs": [],
      "source": [
        "fiber_plot = model.plot_fibers(n_seed_points=5000)"
      ]
    }
  ],
  "metadata": {
    "kernelspec": {
      "display_name": "Python 3",
      "language": "python",
      "name": "python3"
    },
    "language_info": {
      "codemirror_mode": {
        "name": "ipython",
        "version": 3
      },
      "file_extension": ".py",
      "mimetype": "text/x-python",
      "name": "python",
      "nbconvert_exporter": "python",
      "pygments_lexer": "ipython3",
      "version": "3.11.9"
    }
  },
  "nbformat": 4,
  "nbformat_minor": 0
}