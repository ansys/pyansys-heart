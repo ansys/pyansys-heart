{
 "cells": [
  {
   "cell_type": "markdown",
   "metadata": {},
   "source": [
    "# Extract torso part from PCA model and save in .mat format\n",
    "- meanshape coordinates\n",
    "- evalues\n",
    "- evectors"
   ]
  },
  {
   "cell_type": "code",
   "execution_count": 4,
   "metadata": {},
   "outputs": [],
   "source": [
    "def is_close_relative(value_a, value_b, tolerance=1e-4):\n",
    "    \"\"\"Check if two values are close to each other within a certain relative tolerance.\"\"\"\n",
    "    if value_a == value_b == 0:\n",
    "        return True\n",
    "    relative_error = abs(value_a - value_b) / max(abs(value_a), abs(value_b))\n",
    "    return relative_error < tolerance\n",
    "\n",
    "def filter_data_relative_precision(mean_shape, eigenvectors, csv_points, tolerance=1e-4):\n",
    "    # Extracting points from the DataFrame\n",
    "    points_from_csv = csv_points[['Points_0', 'Points_1', 'Points_2']].values\n",
    "    \n",
    "    # Number of points in the mean_shape\n",
    "    num_points = len(mean_shape) // 3\n",
    "    \n",
    "    # Indexes to be kept\n",
    "    indexes_to_keep = []\n",
    "    \n",
    "    # Identifying points to keep\n",
    "    for i in range(num_points):\n",
    "        point = mean_shape[i], mean_shape[i + num_points], mean_shape[i + 2*num_points]\n",
    "        if any(all(is_close_relative(point[dim], p[dim], tolerance) for dim in range(3)) for p in points_from_csv):\n",
    "            indexes_to_keep.append(i)\n",
    "    \n",
    "    # Filtering mean_shape\n",
    "    filtered_mean_shape = np.concatenate([mean_shape[indexes_to_keep], \n",
    "                                          mean_shape[num_points:2*num_points][indexes_to_keep], \n",
    "                                          mean_shape[2*num_points:][indexes_to_keep]])\n",
    "    \n",
    "    # Filtering eigenvectors\n",
    "    filtered_eigenvectors = np.concatenate([eigenvectors[:, indexes_to_keep], \n",
    "                                            eigenvectors[:, num_points:2*num_points][:, indexes_to_keep], \n",
    "                                            eigenvectors[:, 2*num_points:][:, indexes_to_keep]], axis=1)\n",
    "    \n",
    "    return filtered_mean_shape, filtered_eigenvectors"
   ]
  },
  {
   "cell_type": "code",
   "execution_count": 5,
   "metadata": {},
   "outputs": [],
   "source": [
    "import pandas as pd\n",
    "import numpy as np\n",
    "# from PCA_model import PCA_model, registration_to_strocchi, save_points_to_vtk\n",
    "\n",
    "\n",
    "# caeser data from Internet: \n",
    "# https://humanshape.mpi-inf.mpg.de/\n",
    "# path_to_meanshape_file = r'C:\\Users\\xuhu\\pyheart-lib\\examples\\preprocessor\\PCA_data\\meanShape.mat'\n",
    "path_to_meanshape_file = r'D:\\Data\\SSM_Input\\input\\meanShape.mat'\n",
    "path_to_evectors = r'D:\\Data\\SSM_Input\\input\\evectors.mat'\n",
    "path_to_evalues = r'D:\\Data\\SSM_Input\\input\\evalues.mat'\n",
    "\n",
    "\n",
    "# file use for extract torso part from meanshape\n",
    "torso_csv_file_path = r\"D:\\Data\\SSM_Input\\input\\Torso.csv\"\n",
    "torso_mat_file_path = 'New_torso.mat'\n",
    "torso_evectors_mat_file_path = 'Torso_evectors.mat'\n",
    "\n",
    "# transfer_matrix_file_path = r'C:\\Users\\xuhu\\pyheart-lib\\examples\\preprocessor\\PCA_data\\combined_transform_matrix.csv'\n"
   ]
  },
  {
   "cell_type": "code",
   "execution_count": 6,
   "metadata": {},
   "outputs": [],
   "source": [
    "from scipy.io import loadmat, savemat\n",
    "\n",
    "meanshape_model = loadmat(path_to_meanshape_file)['points']\n",
    "meanshape_evectors = loadmat(path_to_evectors)['evectors']\n",
    "meanshape_evalues = loadmat(path_to_evalues)['evalues']\n",
    "\n",
    "torso_model = meanshape_model.copy()\n",
    "test_torso_model = np.hstack(torso_model.T.flatten())\n",
    "csv_points_df = pd.read_csv(torso_csv_file_path)\n",
    "torso, torso_evectors = filter_data_relative_precision(test_torso_model, meanshape_evectors, csv_points_df)\n",
    "\n",
    "savemat(torso_mat_file_path, {'points': csv_points_df[['Points_0', 'Points_1', 'Points_2']].values})\n",
    "savemat(torso_evectors_mat_file_path, {'evectors': torso_evectors})"
   ]
  }
 ],
 "metadata": {
  "kernelspec": {
   "display_name": "Python 3.9.18 ('pyheart-demo')",
   "language": "python",
   "name": "python3"
  },
  "language_info": {
   "codemirror_mode": {
    "name": "ipython",
    "version": 3
   },
   "file_extension": ".py",
   "mimetype": "text/x-python",
   "name": "python",
   "nbconvert_exporter": "python",
   "pygments_lexer": "ipython3",
   "version": "3.9.18"
  },
  "orig_nbformat": 4,
  "vscode": {
   "interpreter": {
    "hash": "756023cdf2a134836ba4857affd7c0730725db3e5972466fe079c7f99fc71d26"
   }
  }
 },
 "nbformat": 4,
 "nbformat_minor": 2
}
