{
  "cells": [
    {
      "cell_type": "markdown",
      "metadata": {},
      "source": [
        "\n# Define materials\nThis example show you how to create a mechanical material and assign it to a heart part.\n"
      ]
    },
    {
      "cell_type": "markdown",
      "metadata": {},
      "source": [
        "## Import material module\n\n"
      ]
    },
    {
      "cell_type": "code",
      "execution_count": null,
      "metadata": {
        "collapsed": false
      },
      "outputs": [],
      "source": [
        "import os\nfrom pathlib import Path\n\nimport matplotlib.pyplot as plt\n\nfrom ansys.heart.simulator.settings.material.curve import (\n    ActiveCurve,\n    Kumaraswamy_active,\n    constant_ca2,\n)\nfrom ansys.heart.simulator.settings.material.ep_material import CellModel, EPMaterial\nfrom ansys.heart.simulator.settings.material.material import (\n    ACTIVE,\n    ANISO,\n    ISO,\n    MAT295,\n    ActiveModel,\n    NeoHookean,\n)"
      ]
    },
    {
      "cell_type": "markdown",
      "metadata": {},
      "source": [
        "<div class=\"alert alert-info\"><h4>Note</h4><p>Unit system used for heart modeling in LS-DYNA is [\"MPa\", \"mm\", \"N\", \"ms\", \"g\"]</p></div>\n\n"
      ]
    },
    {
      "cell_type": "markdown",
      "metadata": {},
      "source": [
        "## Create a material\n\n"
      ]
    },
    {
      "cell_type": "code",
      "execution_count": null,
      "metadata": {
        "collapsed": false
      },
      "outputs": [],
      "source": [
        "## Neo-Hookean material can be created as following\nneo = NeoHookean(rho=0.001, c10=1, nu=0.499)"
      ]
    },
    {
      "cell_type": "markdown",
      "metadata": {},
      "source": [
        "<div class=\"alert alert-info\"><h4>Note</h4><p>Please refer to LS-DYNA manual for more details of MAT_295</p></div>\n\n"
      ]
    },
    {
      "cell_type": "code",
      "execution_count": null,
      "metadata": {
        "collapsed": false
      },
      "outputs": [],
      "source": [
        "## More steps to create MAT295 which is used for myocardium\n\n# step 1: create an isotropic module\niso = ISO(k1=1, k2=1, nu=0.499)\n\n# step 2: create an anisotropoc moddule\nfiber = ANISO.HGOFiber(k1=1, k2=1)\naniso1 = ANISO(fibers=[fiber])\n\n# Create fiber with sheet, and their interactions\nsheet = ANISO.HGOFiber(k1=1, k2=1)\naniso2 = ANISO(fibers=[fiber, sheet], k1fs=1, k2fs=1)\n\n# step3: create the active module\n\n# example 1:\n# create active model 1\nac_model1 = ActiveModel.Model1()\n# create Ca2+ curve\nac_curve1 = ActiveCurve(constant_ca2(tb=800, ca2ionm=ac_model1.ca2ionm), type=\"ca2\", threshold=0.5)\n# build active module\nactive = ACTIVE(model=ac_model1, ca2_curve=ac_curve1)\n\n## Active model 1 needs a constant ca2ion\n# but the curve needs to cross threshold at every start of heart beat\n\n# You can plot Ca2+ with threshold\nfig = active.ca2_curve.plot_time_vs_ca2()\nplt.show()"
      ]
    },
    {
      "cell_type": "markdown",
      "metadata": {},
      "source": [
        "<img src=\"file://_static/images/model1_ca2.png\" width=\"400pt\" align=\"center\">\n\n"
      ]
    },
    {
      "cell_type": "code",
      "execution_count": null,
      "metadata": {
        "collapsed": false
      },
      "outputs": [],
      "source": [
        "# example 2\n# create active model 3\nac_model3 = ActiveModel.Model3()\n# create a stress curve and show\nac_curve3 = ActiveCurve(Kumaraswamy_active(t_end=800), type=\"stress\")\nfig = ac_curve3.plot_time_vs_stress()\nplt.show()"
      ]
    },
    {
      "cell_type": "markdown",
      "metadata": {},
      "source": [
        "<img src=\"file://_static/images/model3_stress.png\" width=\"400pt\" align=\"center\">\n\n"
      ]
    },
    {
      "cell_type": "code",
      "execution_count": null,
      "metadata": {
        "collapsed": false
      },
      "outputs": [],
      "source": [
        ""
      ]
    },
    {
      "cell_type": "markdown",
      "metadata": {},
      "source": [
        "<div class=\"alert alert-info\"><h4>Note</h4><p>With setting eta=0 is model 3, stress curve will be the active stress for all elements.\n  If eta!=0, this is idealized active stress when fiber stretch stays to 1.</p></div>\n\n"
      ]
    },
    {
      "cell_type": "code",
      "execution_count": null,
      "metadata": {
        "collapsed": false
      },
      "outputs": [],
      "source": [
        "# PyAnsys-Heart will convert the stress curve to Ca2+ curve (input of MAT_295)\nfig = ac_curve3.plot_time_vs_ca2()\nplt.show()"
      ]
    },
    {
      "cell_type": "markdown",
      "metadata": {},
      "source": [
        "<img src=\"file://_static/images/model3_ca2+.png\" width=\"400pt\" align=\"center\">\n\n"
      ]
    },
    {
      "cell_type": "code",
      "execution_count": null,
      "metadata": {
        "collapsed": false
      },
      "outputs": [],
      "source": [
        "# build active module\nactive3 = ACTIVE(model=ac_model3, ca2_curve=ac_curve3)"
      ]
    },
    {
      "cell_type": "markdown",
      "metadata": {},
      "source": [
        "# Finally, MAT295 can be created with the above modules\n\n"
      ]
    },
    {
      "cell_type": "code",
      "execution_count": null,
      "metadata": {
        "collapsed": false
      },
      "outputs": [],
      "source": [
        "iso_mat = MAT295(rho=1, iso=iso, aniso=None, active=None)\npassive_mat = MAT295(rho=1, iso=iso, aniso=aniso1, active=None)\nactive_mat = MAT295(rho=1, iso=iso, aniso=aniso1, active=active)"
      ]
    },
    {
      "cell_type": "markdown",
      "metadata": {},
      "source": [
        "# EP materials can be created as follows\n\n"
      ]
    },
    {
      "cell_type": "code",
      "execution_count": null,
      "metadata": {
        "collapsed": false
      },
      "outputs": [],
      "source": [
        "ep_mat_active = EPMaterial.Active(\n    sigma_fiber=1, sigma_sheet=0.5, beta=140, cm=0.01, cell_model=CellModel.Tentusscher()\n)\nepinsulator = EPMaterial.Insulator()"
      ]
    },
    {
      "cell_type": "markdown",
      "metadata": {},
      "source": [
        "<div class=\"alert alert-info\"><h4>Note</h4><p>Ca2+ curve will be ignored if the simulation is coupled with electrophysiology</p></div>\n\n"
      ]
    },
    {
      "cell_type": "markdown",
      "metadata": {},
      "source": [
        "## Assign material to a part\nAssign the materials to the heart model\n\n"
      ]
    },
    {
      "cell_type": "code",
      "execution_count": null,
      "metadata": {
        "collapsed": false
      },
      "outputs": [],
      "source": [
        "import numpy as np\n\nimport ansys.heart.core.models as models\nfrom ansys.heart.core.objects import Part"
      ]
    },
    {
      "cell_type": "markdown",
      "metadata": {},
      "source": [
        "Load a heart model\n\n"
      ]
    },
    {
      "cell_type": "markdown",
      "metadata": {},
      "source": [
        "<div class=\"alert alert-info\"><h4>Note</h4><p>run doc_preprocess_fullheart_rodero_01.py in the same folder if loading failed</p></div>\n\n"
      ]
    },
    {
      "cell_type": "code",
      "execution_count": null,
      "metadata": {
        "collapsed": false
      },
      "outputs": [],
      "source": [
        "workdir = Path(Path(__file__).resolve().parents[2], \"downloads\", \"Rodero2021\", \"01\", \"FullHeart\")\npath_to_model = os.path.join(workdir, \"heart_model.vtu\")\n\n# load four chamber heart model.\nheartmodel: models.FullHeart = models.FullHeart(working_directory=workdir)\nheartmodel.load_model_from_mesh(path_to_model, path_to_model.replace(\".vtu\", \".partinfo.json\"))\n\n# Print default material and you should see\n# Material is empty.\nprint(heartmodel.left_ventricle.meca_material)\nprint(heartmodel.left_ventricle.ep_material)"
      ]
    },
    {
      "cell_type": "markdown",
      "metadata": {},
      "source": [
        "<div class=\"alert alert-info\"><h4>Note</h4><p>If no material is set before writing k files, default material from ```settings``` will be set.</p></div>\n\n"
      ]
    },
    {
      "cell_type": "code",
      "execution_count": null,
      "metadata": {
        "collapsed": false
      },
      "outputs": [],
      "source": [
        "# Assign the material we just created\nheartmodel.left_ventricle.meca_material = active_mat\nheartmodel.left_ventricle.ep_material = ep_mat_active\n\n# Print it, you should see\n# MAT295(rho=1, iso=ISO(itype=-3, beta=0.0, nu=0.499, k1=1, k2=1), aopt=2.0, aniso=ANISO(atype=-1, fibers=[ANISO.HGOFiber(k1=1, k2=1, a=0.0, b=1.0, _theta=0.0, _ftype=1, _fcid=0)], k1fs=None, k2fs=None, vec_a=(1.0, 0.0, 0.0), vec_d=(0.0, 1.0, 0.0), nf=1, intype=0), active=ActiveModel.Model1(t0=None, ca2ion=None, ca2ionm=4.35, n=2, taumax=0.125, stf=0.0, b=4.75, l0=1.58, l=1.85, dtmax=150, mr=1048.9, tr=-1629.0))  # noqa\nprint(heartmodel.left_ventricle.meca_material)\n\nprint(heartmodel.left_ventricle.ep_material)"
      ]
    },
    {
      "cell_type": "markdown",
      "metadata": {},
      "source": [
        "Create a new part and set material\n\n"
      ]
    },
    {
      "cell_type": "code",
      "execution_count": null,
      "metadata": {
        "collapsed": false
      },
      "outputs": [],
      "source": [
        "# A new part can be created by elements IDs\nids = np.where(heartmodel.mesh.point_data_to_cell_data()[\"uvc_longitudinal\"] > 0.9)[0]\nnew_part: Part = heartmodel.create_part_by_ids(ids, \"new_part\")\n\n# Show the part\nplotter = heartmodel.plot_part(new_part)"
      ]
    },
    {
      "cell_type": "markdown",
      "metadata": {},
      "source": [
        "<img src=\"file://_static/images/show_a_part.png\" width=\"400pt\" align=\"center\">\n\n"
      ]
    },
    {
      "cell_type": "code",
      "execution_count": null,
      "metadata": {
        "collapsed": false
      },
      "outputs": [],
      "source": [
        "## set passive anisotropic material for it\nnew_part.fiber = True\nnew_part.active = False\nnew_part.meca_material = passive_mat\n## and set it to an EP insulator\nnew_part.ep_material = epinsulator\n\nprint(new_part.meca_material)\nprint(new_part.ep_material)"
      ]
    }
  ],
  "metadata": {
    "kernelspec": {
      "display_name": "Python 3",
      "language": "python",
      "name": "python3"
    },
    "language_info": {
      "codemirror_mode": {
        "name": "ipython",
        "version": 3
      },
      "file_extension": ".py",
      "mimetype": "text/x-python",
      "name": "python",
      "nbconvert_exporter": "python",
      "pygments_lexer": "ipython3",
      "version": "3.11.11"
    }
  },
  "nbformat": 4,
  "nbformat_minor": 0
}